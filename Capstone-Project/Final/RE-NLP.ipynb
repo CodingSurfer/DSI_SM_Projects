{
 "cells": [
  {
   "cell_type": "markdown",
   "metadata": {},
   "source": [
    "# General Assembly - Santa Monica\n",
    "## Data Science Immersive - Summer 2016\n",
    "\n",
    "## Capstone Project\n",
    "### Tiffany Wilson\n",
    "\n",
    "Prepare the data for modeling.  The text will need to be cleaned, tokenized, and then a bag of words will need to be created."
   ]
  },
  {
   "cell_type": "code",
   "execution_count": 1,
   "metadata": {
    "collapsed": false
   },
   "outputs": [],
   "source": [
    "import logging\n",
    "import psycopg2\n",
    "import datetime\n",
    "from string import find, digits, maketrans, punctuation\n",
    "import os\n",
    "from types import *\n",
    "from gensim.models.ldamodel import LdaModel\n",
    "from gensim import corpora\n",
    "from gensim import matutils\n",
    "from gensim.models.phrases import Phrases\n",
    "from gensim import models, similarities\n",
    "from sklearn.feature_extraction.text import CountVectorizer, TfidfVectorizer\n",
    "from sklearn.decomposition import LatentDirichletAllocation\n",
    "from sklearn.decomposition import TruncatedSVD\n",
    "from sklearn.preprocessing import LabelEncoder\n",
    "from sklearn.preprocessing import StandardScaler\n",
    "from sklearn.cross_validation import train_test_split\n",
    "from sklearn.feature_extraction.text import TfidfTransformer\n",
    "from sklearn.naive_bayes import MultinomialNB\n",
    "from sklearn.cross_validation import cross_val_score\n",
    "from pandas_confusion import ConfusionMatrix\n",
    "from wordcloud import WordCloud\n",
    "import numpy as np\n",
    "import matplotlib.pyplot as plt\n",
    "%matplotlib inline\n",
    "from nltk import tokenize\n",
    "from nltk.corpus import stopwords\n",
    "import pandas as pd\n",
    "from bs4 import BeautifulSoup\n",
    "from getpass import getpass\n",
    "import re\n",
    "import pyLDAvis\n",
    "import pyLDAvis.sklearn\n",
    "pyLDAvis.enable_notebook()"
   ]
  },
  {
   "cell_type": "code",
   "execution_count": 2,
   "metadata": {
    "collapsed": true
   },
   "outputs": [],
   "source": [
    "# Initialize the logger\n",
    "SYS_NAME = 'NLP Property Desc Analysis V1.0'\n",
    "logging.basicConfig(format='%(asctime)s : %(levelname)s : %(message)s', filename='RE-NLP.log', level=logging.DEBUG)\n",
    "logging.captureWarnings(True)\n",
    "\n",
    "stops = set(stopwords.words(\"english\")) "
   ]
  },
  {
   "cell_type": "code",
   "execution_count": 3,
   "metadata": {
    "collapsed": false
   },
   "outputs": [],
   "source": [
    "class docProcessor:\n",
    "    # The class will process a 'document'.  \n",
    "    # The processing includes:\n",
    "    # * removing any stopwords from the given list\n",
    "    # * changing the case to lower\n",
    "    # * removing punctuation*\n",
    "    # * removing non-ASCII characters\n",
    "    # * removing numeric digits IF specified to do so\n",
    "    # * tokenizing the given documents and returning the results based on the rtnType.\n",
    "    #\n",
    "    #  rtnType - this specifies how the cleaned and tokenized doccument should be returned.\n",
    "    #            If the rtnType = 'word' (default), then the results will be each word cleaned, tokenized and returned in a single list.\n",
    "    #            If the rtnType = 'sentence', then the results will be a list of lists, where the text of each sentence is cleaned, tokenized,\n",
    "    #                              and returned is in its own list.\n",
    "    # EXAMPLE 1:  rtnType = 'word', document = 'The quick brown fox ran away. I will call you?' (ASSUMPTION:  stopwords are being removed)\n",
    "    #             OUTPUT:  ['quick','brown','fox','ran','away','will','call']\n",
    "    #\n",
    "    # EXAMPLE 2:  rtnType = 'sentence', document = 'The quick brown fox ran away. I will call you?' (ASSUMPTION:  stopwords are being removed)\n",
    "    #             OUTPUT:  [[quick','brown','fox','ran','away'],[will','call']]\n",
    "    \n",
    "    def __init__(self, rtnType='word', stopwordList=[], removeNumbers=True):\n",
    "        if rtnType.lower() in ['word','sentence']:\n",
    "            self.lrtnType = rtnType.lower()\n",
    "        else:\n",
    "            self.lrtnType - 'word'  #if given return type is not valid, default to 'word'\n",
    "        self.lstopwordSet = set(stopwordList)\n",
    "        self.lremoveNumbers=removeNumbers\n",
    "    \n",
    "    def removeDigits(self,docString):\n",
    "        # Remove numeric digits from the givien string.\n",
    "        if self.lremoveNumbers:\n",
    "            return docString.translate(None, digits)\n",
    "        else:\n",
    "            return docString\n",
    "    \n",
    "    def removeStopwords(self,docString):\n",
    "        if len(self.lstopwordSet) > 0:\n",
    "            return \" \".join([word for word in docString.split() if not word in self.lstopwordSet])\n",
    "        else:\n",
    "            return docString\n",
    "    \n",
    "    def removePunctuation(self,docString):\n",
    "        return docString.translate(maketrans(\"\",\"\"), punctuation)\n",
    "    \n",
    "    def removeNonAscii(self,docString):\n",
    "        return re.sub(r'[^\\x00-\\x7f]',r'', docString)\n",
    "        \n",
    "    def transform(self,docString):\n",
    "        # Process the given docString\n",
    "        if (type(docString) == NoneType): return []\n",
    "        if (docString.strip() == ''): return []\n",
    "        \n",
    "        # Remove any non-ascii characters.\n",
    "        tempDoc = self.removeNonAscii(docString)\n",
    "                   \n",
    "        # Change everything to lower case.\n",
    "        tempDoc = tempDoc.lower()\n",
    "        \n",
    "        # Remove stopwords.\n",
    "        tempDoc = self.removeStopwords(tempDoc)\n",
    "        \n",
    "        # Remove numbers, if instructed to do so.\n",
    "        tempDoc = self.removeDigits(tempDoc)\n",
    "        \n",
    "        # If the return type is words, then remove punctuation and then tokenize.\n",
    "        if (self.lrtnType == 'word'):\n",
    "            # remove punctuation.\n",
    "            tempDoc = self.removePunctuation(tempDoc)\n",
    "            \n",
    "            # tokenize and return the list of tokens.\n",
    "            return tokenize.word_tokenize(tempDoc)\n",
    "        else:\n",
    "            # return type is sentences, so tokenize the sentences, and then remove punctuation.\n",
    "            tempSentenceList = tokenize.sent_tokenize(tempDoc)\n",
    "            returnList = []\n",
    "            for sentence in tempSentenceList:  # Go through each sentence and remove punctuation, then tokenize it.\n",
    "                tempDoc = self.removePunctuation(sentence)\n",
    "                returnList.append(tokenize.word_tokenize(tempDoc))\n",
    "            return returnList"
   ]
  },
  {
   "cell_type": "code",
   "execution_count": 4,
   "metadata": {
    "collapsed": false
   },
   "outputs": [],
   "source": [
    "def printLSATopics(lsaModel,vectorizer, geoCode):\n",
    "    dictResults={'numTopics':len(lsaModel.components_),  # Number of topics.\n",
    "                'topicItems':[]}  # List of lists of topicItems\n",
    "    print 'TOP ' + str(dictResults['numTopics']) + ' TOPICS FOR PROPERTIES IN ' + geoCode.upper() + \":\"\n",
    "    terms = vectorizer.get_feature_names()\n",
    "    for i, comp in enumerate(lsaModel.components_):\n",
    "        termsInComp = zip(terms,comp)\n",
    "        sortedTerms = sorted(termsInComp, key=lambda x: x[1], reverse=True) [:10]\n",
    "        print \"TOPIC %d: \" % (i+1)\n",
    "        termList=[]\n",
    "        for term in sortedTerms:\n",
    "            print term[0]\n",
    "            termList.append(term[0])\n",
    "        print \" \"\n",
    "        dictResults['topicItems'].append(termList)\n",
    "    return dictResults"
   ]
  },
  {
   "cell_type": "markdown",
   "metadata": {},
   "source": [
    "## Load and begin cleaning data for processing and modeling."
   ]
  },
  {
   "cell_type": "code",
   "execution_count": 5,
   "metadata": {
    "collapsed": false
   },
   "outputs": [
    {
     "name": "stdout",
     "output_type": "stream",
     "text": [
      "Please enter your password to log in to the database:········\n"
     ]
    }
   ],
   "source": [
    "# Get the data from the database.\n",
    "password = getpass(prompt='Please enter your password to log in to the database:')\n",
    "conn = psycopg2.connect('host=localhost dbname=re_ds user=tiffanydwilson password='+password+' port=5432')"
   ]
  },
  {
   "cell_type": "code",
   "execution_count": 6,
   "metadata": {
    "collapsed": false
   },
   "outputs": [
    {
     "data": {
      "text/html": [
       "<div>\n",
       "<table border=\"1\" class=\"dataframe\">\n",
       "  <thead>\n",
       "    <tr style=\"text-align: right;\">\n",
       "      <th></th>\n",
       "      <th>geo_code</th>\n",
       "      <th>mls_id</th>\n",
       "      <th>property_description</th>\n",
       "    </tr>\n",
       "  </thead>\n",
       "  <tbody>\n",
       "    <tr>\n",
       "      <th>0</th>\n",
       "      <td>GSB</td>\n",
       "      <td>12179033</td>\n",
       "      <td>Beautiful 3 bedroom property in a great Garden...</td>\n",
       "    </tr>\n",
       "    <tr>\n",
       "      <th>1</th>\n",
       "      <td>GSB</td>\n",
       "      <td>14746595</td>\n",
       "      <td>SHORT SALE Approved Price $389,000 as of 12/10...</td>\n",
       "    </tr>\n",
       "    <tr>\n",
       "      <th>2</th>\n",
       "      <td>GSB</td>\n",
       "      <td>14749597</td>\n",
       "      <td>Hello All; there was a typo for the price; ple...</td>\n",
       "    </tr>\n",
       "    <tr>\n",
       "      <th>3</th>\n",
       "      <td>GSB</td>\n",
       "      <td>14768785</td>\n",
       "      <td>Great stater home 2 bedroom 1 bath, convenient...</td>\n",
       "    </tr>\n",
       "    <tr>\n",
       "      <th>4</th>\n",
       "      <td>GSB</td>\n",
       "      <td>14769155</td>\n",
       "      <td>Lovely tri-level Townhome in gated community w...</td>\n",
       "    </tr>\n",
       "  </tbody>\n",
       "</table>\n",
       "</div>"
      ],
      "text/plain": [
       "  geo_code    mls_id                               property_description\n",
       "0      GSB  12179033  Beautiful 3 bedroom property in a great Garden...\n",
       "1      GSB  14746595  SHORT SALE Approved Price $389,000 as of 12/10...\n",
       "2      GSB  14749597  Hello All; there was a typo for the price; ple...\n",
       "3      GSB  14768785  Great stater home 2 bedroom 1 bath, convenient...\n",
       "4      GSB  14769155  Lovely tri-level Townhome in gated community w..."
      ]
     },
     "execution_count": 6,
     "metadata": {},
     "output_type": "execute_result"
    }
   ],
   "source": [
    "query = 'select geo_listings.geo_code, \\\n",
    "geo_listings.mls_id, \\\n",
    "listings.property_description \\\n",
    "from listings \\\n",
    "join geo_listings \\\n",
    "on listings.mls_id = geo_listings.mls_id \\\n",
    "order by geo_listings.geo_code asc, geo_listings.mls_id;'\n",
    "\n",
    "dfData = pd.read_sql(sql=query,con=conn)\n",
    "dfData.head()"
   ]
  },
  {
   "cell_type": "markdown",
   "metadata": {},
   "source": [
    "## Perform some exploratory data analysis."
   ]
  },
  {
   "cell_type": "code",
   "execution_count": 9,
   "metadata": {
    "collapsed": false
   },
   "outputs": [
    {
     "data": {
      "text/plain": [
       "(8054, 3)"
      ]
     },
     "execution_count": 9,
     "metadata": {},
     "output_type": "execute_result"
    }
   ],
   "source": [
    "# Rows and columns\n",
    "dfData.shape"
   ]
  },
  {
   "cell_type": "code",
   "execution_count": 10,
   "metadata": {
    "collapsed": false
   },
   "outputs": [
    {
     "data": {
      "text/plain": [
       "geo_code                object\n",
       "mls_id                  object\n",
       "property_description    object\n",
       "dtype: object"
      ]
     },
     "execution_count": 10,
     "metadata": {},
     "output_type": "execute_result"
    }
   ],
   "source": [
    "dfData.dtypes"
   ]
  },
  {
   "cell_type": "code",
   "execution_count": 11,
   "metadata": {
    "collapsed": false
   },
   "outputs": [
    {
     "data": {
      "text/html": [
       "<div>\n",
       "<table border=\"1\" class=\"dataframe\">\n",
       "  <thead>\n",
       "    <tr style=\"text-align: right;\">\n",
       "      <th></th>\n",
       "      <th>geo_code</th>\n",
       "      <th>mls_id</th>\n",
       "      <th>property_description</th>\n",
       "    </tr>\n",
       "  </thead>\n",
       "  <tbody>\n",
       "    <tr>\n",
       "      <th>count</th>\n",
       "      <td>8054</td>\n",
       "      <td>8054</td>\n",
       "      <td>8001</td>\n",
       "    </tr>\n",
       "    <tr>\n",
       "      <th>unique</th>\n",
       "      <td>3</td>\n",
       "      <td>8054</td>\n",
       "      <td>7950</td>\n",
       "    </tr>\n",
       "    <tr>\n",
       "      <th>top</th>\n",
       "      <td>GSB</td>\n",
       "      <td>PV15077573</td>\n",
       "      <td>12 NEW CONTEMPORARY TOWNHOUSES...NO INTERIOR U...</td>\n",
       "    </tr>\n",
       "    <tr>\n",
       "      <th>freq</th>\n",
       "      <td>3433</td>\n",
       "      <td>1</td>\n",
       "      <td>12</td>\n",
       "    </tr>\n",
       "  </tbody>\n",
       "</table>\n",
       "</div>"
      ],
      "text/plain": [
       "       geo_code      mls_id                               property_description\n",
       "count      8054        8054                                               8001\n",
       "unique        3        8054                                               7950\n",
       "top         GSB  PV15077573  12 NEW CONTEMPORARY TOWNHOUSES...NO INTERIOR U...\n",
       "freq       3433           1                                                 12"
      ]
     },
     "execution_count": 11,
     "metadata": {},
     "output_type": "execute_result"
    }
   ],
   "source": [
    "dfData.describe()"
   ]
  },
  {
   "cell_type": "code",
   "execution_count": 12,
   "metadata": {
    "collapsed": false
   },
   "outputs": [
    {
     "data": {
      "text/plain": [
       "object    3\n",
       "dtype: int64"
      ]
     },
     "execution_count": 12,
     "metadata": {},
     "output_type": "execute_result"
    }
   ],
   "source": [
    "dfData.get_dtype_counts()"
   ]
  },
  {
   "cell_type": "code",
   "execution_count": 13,
   "metadata": {
    "collapsed": false
   },
   "outputs": [
    {
     "data": {
      "text/plain": [
       "geo_code                8054\n",
       "mls_id                  8054\n",
       "property_description    8001\n",
       "dtype: int64"
      ]
     },
     "execution_count": 13,
     "metadata": {},
     "output_type": "execute_result"
    }
   ],
   "source": [
    "dfData.count()"
   ]
  },
  {
   "cell_type": "code",
   "execution_count": 14,
   "metadata": {
    "collapsed": false
   },
   "outputs": [
    {
     "data": {
      "text/plain": [
       "geo_code                8001\n",
       "mls_id                  8001\n",
       "property_description    8001\n",
       "dtype: int64"
      ]
     },
     "execution_count": 14,
     "metadata": {},
     "output_type": "execute_result"
    }
   ],
   "source": [
    "# Remove any rows with null values in the property_description\n",
    "dfCleaningData = dfData.dropna()\n",
    "dfCleaningData.count()"
   ]
  },
  {
   "cell_type": "code",
   "execution_count": 15,
   "metadata": {
    "collapsed": false
   },
   "outputs": [
    {
     "data": {
      "text/plain": [
       "array(['GSB', 'SBBeach', 'TheHill'], dtype=object)"
      ]
     },
     "execution_count": 15,
     "metadata": {},
     "output_type": "execute_result"
    }
   ],
   "source": [
    "# Get the unique geo_codes.\n",
    "geoCodeList = dfCleaningData['geo_code'].unique()\n",
    "geoCodeList"
   ]
  },
  {
   "cell_type": "markdown",
   "metadata": {},
   "source": [
    "## Try using Scikit Learn's Truncated SVD (LSA/LSI)"
   ]
  },
  {
   "cell_type": "markdown",
   "metadata": {
    "collapsed": false
   },
   "source": [
    "## Begin cleaning and prepping data."
   ]
  },
  {
   "cell_type": "markdown",
   "metadata": {},
   "source": [
    "Start with \"TheHill\" "
   ]
  },
  {
   "cell_type": "code",
   "execution_count": 16,
   "metadata": {
    "collapsed": false,
    "scrolled": false
   },
   "outputs": [
    {
     "name": "stdout",
     "output_type": "stream",
     "text": [
      "len(testParsedPD): 1389\n"
     ]
    }
   ],
   "source": [
    "dp = docProcessor(rtnType='word',stopwordList=stops)\n",
    "testParsedPD = [\" \".join(dp.transform(s)) for s in dfCleaningData[dfCleaningData['geo_code'] == 'TheHill']['property_description']]\n",
    "print 'len(testParsedPD): ' + str(len(testParsedPD))"
   ]
  },
  {
   "cell_type": "markdown",
   "metadata": {},
   "source": [
    "Create a TFIDF vector to pre-process the word data, so it is read for the Truncated SVD model."
   ]
  },
  {
   "cell_type": "code",
   "execution_count": 17,
   "metadata": {
    "collapsed": false
   },
   "outputs": [
    {
     "data": {
      "text/plain": [
       "<1x170530 sparse matrix of type '<type 'numpy.float64'>'\n",
       "\twith 72 stored elements in Compressed Sparse Row format>"
      ]
     },
     "execution_count": 17,
     "metadata": {},
     "output_type": "execute_result"
    }
   ],
   "source": [
    "vectorizer = TfidfVectorizer(stop_words=stops, use_idf=True, ngram_range=(1,3), max_df=0.2)\n",
    "X = vectorizer.fit_transform(testParsedPD)\n",
    "X[0]"
   ]
  },
  {
   "cell_type": "code",
   "execution_count": 18,
   "metadata": {
    "collapsed": false
   },
   "outputs": [
    {
     "data": {
      "text/plain": [
       "(1389, 170530)"
      ]
     },
     "execution_count": 18,
     "metadata": {},
     "output_type": "execute_result"
    }
   ],
   "source": [
    "X.shape"
   ]
  },
  {
   "cell_type": "markdown",
   "metadata": {},
   "source": [
    "Train the Truncated SVD model."
   ]
  },
  {
   "cell_type": "code",
   "execution_count": 19,
   "metadata": {
    "collapsed": false
   },
   "outputs": [
    {
     "data": {
      "text/plain": [
       "TruncatedSVD(algorithm='randomized', n_components=10, n_iter=100,\n",
       "       random_state=None, tol=0.0)"
      ]
     },
     "execution_count": 19,
     "metadata": {},
     "output_type": "execute_result"
    }
   ],
   "source": [
    "lsa = TruncatedSVD(n_components=10,n_iter=100)\n",
    "lsa.fit(X)"
   ]
  },
  {
   "cell_type": "markdown",
   "metadata": {},
   "source": [
    "Review the topics generated by the Truncated SVD model."
   ]
  },
  {
   "cell_type": "code",
   "execution_count": 20,
   "metadata": {
    "collapsed": false
   },
   "outputs": [
    {
     "name": "stdout",
     "output_type": "stream",
     "text": [
      "TOP 10 TOPICS FOR PROPERTIES IN THE HILL:\n",
      "TOPIC 1: \n",
      "huge\n",
      "school\n",
      "back\n",
      "unit\n",
      "property\n",
      "newer\n",
      "bathrooms\n",
      "outdoor\n",
      "high\n",
      "front\n",
      " \n",
      "TOPIC 2: \n",
      "property\n",
      "updated\n",
      "school\n",
      "award\n",
      "including\n",
      "include\n",
      "guest\n",
      "close\n",
      "full\n",
      "peninsula\n",
      " \n",
      "TOPIC 3: \n",
      "formal dining room\n",
      "high\n",
      "award winning\n",
      "french doors\n",
      "back\n",
      "gated\n",
      "deck\n",
      "panoramic\n",
      "spectacular\n",
      "double\n",
      " \n",
      "TOPIC 4: \n",
      "community\n",
      "shower\n",
      "flooring\n",
      "upstairs\n",
      "gorgeous\n",
      "walkin\n",
      "wet\n",
      "open floor\n",
      "panoramic\n",
      "three\n",
      " \n",
      "TOPIC 5: \n",
      "opens\n",
      "close\n",
      "shopping\n",
      "cabinets\n",
      "glass\n",
      "updated\n",
      "gated\n",
      "ceiling\n",
      "street\n",
      "system\n",
      " \n",
      "TOPIC 6: \n",
      "baths\n",
      "entry\n",
      "easy\n",
      "well\n",
      "school\n",
      "gated\n",
      "quiet\n",
      "recessed lighting\n",
      "style\n",
      "huge\n",
      " \n",
      "TOPIC 7: \n",
      "lighting\n",
      "shopping\n",
      "double\n",
      "ft\n",
      "french\n",
      "vaulted\n",
      "entry\n",
      "close\n",
      "bar\n",
      "top\n",
      " \n",
      "TOPIC 8: \n",
      "huge\n",
      "top\n",
      "light\n",
      "steel\n",
      "street\n",
      "tops\n",
      "flat\n",
      "formal dining room\n",
      "living room fireplace\n",
      "counter\n",
      " \n",
      "TOPIC 9: \n",
      "high\n",
      "back\n",
      "newer\n",
      "bathrooms\n",
      "room fireplace\n",
      "including\n",
      "baths\n",
      "location\n",
      "pool spa\n",
      "recessed\n",
      " \n",
      "TOPIC 10: \n",
      "built\n",
      "updated\n",
      "offers\n",
      "shower\n",
      "bright\n",
      "door\n",
      "walk\n",
      "remodeled kitchen\n",
      "golf\n",
      "including\n",
      " \n"
     ]
    },
    {
     "data": {
      "text/plain": [
       "{'numTopics': 10,\n",
       " 'topicItems': [[u'huge',\n",
       "   u'school',\n",
       "   u'back',\n",
       "   u'unit',\n",
       "   u'property',\n",
       "   u'newer',\n",
       "   u'bathrooms',\n",
       "   u'outdoor',\n",
       "   u'high',\n",
       "   u'front'],\n",
       "  [u'property',\n",
       "   u'updated',\n",
       "   u'school',\n",
       "   u'award',\n",
       "   u'including',\n",
       "   u'include',\n",
       "   u'guest',\n",
       "   u'close',\n",
       "   u'full',\n",
       "   u'peninsula'],\n",
       "  [u'formal dining room',\n",
       "   u'high',\n",
       "   u'award winning',\n",
       "   u'french doors',\n",
       "   u'back',\n",
       "   u'gated',\n",
       "   u'deck',\n",
       "   u'panoramic',\n",
       "   u'spectacular',\n",
       "   u'double'],\n",
       "  [u'community',\n",
       "   u'shower',\n",
       "   u'flooring',\n",
       "   u'upstairs',\n",
       "   u'gorgeous',\n",
       "   u'walkin',\n",
       "   u'wet',\n",
       "   u'open floor',\n",
       "   u'panoramic',\n",
       "   u'three'],\n",
       "  [u'opens',\n",
       "   u'close',\n",
       "   u'shopping',\n",
       "   u'cabinets',\n",
       "   u'glass',\n",
       "   u'updated',\n",
       "   u'gated',\n",
       "   u'ceiling',\n",
       "   u'street',\n",
       "   u'system'],\n",
       "  [u'baths',\n",
       "   u'entry',\n",
       "   u'easy',\n",
       "   u'well',\n",
       "   u'school',\n",
       "   u'gated',\n",
       "   u'quiet',\n",
       "   u'recessed lighting',\n",
       "   u'style',\n",
       "   u'huge'],\n",
       "  [u'lighting',\n",
       "   u'shopping',\n",
       "   u'double',\n",
       "   u'ft',\n",
       "   u'french',\n",
       "   u'vaulted',\n",
       "   u'entry',\n",
       "   u'close',\n",
       "   u'bar',\n",
       "   u'top'],\n",
       "  [u'huge',\n",
       "   u'top',\n",
       "   u'light',\n",
       "   u'steel',\n",
       "   u'street',\n",
       "   u'tops',\n",
       "   u'flat',\n",
       "   u'formal dining room',\n",
       "   u'living room fireplace',\n",
       "   u'counter'],\n",
       "  [u'high',\n",
       "   u'back',\n",
       "   u'newer',\n",
       "   u'bathrooms',\n",
       "   u'room fireplace',\n",
       "   u'including',\n",
       "   u'baths',\n",
       "   u'location',\n",
       "   u'pool spa',\n",
       "   u'recessed'],\n",
       "  [u'built',\n",
       "   u'updated',\n",
       "   u'offers',\n",
       "   u'shower',\n",
       "   u'bright',\n",
       "   u'door',\n",
       "   u'walk',\n",
       "   u'remodeled kitchen',\n",
       "   u'golf',\n",
       "   u'including']]}"
      ]
     },
     "execution_count": 20,
     "metadata": {},
     "output_type": "execute_result"
    }
   ],
   "source": [
    "printLSATopics(lsa,vectorizer,'The Hill')"
   ]
  },
  {
   "cell_type": "markdown",
   "metadata": {},
   "source": [
    "Process data for \"SBBeach\"."
   ]
  },
  {
   "cell_type": "code",
   "execution_count": 21,
   "metadata": {
    "collapsed": false
   },
   "outputs": [
    {
     "name": "stdout",
     "output_type": "stream",
     "text": [
      "TOP 10 TOPICS FOR PROPERTIES IN SOUTH BAY BEACH CITIES:\n",
      "TOPIC 1: \n",
      "balcony\n",
      "separate\n",
      "top\n",
      "built\n",
      "enjoy\n",
      "walkin\n",
      "wood\n",
      "back\n",
      "counter\n",
      "view\n",
      " \n",
      "TOPIC 2: \n",
      "comes\n",
      "steel appliances\n",
      "glass\n",
      "top\n",
      "counter\n",
      "water\n",
      "award winning\n",
      "tub\n",
      "bright\n",
      "back\n",
      " \n",
      "TOPIC 3: \n",
      "south\n",
      "recessed\n",
      "see\n",
      "ft\n",
      "gas\n",
      "redondo beach\n",
      "open floor plan\n",
      "village\n",
      "property\n",
      "house\n",
      " \n",
      "TOPIC 4: \n",
      "enjoy\n",
      "also\n",
      "top\n",
      "lighting\n",
      "full\n",
      "updated\n",
      "guest\n",
      "three\n",
      "parking\n",
      "main\n",
      " \n",
      "TOPIC 5: \n",
      "school\n",
      "huge\n",
      "dining room\n",
      "stainless steel appliances\n",
      "upgraded\n",
      "house\n",
      "street\n",
      "vaulted ceilings\n",
      "attached\n",
      "recessed\n",
      " \n",
      "TOPIC 6: \n",
      "built\n",
      "vaulted ceilings\n",
      "townhome\n",
      "updated\n",
      "tub\n",
      "ocean views\n",
      "single\n",
      "top\n",
      "gorgeous\n",
      "builtin\n",
      " \n",
      "TOPIC 7: \n",
      "enjoy\n",
      "spa\n",
      "balcony\n",
      "parking\n",
      "shopping\n",
      "formal\n",
      "wood\n",
      "updated\n",
      "ceiling\n",
      "dining room\n",
      " \n",
      "TOPIC 8: \n",
      "close\n",
      "separate\n",
      "stainless steel appliances\n",
      "tub\n",
      "counter\n",
      "tops\n",
      "steel appliances\n",
      "plenty\n",
      "parking\n",
      "street\n",
      " \n",
      "TOPIC 9: \n",
      "balcony\n",
      "system\n",
      "winning\n",
      "tub\n",
      "pool\n",
      "west\n",
      "tile\n",
      "view\n",
      "award\n",
      "entry\n",
      " \n",
      "TOPIC 10: \n",
      "stainless steel appliances\n",
      "tile\n",
      "upgraded\n",
      "formal\n",
      "door\n",
      "enjoy\n",
      "steel appliances\n",
      "west\n",
      "glass\n",
      "quiet\n",
      " \n"
     ]
    },
    {
     "data": {
      "text/plain": [
       "{'numTopics': 10,\n",
       " 'topicItems': [[u'balcony',\n",
       "   u'separate',\n",
       "   u'top',\n",
       "   u'built',\n",
       "   u'enjoy',\n",
       "   u'walkin',\n",
       "   u'wood',\n",
       "   u'back',\n",
       "   u'counter',\n",
       "   u'view'],\n",
       "  [u'comes',\n",
       "   u'steel appliances',\n",
       "   u'glass',\n",
       "   u'top',\n",
       "   u'counter',\n",
       "   u'water',\n",
       "   u'award winning',\n",
       "   u'tub',\n",
       "   u'bright',\n",
       "   u'back'],\n",
       "  [u'south',\n",
       "   u'recessed',\n",
       "   u'see',\n",
       "   u'ft',\n",
       "   u'gas',\n",
       "   u'redondo beach',\n",
       "   u'open floor plan',\n",
       "   u'village',\n",
       "   u'property',\n",
       "   u'house'],\n",
       "  [u'enjoy',\n",
       "   u'also',\n",
       "   u'top',\n",
       "   u'lighting',\n",
       "   u'full',\n",
       "   u'updated',\n",
       "   u'guest',\n",
       "   u'three',\n",
       "   u'parking',\n",
       "   u'main'],\n",
       "  [u'school',\n",
       "   u'huge',\n",
       "   u'dining room',\n",
       "   u'stainless steel appliances',\n",
       "   u'upgraded',\n",
       "   u'house',\n",
       "   u'street',\n",
       "   u'vaulted ceilings',\n",
       "   u'attached',\n",
       "   u'recessed'],\n",
       "  [u'built',\n",
       "   u'vaulted ceilings',\n",
       "   u'townhome',\n",
       "   u'updated',\n",
       "   u'tub',\n",
       "   u'ocean views',\n",
       "   u'single',\n",
       "   u'top',\n",
       "   u'gorgeous',\n",
       "   u'builtin'],\n",
       "  [u'enjoy',\n",
       "   u'spa',\n",
       "   u'balcony',\n",
       "   u'parking',\n",
       "   u'shopping',\n",
       "   u'formal',\n",
       "   u'wood',\n",
       "   u'updated',\n",
       "   u'ceiling',\n",
       "   u'dining room'],\n",
       "  [u'close',\n",
       "   u'separate',\n",
       "   u'stainless steel appliances',\n",
       "   u'tub',\n",
       "   u'counter',\n",
       "   u'tops',\n",
       "   u'steel appliances',\n",
       "   u'plenty',\n",
       "   u'parking',\n",
       "   u'street'],\n",
       "  [u'balcony',\n",
       "   u'system',\n",
       "   u'winning',\n",
       "   u'tub',\n",
       "   u'pool',\n",
       "   u'west',\n",
       "   u'tile',\n",
       "   u'view',\n",
       "   u'award',\n",
       "   u'entry'],\n",
       "  [u'stainless steel appliances',\n",
       "   u'tile',\n",
       "   u'upgraded',\n",
       "   u'formal',\n",
       "   u'door',\n",
       "   u'enjoy',\n",
       "   u'steel appliances',\n",
       "   u'west',\n",
       "   u'glass',\n",
       "   u'quiet']]}"
      ]
     },
     "execution_count": 21,
     "metadata": {},
     "output_type": "execute_result"
    }
   ],
   "source": [
    "testParsedPD = [\" \".join(dp.transform(s)) for s in dfCleaningData[dfCleaningData['geo_code'] == 'SBBeach']['property_description']]\n",
    "\n",
    "vectorizer = TfidfVectorizer(stop_words=stops, use_idf=True, ngram_range=(1,3), max_df=0.2)\n",
    "X = vectorizer.fit_transform(testParsedPD)\n",
    "\n",
    "lsa = TruncatedSVD(n_components=10,n_iter=100)\n",
    "lsa.fit(X)\n",
    "\n",
    "printLSATopics(lsa,vectorizer,'South Bay Beach Cities')"
   ]
  },
  {
   "cell_type": "markdown",
   "metadata": {},
   "source": [
    "Process data for \"GSB\"."
   ]
  },
  {
   "cell_type": "code",
   "execution_count": 22,
   "metadata": {
    "collapsed": false
   },
   "outputs": [
    {
     "name": "stdout",
     "output_type": "stream",
     "text": [
      "TOP 10 TOPICS FOR PROPERTIES IN GREATER SOUTH BAY CITIES:\n",
      "TOPIC 1: \n",
      "newer\n",
      "house\n",
      "pool\n",
      "custom\n",
      "property\n",
      "family room\n",
      "lighting\n",
      "complex\n",
      "front\n",
      "attached\n",
      " \n",
      "TOPIC 2: \n",
      "property\n",
      "street\n",
      "paint\n",
      "lighting\n",
      "perfect\n",
      "floor plan\n",
      "recessed lighting\n",
      "house\n",
      "master suite\n",
      "attached\n",
      " \n",
      "TOPIC 3: \n",
      "property\n",
      "school\n",
      "pool\n",
      "park\n",
      "also\n",
      "ceiling\n",
      "bedrooms baths\n",
      "brand\n",
      "desirable\n",
      "walkin closet\n",
      " \n",
      "TOPIC 4: \n",
      "newer\n",
      "tops\n",
      "park\n",
      "upgraded\n",
      "shower\n",
      "complex\n",
      "quiet\n",
      "bedroom bath\n",
      "dual\n",
      "end\n",
      " \n",
      "TOPIC 5: \n",
      "lot\n",
      "pool\n",
      "ceilings\n",
      "lighting\n",
      "steel\n",
      "suite\n",
      "sq\n",
      "sink\n",
      "recessed\n",
      "lovely\n",
      " \n",
      "TOPIC 6: \n",
      "baths\n",
      "counter tops\n",
      "tops\n",
      "street\n",
      "detached\n",
      "also\n",
      "stainless steel\n",
      "school\n",
      "recessed\n",
      "direct\n",
      " \n",
      "TOPIC 7: \n",
      "floor plan\n",
      "upgraded\n",
      "family room\n",
      "stainless steel\n",
      "property\n",
      "laundry room\n",
      "lots\n",
      "upstairs\n",
      "stainless steel appliances\n",
      "balcony\n",
      " \n",
      "TOPIC 8: \n",
      "front\n",
      "hardwood floors\n",
      "level\n",
      "also\n",
      "schools\n",
      "location\n",
      "nice\n",
      "counters\n",
      "family room\n",
      "central\n",
      " \n",
      "TOPIC 9: \n",
      "front\n",
      "also\n",
      "custom\n",
      "doors\n",
      "baths\n",
      "lighting\n",
      "upgraded\n",
      "spa\n",
      "level\n",
      "washer dryer\n",
      " \n",
      "TOPIC 10: \n",
      "light\n",
      "upgraded\n",
      "level\n",
      "air\n",
      "front\n",
      "central\n",
      "easy\n",
      "suite\n",
      "entertaining\n",
      "hardwood floors\n",
      " \n"
     ]
    },
    {
     "data": {
      "text/plain": [
       "{'numTopics': 10,\n",
       " 'topicItems': [[u'newer',\n",
       "   u'house',\n",
       "   u'pool',\n",
       "   u'custom',\n",
       "   u'property',\n",
       "   u'family room',\n",
       "   u'lighting',\n",
       "   u'complex',\n",
       "   u'front',\n",
       "   u'attached'],\n",
       "  [u'property',\n",
       "   u'street',\n",
       "   u'paint',\n",
       "   u'lighting',\n",
       "   u'perfect',\n",
       "   u'floor plan',\n",
       "   u'recessed lighting',\n",
       "   u'house',\n",
       "   u'master suite',\n",
       "   u'attached'],\n",
       "  [u'property',\n",
       "   u'school',\n",
       "   u'pool',\n",
       "   u'park',\n",
       "   u'also',\n",
       "   u'ceiling',\n",
       "   u'bedrooms baths',\n",
       "   u'brand',\n",
       "   u'desirable',\n",
       "   u'walkin closet'],\n",
       "  [u'newer',\n",
       "   u'tops',\n",
       "   u'park',\n",
       "   u'upgraded',\n",
       "   u'shower',\n",
       "   u'complex',\n",
       "   u'quiet',\n",
       "   u'bedroom bath',\n",
       "   u'dual',\n",
       "   u'end'],\n",
       "  [u'lot',\n",
       "   u'pool',\n",
       "   u'ceilings',\n",
       "   u'lighting',\n",
       "   u'steel',\n",
       "   u'suite',\n",
       "   u'sq',\n",
       "   u'sink',\n",
       "   u'recessed',\n",
       "   u'lovely'],\n",
       "  [u'baths',\n",
       "   u'counter tops',\n",
       "   u'tops',\n",
       "   u'street',\n",
       "   u'detached',\n",
       "   u'also',\n",
       "   u'stainless steel',\n",
       "   u'school',\n",
       "   u'recessed',\n",
       "   u'direct'],\n",
       "  [u'floor plan',\n",
       "   u'upgraded',\n",
       "   u'family room',\n",
       "   u'stainless steel',\n",
       "   u'property',\n",
       "   u'laundry room',\n",
       "   u'lots',\n",
       "   u'upstairs',\n",
       "   u'stainless steel appliances',\n",
       "   u'balcony'],\n",
       "  [u'front',\n",
       "   u'hardwood floors',\n",
       "   u'level',\n",
       "   u'also',\n",
       "   u'schools',\n",
       "   u'location',\n",
       "   u'nice',\n",
       "   u'counters',\n",
       "   u'family room',\n",
       "   u'central'],\n",
       "  [u'front',\n",
       "   u'also',\n",
       "   u'custom',\n",
       "   u'doors',\n",
       "   u'baths',\n",
       "   u'lighting',\n",
       "   u'upgraded',\n",
       "   u'spa',\n",
       "   u'level',\n",
       "   u'washer dryer'],\n",
       "  [u'light',\n",
       "   u'upgraded',\n",
       "   u'level',\n",
       "   u'air',\n",
       "   u'front',\n",
       "   u'central',\n",
       "   u'easy',\n",
       "   u'suite',\n",
       "   u'entertaining',\n",
       "   u'hardwood floors']]}"
      ]
     },
     "execution_count": 22,
     "metadata": {},
     "output_type": "execute_result"
    }
   ],
   "source": [
    "testParsedPD = [\" \".join(dp.transform(s)) for s in dfCleaningData[dfCleaningData['geo_code'] == 'GSB']['property_description']]\n",
    "\n",
    "vectorizer = TfidfVectorizer(stop_words=stops, use_idf=True, ngram_range=(1,3), max_df=0.2)\n",
    "X = vectorizer.fit_transform(testParsedPD)\n",
    "\n",
    "lsa = TruncatedSVD(n_components=10,n_iter=100)\n",
    "lsa.fit(X)\n",
    "\n",
    "printLSATopics(lsa,vectorizer,'Greater South Bay Cities')"
   ]
  },
  {
   "cell_type": "markdown",
   "metadata": {},
   "source": [
    "Let's process the property descriptions for all 3 areas."
   ]
  },
  {
   "cell_type": "code",
   "execution_count": 23,
   "metadata": {
    "collapsed": false
   },
   "outputs": [
    {
     "name": "stdout",
     "output_type": "stream",
     "text": [
      "TOP 10 TOPICS FOR PROPERTIES IN GREATER SOUTH BAY CITIES:\n",
      "TOPIC 1: \n",
      "unit\n",
      "views\n",
      "ocean\n",
      "pool\n",
      "flooring\n",
      "house\n",
      "back\n",
      "newer\n",
      "tile\n",
      "location\n",
      " \n",
      "TOPIC 2: \n",
      "ocean\n",
      "unit\n",
      "views\n",
      "location\n",
      "view\n",
      "includes\n",
      "interior\n",
      "formal dining\n",
      "open floor plan\n",
      "dont\n",
      " \n",
      "TOPIC 3: \n",
      "steel appliances\n",
      "also\n",
      "upgraded\n",
      "lighting\n",
      "see\n",
      "stainless steel\n",
      "includes\n",
      "stainless steel appliances\n",
      "newer\n",
      "views\n",
      " \n",
      "TOPIC 4: \n",
      "house\n",
      "high\n",
      "baths\n",
      "three\n",
      "pool\n",
      "offers\n",
      "top\n",
      "includes\n",
      "ceiling\n",
      "complex\n",
      " \n",
      "TOPIC 5: \n",
      "unit\n",
      "property\n",
      "location\n",
      "complex\n",
      "restaurants\n",
      "nice\n",
      "separate\n",
      "recessed\n",
      "outdoor\n",
      "also\n",
      " \n",
      "TOPIC 6: \n",
      "spa\n",
      "upstairs\n",
      "pool\n",
      "lighting\n",
      "walk\n",
      "location\n",
      "community\n",
      "separate\n",
      "school\n",
      "built\n",
      " \n",
      "TOPIC 7: \n",
      "property\n",
      "well\n",
      "light\n",
      "stainless steel appliances\n",
      "quiet\n",
      "steel appliances\n",
      "see\n",
      "system\n",
      "outdoor\n",
      "spa\n",
      " \n",
      "TOPIC 8: \n",
      "newer\n",
      "house\n",
      "dining room\n",
      "counters\n",
      "separate\n",
      "built\n",
      "park\n",
      "dual\n",
      "steel\n",
      "double\n",
      " \n",
      "TOPIC 9: \n",
      "spa\n",
      "lighting\n",
      "dining room\n",
      "stainless steel appliances\n",
      "entry\n",
      "restaurants\n",
      "neighborhood\n",
      "pool\n",
      "desirable\n",
      "detached\n",
      " \n",
      "TOPIC 10: \n",
      "offers\n",
      "school\n",
      "view\n",
      "lots\n",
      "counter tops\n",
      "front\n",
      "balcony\n",
      "south\n",
      "wonderful\n",
      "light\n",
      " \n"
     ]
    },
    {
     "data": {
      "text/plain": [
       "{'numTopics': 10,\n",
       " 'topicItems': [[u'unit',\n",
       "   u'views',\n",
       "   u'ocean',\n",
       "   u'pool',\n",
       "   u'flooring',\n",
       "   u'house',\n",
       "   u'back',\n",
       "   u'newer',\n",
       "   u'tile',\n",
       "   u'location'],\n",
       "  [u'ocean',\n",
       "   u'unit',\n",
       "   u'views',\n",
       "   u'location',\n",
       "   u'view',\n",
       "   u'includes',\n",
       "   u'interior',\n",
       "   u'formal dining',\n",
       "   u'open floor plan',\n",
       "   u'dont'],\n",
       "  [u'steel appliances',\n",
       "   u'also',\n",
       "   u'upgraded',\n",
       "   u'lighting',\n",
       "   u'see',\n",
       "   u'stainless steel',\n",
       "   u'includes',\n",
       "   u'stainless steel appliances',\n",
       "   u'newer',\n",
       "   u'views'],\n",
       "  [u'house',\n",
       "   u'high',\n",
       "   u'baths',\n",
       "   u'three',\n",
       "   u'pool',\n",
       "   u'offers',\n",
       "   u'top',\n",
       "   u'includes',\n",
       "   u'ceiling',\n",
       "   u'complex'],\n",
       "  [u'unit',\n",
       "   u'property',\n",
       "   u'location',\n",
       "   u'complex',\n",
       "   u'restaurants',\n",
       "   u'nice',\n",
       "   u'separate',\n",
       "   u'recessed',\n",
       "   u'outdoor',\n",
       "   u'also'],\n",
       "  [u'spa',\n",
       "   u'upstairs',\n",
       "   u'pool',\n",
       "   u'lighting',\n",
       "   u'walk',\n",
       "   u'location',\n",
       "   u'community',\n",
       "   u'separate',\n",
       "   u'school',\n",
       "   u'built'],\n",
       "  [u'property',\n",
       "   u'well',\n",
       "   u'light',\n",
       "   u'stainless steel appliances',\n",
       "   u'quiet',\n",
       "   u'steel appliances',\n",
       "   u'see',\n",
       "   u'system',\n",
       "   u'outdoor',\n",
       "   u'spa'],\n",
       "  [u'newer',\n",
       "   u'house',\n",
       "   u'dining room',\n",
       "   u'counters',\n",
       "   u'separate',\n",
       "   u'built',\n",
       "   u'park',\n",
       "   u'dual',\n",
       "   u'steel',\n",
       "   u'double'],\n",
       "  [u'spa',\n",
       "   u'lighting',\n",
       "   u'dining room',\n",
       "   u'stainless steel appliances',\n",
       "   u'entry',\n",
       "   u'restaurants',\n",
       "   u'neighborhood',\n",
       "   u'pool',\n",
       "   u'desirable',\n",
       "   u'detached'],\n",
       "  [u'offers',\n",
       "   u'school',\n",
       "   u'view',\n",
       "   u'lots',\n",
       "   u'counter tops',\n",
       "   u'front',\n",
       "   u'balcony',\n",
       "   u'south',\n",
       "   u'wonderful',\n",
       "   u'light']]}"
      ]
     },
     "execution_count": 23,
     "metadata": {},
     "output_type": "execute_result"
    }
   ],
   "source": [
    "testParsedPD = [\" \".join(dp.transform(s)) for s in dfCleaningData['property_description']]\n",
    "\n",
    "vectorizer = TfidfVectorizer(stop_words=stops, use_idf=True, ngram_range=(1,3), max_df=0.2)\n",
    "X = vectorizer.fit_transform(testParsedPD)\n",
    "\n",
    "lsa = TruncatedSVD(n_components=10,n_iter=100)\n",
    "lsa.fit(X)\n",
    "\n",
    "printLSATopics(lsa,vectorizer,'Greater South Bay Cities')"
   ]
  },
  {
   "cell_type": "markdown",
   "metadata": {},
   "source": [
    "##  LDA with Scikit Learn & LDA Vis"
   ]
  },
  {
   "cell_type": "markdown",
   "metadata": {},
   "source": [
    "We will reuse the TFIDF matrix (X) for the LDA model."
   ]
  },
  {
   "cell_type": "code",
   "execution_count": 24,
   "metadata": {
    "collapsed": false
   },
   "outputs": [
    {
     "data": {
      "text/plain": [
       "LatentDirichletAllocation(batch_size=128, doc_topic_prior=None,\n",
       "             evaluate_every=-1, learning_decay=0.7,\n",
       "             learning_method='online', learning_offset=10.0,\n",
       "             max_doc_update_iter=100, max_iter=10, mean_change_tol=0.001,\n",
       "             n_jobs=1, n_topics=10, perp_tol=0.1, random_state=0,\n",
       "             topic_word_prior=None, total_samples=1000000.0, verbose=0)"
      ]
     },
     "execution_count": 24,
     "metadata": {},
     "output_type": "execute_result"
    }
   ],
   "source": [
    "# for TFIDF DTM\n",
    "lda_tfidf = LatentDirichletAllocation(n_topics=10, random_state=0)\n",
    "lda_tfidf.fit(X)"
   ]
  },
  {
   "cell_type": "code",
   "execution_count": 25,
   "metadata": {
    "collapsed": false
   },
   "outputs": [
    {
     "data": {
      "text/html": [
       "\n",
       "<link rel=\"stylesheet\" type=\"text/css\" href=\"https://cdn.rawgit.com/bmabey/pyLDAvis/files/ldavis.v1.0.0.css\">\n",
       "\n",
       "\n",
       "<div id=\"ldavis_el197243438350888315007547\"></div>\n",
       "<script type=\"text/javascript\">\n",
       "\n",
       "var ldavis_el197243438350888315007547_data = {\"plot.opts\": {\"xlab\": \"PC1\", \"ylab\": \"PC2\"}, \"topic.order\": [8, 6, 7, 3, 10, 9, 5, 4, 1, 2], \"token.table\": {\"Topic\": [1, 1, 1, 1, 1, 1, 1, 1, 1, 1, 1, 1, 1, 1, 1, 1, 1, 1, 1, 1, 1, 1, 1, 1, 1, 1, 1, 1, 1, 1], \"Freq\": [1.005276431343437, 0.75348762371987821, 0.74777259470543567, 0.99337191768907918, 0.75028721308945967, 0.74746984249837056, 0.99668907377968485, 0.98587651043440305, 0.74637923130284856, 1.0093778673839575, 0.74720654384146812, 1.0086841702093752, 0.74748005442182175, 0.99119511492347578, 1.0035590616892816, 1.0006237149758654, 0.75124602527284556, 1.005702593402277, 0.75032289343637282, 0.75032289760373827, 0.7527083414654846, 1.0164054817495669, 0.7515646735481738, 0.74732466293757482, 0.98963479814893396, 0.75187592916732859, 1.0114061532115901, 1.0094586281707156, 1.0167177396615739, 0.74729037722698277], \"Term\": [\"back\", \"bridge\", \"covered parking\", \"enjoy\", \"entertaining family friends\", \"eye\", \"flooring\", \"front\", \"highest\", \"house\", \"landscaped grounds\", \"location\", \"luxurious master suite\", \"newer\", \"ocean\", \"pool\", \"poolspa\", \"property\", \"quiet cul\", \"quiet cul de\", \"santa monica\", \"school\", \"smart\", \"space entertaining\", \"unit\", \"vacation\", \"view\", \"views\", \"walk\", \"woodburning\"]}, \"mdsDat\": {\"y\": [1.3203040043534237e-06, 0.00049817547876948197, -0.00030638377795200172, -0.00018393649225505163, -0.00013382653275334855, 1.5578078954006797e-05, 3.6614121060727672e-06, 5.2983492429892526e-06, 3.4934215786548204e-05, 6.5178964096652452e-05], \"cluster\": [1, 1, 1, 1, 1, 1, 1, 1, 1, 1], \"Freq\": [91.814300589451349, 1.0497568677642617, 0.99168196838160561, 0.95233085847983501, 0.93543688363814415, 0.8679735779862221, 0.86449463095260948, 0.86287986300432051, 0.84632958490550636, 0.81481517543613746], \"topics\": [1, 2, 3, 4, 5, 6, 7, 8, 9, 10], \"x\": [0.066130946580248734, -0.007795320611209541, -0.0075545362597021484, -0.0074513532364796058, -0.0074565423085476458, -0.0072073751924364646, -0.0072327700778533188, -0.0072227011503890656, -0.0071523701190516764, -0.0070579776245792338]}, \"R\": 15, \"lambda.step\": 0.01, \"tinfo\": {\"Category\": [\"Default\", \"Default\", \"Default\", \"Default\", \"Default\", \"Default\", \"Default\", \"Default\", \"Default\", \"Default\", \"Default\", \"Default\", \"Default\", \"Default\", \"Default\", \"Topic1\", \"Topic1\", \"Topic1\", \"Topic1\", \"Topic1\", \"Topic1\", \"Topic1\", \"Topic1\", \"Topic1\", \"Topic1\", \"Topic1\", \"Topic1\", \"Topic1\", \"Topic1\", \"Topic1\", \"Topic2\", \"Topic2\", \"Topic2\", \"Topic2\", \"Topic2\", \"Topic2\", \"Topic2\", \"Topic2\", \"Topic2\", \"Topic2\", \"Topic2\", \"Topic2\", \"Topic2\", \"Topic2\", \"Topic2\", \"Topic2\", \"Topic2\", \"Topic2\", \"Topic2\", \"Topic3\", \"Topic3\", \"Topic3\", \"Topic3\", \"Topic3\", \"Topic3\", \"Topic3\", \"Topic3\", \"Topic3\", \"Topic3\", \"Topic3\", \"Topic3\", \"Topic3\", \"Topic3\", \"Topic3\", \"Topic4\", \"Topic4\", \"Topic4\", \"Topic4\", \"Topic4\", \"Topic4\", \"Topic4\", \"Topic4\", \"Topic4\", \"Topic4\", \"Topic4\", \"Topic4\", \"Topic4\", \"Topic4\", \"Topic4\", \"Topic5\", \"Topic5\", \"Topic5\", \"Topic5\", \"Topic5\", \"Topic5\", \"Topic5\", \"Topic5\", \"Topic5\", \"Topic5\", \"Topic5\", \"Topic5\", \"Topic5\", \"Topic5\", \"Topic5\", \"Topic5\", \"Topic5\", \"Topic6\", \"Topic6\", \"Topic6\", \"Topic6\", \"Topic6\", \"Topic6\", \"Topic6\", \"Topic6\", \"Topic6\", \"Topic6\", \"Topic6\", \"Topic6\", \"Topic6\", \"Topic6\", \"Topic6\", \"Topic6\", \"Topic7\", \"Topic7\", \"Topic7\", \"Topic7\", \"Topic7\", \"Topic7\", \"Topic7\", \"Topic7\", \"Topic7\", \"Topic7\", \"Topic7\", \"Topic7\", \"Topic7\", \"Topic7\", \"Topic7\", \"Topic7\", \"Topic7\", \"Topic8\", \"Topic8\", \"Topic8\", \"Topic8\", \"Topic8\", \"Topic8\", \"Topic8\", \"Topic8\", \"Topic8\", \"Topic8\", \"Topic8\", \"Topic8\", \"Topic8\", \"Topic8\", \"Topic8\", \"Topic8\", \"Topic8\", \"Topic9\", \"Topic9\", \"Topic9\", \"Topic9\", \"Topic9\", \"Topic9\", \"Topic9\", \"Topic9\", \"Topic9\", \"Topic9\", \"Topic9\", \"Topic9\", \"Topic9\", \"Topic9\", \"Topic9\", \"Topic10\", \"Topic10\", \"Topic10\", \"Topic10\", \"Topic10\", \"Topic10\", \"Topic10\", \"Topic10\", \"Topic10\", \"Topic10\", \"Topic10\", \"Topic10\", \"Topic10\", \"Topic10\", \"Topic10\"], \"Term\": [\"eye\", \"highest\", \"covered parking\", \"vacation\", \"landscaped grounds\", \"smart\", \"bridge\", \"space entertaining\", \"poolspa\", \"quiet cul de\", \"quiet cul\", \"santa monica\", \"entertaining family friends\", \"woodburning\", \"luxurious master suite\", \"views\", \"ocean\", \"unit\", \"pool\", \"property\", \"house\", \"location\", \"view\", \"back\", \"front\", \"walk\", \"newer\", \"enjoy\", \"flooring\", \"school\", \"sold processing\", \"processing\", \"sale subject court\", \"subject court\", \"subject court confirmation\", \"contingencies\", \"probate sale subject\", \"court confirmation hearing\", \"confirmation hearing\", \"confirmation overbid\", \"court confirmation overbid\", \"confirmation hearing submit\", \"asis financing\", \"bid property\", \"prior court\", \"conditions still apply\", \"asking price first\", \"prior court date\", \"hearing\", \"info herein\", \"verified agent\", \"info herein verified\", \"herein verified\", \"herein verified agent\", \"agent seller\", \"verified agent seller\", \"patru best\", \"built construction inc\", \"designed miku dream\", \"designed miku\", \"patru best built\", \"miku\", \"patru\", \"best built construction\", \"construction craftsmanship evident\", \"construction craftsmanship\", \"masterpiece new\", \"masterpiece new construction\", \"new construction craftsmanship\", \"throughout every detail\", \"stunning contemporary new\", \"contemporary new\", \"ponds pool sauna\", \"greenery walk\", \"ways along\", \"greenery walk ways\", \"along ponds pool\", \"ways along ponds\", \"waterfall beautiful landscape\", \"meile\", \"paul\", \"living roomtwo\", \"living roomtwo car\", \"paul williams\", \"gated entries\", \"roomtwo\", \"roomtwo car\", \"defining moment\", \"still part\", \"everyone else\", \"hoa front property\", \"efficient great open\", \"floorplan leading spacious\", \"choices grocery stores\", \"unit single family\", \"defining\", \"listing agent showing\", \"agent showing instructions\", \"converted without\", \"without permits bedroomhome\", \"converted without permits\", \"nice bedrooms large\", \"permits bedroomhome\", \"bedroomhome nice bedrooms\", \"permits bedroomhome nice\", \"bedroomhome nice\", \"instructions additional information\", \"instructions additional\", \"email text\", \"please email text\", \"text listing agent\", \"blocked\", \"flowerlined\", \"streams flowerlined\", \"closet one covered\", \"flowerlined walking paths\", \"paths resortlike pool\", \"paths resortlike\", \"goodsized bedroom\", \"flowerlined walking\", \"flowing streams flowerlined\", \"walking paths resortlike\", \"streams flowerlined walking\", \"parking space easy\", \"ponderosa west treefilled\", \"goodsized bedroom oversized\", \"vermont ponderosa west\", \"flowing streams\", \"walk closet one\", \"contacted circumstances interior\", \"interior inspections\", \"occupied occupants\", \"sold auction\", \"circumstances interior\", \"disturbed contacted\", \"inspections available property\", \"disturbed\", \"contacted circumstances\", \"disturbed contacted circumstances\", \"circumstances interior inspections\", \"contacted\", \"occupants disturbed\", \"property occupied\", \"property occupied occupants\", \"occupants disturbed contacted\", \"sold property sold\", \"nice great area\", \"great area gardena\", \"nice great\", \"trader joes much\", \"hills hr fitness\", \"starbucks coffee bean\", \"bean amc rolling\", \"joes much\", \"hills hr\", \"whole foods starbucks\", \"amc rolling\", \"coffee bean amc\", \"foods starbucks coffee\", \"starbucks coffee\", \"hr fitness trader\", \"gallaretto\", \"circling\", \"round living room\", \"distinctive gallaretto style\", \"budweiser clydesdale circling\", \"clydesdale\", \"gallaretto style\", \"distinctive gallaretto\", \"unique round living\", \"unique round\", \"budweiser\", \"clydesdale circling\", \"budweiser clydesdale\", \"park strand\", \"noble\"], \"loglift\": [15.0, 14.0, 13.0, 12.0, 11.0, 10.0, 9.0, 8.0, 7.0, 6.0, 5.0, 4.0, 3.0, 2.0, 1.0, 0.085000000000000006, 0.085000000000000006, 0.085000000000000006, 0.084900000000000003, 0.084900000000000003, 0.084900000000000003, 0.084900000000000003, 0.084900000000000003, 0.084900000000000003, 0.084900000000000003, 0.084900000000000003, 0.0848, 0.0848, 0.0848, 0.0848, 3.1749000000000001, 3.1749000000000001, 2.7875999999999999, 2.7875999999999999, 2.7503000000000002, 2.6785000000000001, 2.6372, 2.6284000000000001, 2.6284000000000001, 2.4413999999999998, 2.4413999999999998, 2.4278, 2.4278, 2.4278, 2.4278, 2.4278, 2.4278, 2.4278, 1.2175, 2.6505999999999998, 2.589, 2.5114000000000001, 2.4834999999999998, 2.4342000000000001, 2.4089999999999998, 2.3496999999999999, 2.1661999999999999, 2.1661999999999999, 2.1661999999999999, 2.1661999999999999, 2.1661999999999999, 2.1661000000000001, 2.1659000000000002, 2.1638999999999999, 3.3069999999999999, 3.3069999999999999, 3.3069999999999999, 3.3069000000000002, 3.3069000000000002, 3.3069000000000002, 3.1375000000000002, 2.7534000000000001, 2.0171999999999999, 2.0171999999999999, 2.0171999999999999, 2.0171999999999999, 2.0171999999999999, 2.0171999999999999, 2.0171999999999999, 1.8142, 1.8027, 1.7713000000000001, 1.7713000000000001, 1.7696000000000001, 1.75, 1.7310000000000001, 1.7309000000000001, 1.6911, 1.6863999999999999, 1.6843999999999999, 1.6711, 1.6711, 1.6711, 1.6711, 1.6711, 1.6168, 2.0869, 2.0314999999999999, 1.9161999999999999, 1.9161999999999999, 1.9161999999999999, 1.9161999999999999, 1.9161999999999999, 1.9161999999999999, 1.9161999999999999, 1.9161999999999999, 1.7841, 1.7841, 1.7841, 1.7841, 1.7841, 1.7798, 2.2071000000000001, 2.2071000000000001, 2.2071000000000001, 2.2071000000000001, 2.2071000000000001, 2.2071000000000001, 2.2071000000000001, 2.2071000000000001, 2.2071000000000001, 2.2071000000000001, 2.2071000000000001, 2.0505, 2.0413999999999999, 2.0413999999999999, 2.0413999999999999, 1.6767000000000001, 1.6777, 2.3976999999999999, 2.3976999999999999, 2.3976999999999999, 2.3976999999999999, 2.3976999999999999, 2.3976999999999999, 2.3976999999999999, 2.3976999999999999, 2.3976999999999999, 2.3976999999999999, 2.3976999999999999, 2.3976999999999999, 2.3976999999999999, 2.3976999999999999, 2.3976999999999999, 2.3976999999999999, 2.3976999999999999, 2.2570999999999999, 2.2570999999999999, 1.9319999999999999, 1.8262, 1.8261000000000001, 1.8261000000000001, 1.8261000000000001, 1.8261000000000001, 1.8261000000000001, 1.8261000000000001, 1.8261000000000001, 1.8261000000000001, 1.8261000000000001, 1.8261000000000001, 1.8260000000000001, 2.3201999999999998, 2.0565000000000002, 2.0565000000000002, 2.0565000000000002, 2.0565000000000002, 2.0565000000000002, 2.0565000000000002, 2.0564, 2.0564, 2.0564, 2.0564, 2.0564, 2.0564, 1.9548000000000001, 1.9407000000000001], \"Freq\": [1.0, 1.0, 1.0, 1.0, 1.0, 1.0, 1.0, 1.0, 1.0, 1.0, 1.0, 1.0, 1.0, 1.0, 1.0, 35.649243541622837, 34.86243818493007, 33.332197812154263, 28.968487144465605, 28.822126018571922, 28.717132139165951, 27.745500267320953, 27.670792997383757, 26.844847699496363, 25.344709101427743, 24.575492289449706, 24.199758026210294, 24.146698978532395, 24.066289809009852, 23.599187151264264, 0.023199176209063664, 0.023199174938334205, 0.014603732658503742, 0.014603731621604461, 0.013655966951356333, 0.013301258216926789, 0.011893184235842704, 0.012018704667257492, 0.012018693757467105, 0.0098921575062686715, 0.0098921491540373083, 0.0093429041908229, 0.0093429040106900122, 0.009342904042341801, 0.0093429041343731003, 0.0093429042019882516, 0.0093429042158375344, 0.0093429042175785532, 0.0094308661198131312, 0.011333630415092767, 0.010556049564410658, 0.0096620983862303698, 0.0095290180339572522, 0.0088575158854341182, 0.0087459434347039733, 0.0080456736221742164, 0.0066505347927882435, 0.0066505244699847036, 0.0066504915843071805, 0.0066504717089831472, 0.006650466557817568, 0.0066502657578464096, 0.0066500147843161911, 0.0066466077969876466, 0.02444609009378837, 0.02444608416135198, 0.024446077933112664, 0.024446036821135563, 0.024446022485028324, 0.024446021007753085, 0.019560869240518072, 0.019194238787071466, 0.0053657975521592847, 0.0053657972604706991, 0.0053657967054229882, 0.0053657965460879873, 0.0053657961151115981, 0.0053657961569041615, 0.0053657961605248685, 0.0042341556331423232, 0.006641971514817718, 0.0040411249726646286, 0.004041124147411773, 0.0040392755695194162, 0.0039606043031973704, 0.0039595273459128045, 0.0039594746735361558, 0.0037130610337956275, 0.0036951032388767182, 0.0036871647480004118, 0.0036336796763219372, 0.0036336790347976759, 0.0036336787014446094, 0.0036336786379823401, 0.0036336786998461181, 0.0036372484442736214, 0.0053565627838300699, 0.0052072918723089371, 0.0043559576833373369, 0.0043559573787058537, 0.0043559573245599758, 0.0043559567855113324, 0.0043559565774133032, 0.0043559561946009328, 0.0043559556246064151, 0.0043559556223291742, 0.0037880735555334668, 0.0037880721816460372, 0.0037880716524735483, 0.0037880713632302914, 0.0037880710237611246, 0.0039600850170567964, 0.0059278640250214247, 0.0059278639709344251, 0.0059278637726276184, 0.0059278637856674202, 0.0059278639514575007, 0.0059278639214787173, 0.0059278637618916516, 0.0059278637881786667, 0.0059278638907941305, 0.0059278637354137857, 0.0059278635434240673, 0.00500878340636141, 0.004956721058972339, 0.004956720931851042, 0.0049567208848572903, 0.0057542305082208802, 0.005729400801770204, 0.007285753370085378, 0.0072857533866136619, 0.0072857534625917321, 0.0072857534854849195, 0.0072857534990841922, 0.0072857532725047547, 0.0072857533700200552, 0.007285753452087174, 0.0072857533649681294, 0.0072857534101749425, 0.0072857533693948149, 0.007285753337491133, 0.0072857532607984209, 0.0072857532392916662, 0.0072857532062431309, 0.0072857532786544969, 0.0072857533591286494, 0.0061163859118907975, 0.0061163854523622234, 0.0059035963875413433, 0.0038836581478395144, 0.0038836418246290792, 0.003883640530692796, 0.0038836404707258006, 0.0038836355458127312, 0.0038836183814752153, 0.0038836172680347409, 0.0038835909712597576, 0.0038835785335070388, 0.0038835623144328158, 0.0038835517361445757, 0.0038834920167160822, 0.0063408837752799889, 0.0048567175576273653, 0.0048567159852647831, 0.00485670934165918, 0.0048567090004361189, 0.0048567068492254535, 0.004856705326448882, 0.0048567043831872709, 0.0048567035430589853, 0.0048566974574577124, 0.0048566949326103812, 0.0048566924600790002, 0.0048566844603324761, 0.0042525916036774362, 0.0041870846375499189], \"Total\": [1.0, 1.0, 1.0, 1.0, 1.0, 1.0, 1.0, 1.0, 1.0, 1.0, 1.0, 1.0, 1.0, 1.0, 1.0, 35.662679970586993, 34.875874610792543, 33.345634229642059, 28.981923540258556, 28.835562511471142, 28.730568538381359, 27.758936669133977, 27.684229437491165, 26.858284107902126, 25.358145503420449, 24.588928691577209, 24.213194393974486, 24.160135365847829, 24.079726196843136, 23.612623535528492, 0.092372654841501117, 0.092372693714908902, 0.085652352892342645, 0.085652387507940964, 0.083136868498325689, 0.087003448975341513, 0.081071605201114214, 0.082654473013762969, 0.082655465342754419, 0.082015911543408884, 0.082016179790916591, 0.078522409808878382, 0.07852240920290085, 0.078522409549335856, 0.078522410425580336, 0.078522411564416889, 0.078522412363024749, 0.078522416055513591, 0.2659042490828562, 0.080692663589372909, 0.079932999352063341, 0.079068504445356763, 0.080183878575809178, 0.078306645234415453, 0.079291501549281676, 0.077395820673410734, 0.076860806263425327, 0.076861167946331979, 0.076862289408202819, 0.076862979985215518, 0.076863145933639604, 0.076870046606214368, 0.076878664220239798, 0.076995641177554294, 0.094021933183170869, 0.094022139522955975, 0.094022363131346376, 0.094023836239289282, 0.094024348039710576, 0.094024403900210413, 0.089125811569216618, 0.12841009337085019, 0.074953841959137221, 0.074953851512563258, 0.074953872982234743, 0.074953877572615693, 0.074953884961703771, 0.074953889353302092, 0.074953895138425888, 0.073765576928957161, 0.11705542265456839, 0.073485654892628732, 0.073485670379046686, 0.073582937571575052, 0.073574590037715118, 0.074965890613192088, 0.074973169695577185, 0.073159576271252344, 0.073152727505120196, 0.073140061927093269, 0.073043090846141481, 0.073043110544666556, 0.073043123204595051, 0.073043124736648646, 0.073043127313803219, 0.077195265434127219, 0.076568137372135012, 0.078676862271584616, 0.073853790494771449, 0.073853797200281693, 0.07385379660725129, 0.073853825951225596, 0.073853834354427841, 0.073853846090380898, 0.073853869620297219, 0.073853869586090484, 0.0732991554146524, 0.073299209372733709, 0.073299226808476795, 0.073299242761589209, 0.07329925836528009, 0.076952360252673449, 0.07544253921390888, 0.075442551399274693, 0.075442549276347748, 0.07544254951239461, 0.075442551919096532, 0.075442552443282074, 0.075442551204548597, 0.07544255169669542, 0.075442555391187036, 0.075442562464993729, 0.075442563280075522, 0.074549692266420942, 0.074450146276484067, 0.074450147220230217, 0.07445014867045302, 0.12445994248412501, 0.12380541027188627, 0.076775579177451134, 0.076775580364771584, 0.076775582206580081, 0.076775582652631208, 0.076775586348338656, 0.076775584027055657, 0.076775585171217464, 0.076775586692165262, 0.076775588387432009, 0.076775589308797978, 0.076775591507451155, 0.076775591299253557, 0.076775591114301808, 0.076775591481676911, 0.07677559261059462, 0.076775595300129215, 0.07677560129458795, 0.075634172161816476, 0.075634186516421176, 0.1010504630761959, 0.073894873379245898, 0.073895527961573018, 0.073895588128152057, 0.073895587898244228, 0.073895787669497726, 0.073896479845385277, 0.073896517524524571, 0.073897580815400488, 0.073898085184999823, 0.073898731381669733, 0.073899165604218442, 0.073901570080736514, 0.076460033823318452, 0.07623857077467984, 0.076238634962128918, 0.076238915352698916, 0.076238923978968087, 0.076239016885143493, 0.076239079947777053, 0.076239120355420575, 0.07623915151681783, 0.076239415752450176, 0.076239519278913606, 0.076239620890402371, 0.07623995757098373, 0.073897980189021606, 0.073796289457876862], \"logprob\": [15.0, 14.0, 13.0, 12.0, 11.0, 10.0, 9.0, 8.0, 7.0, 6.0, 5.0, 4.0, 3.0, 2.0, 1.0, -7.9233000000000002, -7.9455999999999998, -7.9904999999999999, -8.1308000000000007, -8.1358999999999995, -8.1395, -8.1738999999999997, -8.1766000000000005, -8.2068999999999992, -8.2644000000000002, -8.2952999999999992, -8.3107000000000006, -8.3129000000000008, -8.3162000000000003, -8.3358000000000008, -10.789400000000001, -10.789400000000001, -11.2523, -11.2523, -11.3194, -11.345700000000001, -11.457599999999999, -11.447100000000001, -11.447100000000001, -11.6418, -11.6418, -11.6989, -11.6989, -11.6989, -11.6989, -11.6989, -11.6989, -11.6989, -11.6896, -11.4489, -11.5199, -11.6084, -11.622299999999999, -11.695399999999999, -11.708, -11.791499999999999, -11.9819, -11.9819, -11.9819, -11.9819, -11.9819, -11.981999999999999, -11.981999999999999, -11.9825, -10.639699999999999, -10.639699999999999, -10.639699999999999, -10.639699999999999, -10.639699999999999, -10.639699999999999, -10.8626, -10.881500000000001, -12.1561, -12.1561, -12.1561, -12.1561, -12.1561, -12.1561, -12.1561, -12.3751, -11.924799999999999, -12.4217, -12.4217, -12.4222, -12.441800000000001, -12.4421, -12.4421, -12.506399999999999, -12.511200000000001, -12.513400000000001, -12.528, -12.528, -12.528, -12.528, -12.528, -12.526999999999999, -12.065099999999999, -12.093299999999999, -12.271800000000001, -12.271800000000001, -12.271800000000001, -12.271800000000001, -12.271800000000001, -12.2719, -12.2719, -12.2719, -12.4115, -12.4115, -12.4115, -12.4115, -12.4115, -12.367100000000001, -11.9597, -11.9597, -11.9597, -11.9597, -11.9597, -11.9597, -11.9597, -11.9597, -11.9597, -11.9597, -11.9597, -12.1282, -12.1386, -12.1386, -12.1386, -11.9894, -11.9938, -11.7516, -11.7516, -11.7516, -11.7516, -11.7516, -11.7516, -11.7516, -11.7516, -11.7516, -11.7516, -11.7516, -11.7516, -11.7516, -11.7516, -11.7516, -11.7516, -11.7516, -11.9072, -11.9072, -11.942600000000001, -12.3614, -12.3614, -12.3614, -12.3614, -12.3614, -12.3614, -12.3614, -12.3614, -12.3614, -12.3614, -12.3614, -12.3614, -11.8332, -12.0998, -12.0998, -12.0998, -12.0998, -12.0998, -12.0998, -12.0998, -12.0998, -12.0998, -12.0998, -12.0998, -12.0998, -12.232699999999999, -12.248200000000001]}};\n",
       "\n",
       "function LDAvis_load_lib(url, callback){\n",
       "  var s = document.createElement('script');\n",
       "  s.src = url;\n",
       "  s.async = true;\n",
       "  s.onreadystatechange = s.onload = callback;\n",
       "  s.onerror = function(){console.warn(\"failed to load library \" + url);};\n",
       "  document.getElementsByTagName(\"head\")[0].appendChild(s);\n",
       "}\n",
       "\n",
       "if(typeof(LDAvis) !== \"undefined\"){\n",
       "   // already loaded: just create the visualization\n",
       "   !function(LDAvis){\n",
       "       new LDAvis(\"#\" + \"ldavis_el197243438350888315007547\", ldavis_el197243438350888315007547_data);\n",
       "   }(LDAvis);\n",
       "}else if(typeof define === \"function\" && define.amd){\n",
       "   // require.js is available: use it to load d3/LDAvis\n",
       "   require.config({paths: {d3: \"https://cdnjs.cloudflare.com/ajax/libs/d3/3.5.5/d3.min\"}});\n",
       "   require([\"d3\"], function(d3){\n",
       "      window.d3 = d3;\n",
       "      LDAvis_load_lib(\"https://cdn.rawgit.com/bmabey/pyLDAvis/files/ldavis.v1.0.0.js\", function(){\n",
       "        new LDAvis(\"#\" + \"ldavis_el197243438350888315007547\", ldavis_el197243438350888315007547_data);\n",
       "      });\n",
       "    });\n",
       "}else{\n",
       "    // require.js not available: dynamically load d3 & LDAvis\n",
       "    LDAvis_load_lib(\"https://cdnjs.cloudflare.com/ajax/libs/d3/3.5.5/d3.min.js\", function(){\n",
       "         LDAvis_load_lib(\"https://cdn.rawgit.com/bmabey/pyLDAvis/files/ldavis.v1.0.0.js\", function(){\n",
       "                 new LDAvis(\"#\" + \"ldavis_el197243438350888315007547\", ldavis_el197243438350888315007547_data);\n",
       "            })\n",
       "         });\n",
       "}\n",
       "</script>"
      ],
      "text/plain": [
       "PreparedData(topic_coordinates=            Freq  cluster  topics         x         y\n",
       "topic                                                \n",
       "7      91.814301        1       1  0.066131  0.000001\n",
       "5       1.049757        1       2 -0.007795  0.000498\n",
       "6       0.991682        1       3 -0.007555 -0.000306\n",
       "2       0.952331        1       4 -0.007451 -0.000184\n",
       "9       0.935437        1       5 -0.007457 -0.000134\n",
       "8       0.867974        1       6 -0.007207  0.000016\n",
       "4       0.864495        1       7 -0.007233  0.000004\n",
       "3       0.862880        1       8 -0.007223  0.000005\n",
       "0       0.846330        1       9 -0.007152  0.000035\n",
       "1       0.814815        1      10 -0.007058  0.000065, topic_info=       Category       Freq                           Term      Total  loglift  \\\n",
       "term                                                                            \n",
       "199936  Default   1.000000                            eye   1.000000  15.0000   \n",
       "274097  Default   1.000000                        highest   1.000000  14.0000   \n",
       "140706  Default   1.000000                covered parking   1.000000  13.0000   \n",
       "607768  Default   1.000000                       vacation   1.000000  12.0000   \n",
       "317021  Default   1.000000             landscaped grounds   1.000000  11.0000   \n",
       "525696  Default   1.000000                          smart   1.000000  10.0000   \n",
       "82496   Default   1.000000                         bridge   1.000000   9.0000   \n",
       "532058  Default   1.000000             space entertaining   1.000000   8.0000   \n",
       "445678  Default   1.000000                        poolspa   1.000000   7.0000   \n",
       "460828  Default   1.000000                   quiet cul de   1.000000   6.0000   \n",
       "460827  Default   1.000000                      quiet cul   1.000000   5.0000   \n",
       "496664  Default   1.000000                   santa monica   1.000000   4.0000   \n",
       "187026  Default   1.000000    entertaining family friends   1.000000   3.0000   \n",
       "641975  Default   1.000000                    woodburning   1.000000   2.0000   \n",
       "355370  Default   1.000000         luxurious master suite   1.000000   1.0000   \n",
       "614319   Topic1  35.649244                          views  35.662680   0.0850   \n",
       "395209   Topic1  34.862438                          ocean  34.875875   0.0850   \n",
       "597257   Topic1  33.332198                           unit  33.345634   0.0850   \n",
       "443554   Topic1  28.968487                           pool  28.981924   0.0849   \n",
       "454813   Topic1  28.822126                       property  28.835563   0.0849   \n",
       "288166   Topic1  28.717132                          house  28.730569   0.0849   \n",
       "344521   Topic1  27.745500                       location  27.758937   0.0849   \n",
       "612283   Topic1  27.670793                           view  27.684229   0.0849   \n",
       "35664    Topic1  26.844848                           back  26.858284   0.0849   \n",
       "236148   Topic1  25.344709                          front  25.358146   0.0849   \n",
       "619337   Topic1  24.575492                           walk  24.588929   0.0849   \n",
       "388603   Topic1  24.199758                          newer  24.213194   0.0848   \n",
       "182361   Topic1  24.146699                          enjoy  24.160135   0.0848   \n",
       "224111   Topic1  24.066290                       flooring  24.079726   0.0848   \n",
       "497519   Topic1  23.599187                         school  23.612624   0.0848   \n",
       "...         ...        ...                            ...        ...      ...   \n",
       "391324   Topic9   0.006116                nice great area   0.075634   2.2571   \n",
       "258592   Topic9   0.006116             great area gardena   0.075634   2.2571   \n",
       "391323   Topic9   0.005904                     nice great   0.101050   1.9320   \n",
       "585645   Topic9   0.003884               trader joes much   0.073895   1.8262   \n",
       "275424   Topic9   0.003884               hills hr fitness   0.073896   1.8261   \n",
       "544315   Topic9   0.003884          starbucks coffee bean   0.073896   1.8261   \n",
       "60513    Topic9   0.003884               bean amc rolling   0.073896   1.8261   \n",
       "307708   Topic9   0.003884                      joes much   0.073896   1.8261   \n",
       "275423   Topic9   0.003884                       hills hr   0.073896   1.8261   \n",
       "633328   Topic9   0.003884          whole foods starbucks   0.073897   1.8261   \n",
       "16161    Topic9   0.003884                    amc rolling   0.073898   1.8261   \n",
       "117421   Topic9   0.003884                coffee bean amc   0.073898   1.8261   \n",
       "230303   Topic9   0.003884         foods starbucks coffee   0.073899   1.8261   \n",
       "544314   Topic9   0.003884               starbucks coffee   0.073899   1.8261   \n",
       "290704   Topic9   0.003883              hr fitness trader   0.073902   1.8260   \n",
       "241861  Topic10   0.006341                     gallaretto   0.076460   2.3202   \n",
       "109020  Topic10   0.004857                       circling   0.076239   2.0565   \n",
       "494031  Topic10   0.004857              round living room   0.076239   2.0565   \n",
       "161853  Topic10   0.004857   distinctive gallaretto style   0.076239   2.0565   \n",
       "84768   Topic10   0.004857  budweiser clydesdale circling   0.076239   2.0565   \n",
       "116659  Topic10   0.004857                     clydesdale   0.076239   2.0565   \n",
       "241864  Topic10   0.004857               gallaretto style   0.076239   2.0565   \n",
       "161852  Topic10   0.004857         distinctive gallaretto   0.076239   2.0564   \n",
       "597144  Topic10   0.004857            unique round living   0.076239   2.0564   \n",
       "597143  Topic10   0.004857                   unique round   0.076239   2.0564   \n",
       "84766   Topic10   0.004857                      budweiser   0.076240   2.0564   \n",
       "116660  Topic10   0.004857            clydesdale circling   0.076240   2.0564   \n",
       "84767   Topic10   0.004857           budweiser clydesdale   0.076240   2.0564   \n",
       "421194  Topic10   0.004253                    park strand   0.073898   1.9548   \n",
       "392683  Topic10   0.004187                          noble   0.073796   1.9407   \n",
       "\n",
       "        logprob  \n",
       "term             \n",
       "199936  15.0000  \n",
       "274097  14.0000  \n",
       "140706  13.0000  \n",
       "607768  12.0000  \n",
       "317021  11.0000  \n",
       "525696  10.0000  \n",
       "82496    9.0000  \n",
       "532058   8.0000  \n",
       "445678   7.0000  \n",
       "460828   6.0000  \n",
       "460827   5.0000  \n",
       "496664   4.0000  \n",
       "187026   3.0000  \n",
       "641975   2.0000  \n",
       "355370   1.0000  \n",
       "614319  -7.9233  \n",
       "395209  -7.9456  \n",
       "597257  -7.9905  \n",
       "443554  -8.1308  \n",
       "454813  -8.1359  \n",
       "288166  -8.1395  \n",
       "344521  -8.1739  \n",
       "612283  -8.1766  \n",
       "35664   -8.2069  \n",
       "236148  -8.2644  \n",
       "619337  -8.2953  \n",
       "388603  -8.3107  \n",
       "182361  -8.3129  \n",
       "224111  -8.3162  \n",
       "497519  -8.3358  \n",
       "...         ...  \n",
       "391324 -11.9072  \n",
       "258592 -11.9072  \n",
       "391323 -11.9426  \n",
       "585645 -12.3614  \n",
       "275424 -12.3614  \n",
       "544315 -12.3614  \n",
       "60513  -12.3614  \n",
       "307708 -12.3614  \n",
       "275423 -12.3614  \n",
       "633328 -12.3614  \n",
       "16161  -12.3614  \n",
       "117421 -12.3614  \n",
       "230303 -12.3614  \n",
       "544314 -12.3614  \n",
       "290704 -12.3614  \n",
       "241861 -11.8332  \n",
       "109020 -12.0998  \n",
       "494031 -12.0998  \n",
       "161853 -12.0998  \n",
       "84768  -12.0998  \n",
       "116659 -12.0998  \n",
       "241864 -12.0998  \n",
       "161852 -12.0998  \n",
       "597144 -12.0998  \n",
       "597143 -12.0998  \n",
       "84766  -12.0998  \n",
       "116660 -12.0998  \n",
       "84767  -12.0998  \n",
       "421194 -12.2327  \n",
       "392683 -12.2482  \n",
       "\n",
       "[176 rows x 6 columns], token_table=        Topic      Freq                         Term\n",
       "term                                                \n",
       "35664       1  1.005276                         back\n",
       "82496       1  0.753488                       bridge\n",
       "140706      1  0.747773              covered parking\n",
       "182361      1  0.993372                        enjoy\n",
       "187026      1  0.750287  entertaining family friends\n",
       "199936      1  0.747470                          eye\n",
       "224111      1  0.996689                     flooring\n",
       "236148      1  0.985877                        front\n",
       "274097      1  0.746379                      highest\n",
       "288166      1  1.009378                        house\n",
       "317021      1  0.747207           landscaped grounds\n",
       "344521      1  1.008684                     location\n",
       "355370      1  0.747480       luxurious master suite\n",
       "388603      1  0.991195                        newer\n",
       "395209      1  1.003559                        ocean\n",
       "443554      1  1.000624                         pool\n",
       "445678      1  0.751246                      poolspa\n",
       "454813      1  1.005703                     property\n",
       "460827      1  0.750323                    quiet cul\n",
       "460828      1  0.750323                 quiet cul de\n",
       "496664      1  0.752708                 santa monica\n",
       "497519      1  1.016405                       school\n",
       "525696      1  0.751565                        smart\n",
       "532058      1  0.747325           space entertaining\n",
       "597257      1  0.989635                         unit\n",
       "607768      1  0.751876                     vacation\n",
       "612283      1  1.011406                         view\n",
       "614319      1  1.009459                        views\n",
       "619337      1  1.016718                         walk\n",
       "641975      1  0.747290                  woodburning, R=15, lambda_step=0.01, plot_opts={'xlab': 'PC1', 'ylab': 'PC2'}, topic_order=[8, 6, 7, 3, 10, 9, 5, 4, 1, 2])"
      ]
     },
     "execution_count": 25,
     "metadata": {},
     "output_type": "execute_result"
    }
   ],
   "source": [
    "pyLDAvis.sklearn.prepare(lda_tfidf, X, vectorizer, R=15)"
   ]
  },
  {
   "cell_type": "markdown",
   "metadata": {},
   "source": [
    "Test the LDA model using term counts, NOT IDF."
   ]
  },
  {
   "cell_type": "code",
   "execution_count": 26,
   "metadata": {
    "collapsed": false
   },
   "outputs": [
    {
     "data": {
      "text/plain": [
       "LatentDirichletAllocation(batch_size=128, doc_topic_prior=None,\n",
       "             evaluate_every=-1, learning_decay=0.7,\n",
       "             learning_method='online', learning_offset=10.0,\n",
       "             max_doc_update_iter=100, max_iter=10, mean_change_tol=0.001,\n",
       "             n_jobs=1, n_topics=10, perp_tol=0.1, random_state=0,\n",
       "             topic_word_prior=None, total_samples=1000000.0, verbose=0)"
      ]
     },
     "execution_count": 26,
     "metadata": {},
     "output_type": "execute_result"
    }
   ],
   "source": [
    "tf_vectorizer = CountVectorizer(strip_accents = 'unicode',\n",
    "                                stop_words = 'english',\n",
    "#                                 lowercase = False,\n",
    "#                                 token_pattern = r'\\b[a-zA-Z]{3,}\\b',\n",
    "                                max_df = 0.2,\n",
    "                                ngram_range=(1,3))\n",
    "dtm_tf = tf_vectorizer.fit_transform(testParsedPD)\n",
    "\n",
    "# for TF DTM\n",
    "lda_tf = LatentDirichletAllocation(n_topics=10, random_state=0)\n",
    "lda_tf.fit(dtm_tf)"
   ]
  },
  {
   "cell_type": "code",
   "execution_count": 27,
   "metadata": {
    "collapsed": false
   },
   "outputs": [
    {
     "data": {
      "text/html": [
       "\n",
       "<link rel=\"stylesheet\" type=\"text/css\" href=\"https://cdn.rawgit.com/bmabey/pyLDAvis/files/ldavis.v1.0.0.css\">\n",
       "\n",
       "\n",
       "<div id=\"ldavis_el197247787618083595326058\"></div>\n",
       "<script type=\"text/javascript\">\n",
       "\n",
       "var ldavis_el197247787618083595326058_data = {\"plot.opts\": {\"xlab\": \"PC1\", \"ylab\": \"PC2\"}, \"topic.order\": [4, 6, 3, 1, 10, 8, 7, 2, 9, 5], \"token.table\": {\"Topic\": [5, 2, 8, 8, 1, 2, 3, 1, 7, 1, 6, 1, 2, 10, 1, 2, 7, 7, 8, 8, 7, 7, 5, 1, 2, 3, 5, 7, 8, 7, 6, 6, 6, 1, 1, 4, 1, 3, 7, 3, 3, 1, 3, 7, 8, 1, 2, 3, 9, 1, 3, 10, 1, 3, 10, 2, 2, 1, 2, 4, 1, 4, 4, 10, 9, 1, 2, 2, 1, 2, 4, 4, 2, 1, 3, 10, 1, 2, 3, 2, 6, 7, 1, 2, 1, 2, 3, 1, 2, 10, 9, 9, 6, 6, 1, 2, 1, 2, 3, 10, 10, 1, 2, 9, 1, 3, 5, 1, 3, 5, 1, 9, 1, 9, 9, 9, 9, 10, 1, 3, 1, 1, 8, 1, 1, 2, 3, 10, 1, 3, 10, 1, 2, 3, 9, 7, 1, 2, 1, 2, 3, 5, 5, 10, 1, 3, 5, 3, 5, 3, 5, 7, 2, 3, 2, 1, 3, 7, 8, 1, 3, 1, 1, 5, 1, 7, 7, 1, 7, 1, 7, 1, 7, 7, 2, 1, 2, 1, 1, 8, 1, 8, 10, 1, 1, 3, 3, 3, 1, 2, 8, 1, 3, 5, 6, 1, 1, 2, 1, 7, 1, 7, 1, 2, 3, 7, 10, 3, 3, 9, 6, 1, 2, 1, 9, 3, 9, 1, 2, 3, 1, 3, 10, 10, 1, 2, 5, 1, 2, 3, 10, 10, 7, 1, 4, 5, 6, 7, 9, 1, 4, 6, 7, 9, 2, 6, 4, 5, 4, 1, 2, 4, 6, 5, 6, 6, 9, 6, 4, 4, 1, 3, 3, 1, 3, 1, 2, 3, 1, 2, 4, 10, 4, 1, 2, 3, 4, 6, 10, 8, 1, 1, 2, 3, 10, 1, 3, 8, 6, 1, 4, 1, 4, 4, 1, 2, 3, 1, 2, 8, 1, 3, 1, 2, 3, 1, 2, 2, 1, 3, 7, 9, 9, 1, 8, 1, 8, 3, 10, 10, 1, 2, 3, 10, 3, 5, 1, 4, 4, 3, 1, 8, 8, 2, 5, 5, 5, 4, 1, 3, 5, 1, 2, 3, 10, 6, 4, 5, 1, 3, 10, 5, 3, 1, 2, 3, 9, 1, 2, 3, 2, 1, 3, 6, 6, 1, 1, 2, 3, 10, 9, 9, 1, 2, 1, 2, 3, 2, 1, 3, 7, 1, 7, 7, 1, 7, 1, 7, 7, 1, 3, 5, 1, 3, 5, 3, 5, 1, 2, 1, 1, 3, 3, 1, 2, 1, 4, 1, 3, 2, 2, 4, 1, 5, 1, 5, 1, 5, 1, 2, 1, 3, 3, 8, 6, 5, 2, 4, 10, 10, 1, 1, 2, 3, 3, 1, 2, 5, 5, 10, 1, 2, 6, 1, 3, 1, 2, 3, 4, 1, 2, 4, 4, 2, 1, 9, 9, 8, 8, 8, 1, 2, 3, 2, 9, 6, 1, 2, 3, 5, 1, 3, 5, 2, 4, 2, 2, 4], \"Freq\": [0.99352101839845253, 0.6450756339759508, 0.35479159868677296, 0.91755399243441282, 0.53926701711174219, 0.45366907788765615, 0.0064198454418064555, 0.24354194555254674, 0.73062583665764025, 0.81875136767839585, 0.17236870898492546, 0.013119405658066165, 0.97083601869689617, 0.92237184578161624, 0.80894988954413927, 0.19047947980545138, 0.98315911178827486, 0.94507436040772397, 0.98448715178173507, 0.93111056336425857, 0.96951042639864449, 0.98875999434580464, 0.96153751486293992, 0.8376832941385266, 0.022972705422016401, 0.13947714006224243, 0.89948161292516082, 0.99170396994258525, 0.98100705463675986, 0.96716243180397454, 0.93418352713369213, 0.93418110970642332, 0.96845768985174852, 0.99907422450856298, 0.63424019258025255, 0.36127605906470078, 0.027547949577713903, 0.93112069572672995, 0.038567129408799465, 0.98223126737228195, 0.98114562909498959, 0.98788241265569643, 0.01196153918457752, 0.99200126433872449, 0.99179317975670966, 0.40180069337197022, 0.041210327525330277, 0.55376377612162564, 0.0025756454703331423, 0.58730084711204944, 0.10571415248016891, 0.29365042355602472, 0.50474508920156225, 0.075711763380234331, 0.42903332582132792, 0.99772915082010138, 0.99419418102869928, 0.20377126849624899, 0.11565396320057375, 0.67740178446050336, 0.19180572611895941, 0.79919052549566416, 0.9492574131444883, 0.94252373204470474, 0.87929637169277963, 0.04889886921790941, 0.94863806282744256, 0.9973990437175082, 0.42966289280073405, 0.095480642844607569, 0.47740321422303783, 0.96775963114036501, 0.99419418061026921, 0.63948737916195764, 0.037616904656585744, 0.31974368958097882, 0.48445458737122077, 0.51462524672707977, 0.00086201883873882707, 0.62570266419478948, 0.38237385034126026, 0.93217763144387966, 0.19965247121477361, 0.7997982924258491, 0.6059950033885283, 0.062843926277328863, 0.33217503889445255, 0.24660056565671887, 0.75192959364179845, 0.98758424437188908, 0.90239698817827696, 0.91884528264453713, 0.94378881027288619, 0.94991660144471535, 0.99844586175757011, 0.0015127967602387425, 0.41609237268775995, 0.42889521492430638, 0.035207816150502766, 0.11842629068805476, 0.97999407572297514, 0.22416951602599805, 0.77156019469413284, 0.91884519155116628, 0.55066626743708624, 0.11877115572172449, 0.32392133378652133, 0.55528918134008864, 0.10888023163531149, 0.32664069490593445, 0.13408941127815677, 0.87158117330801899, 0.072331248915707871, 0.94030623590420237, 0.96218432900189466, 0.9794388576885652, 0.98192185753851435, 0.92671598394718713, 0.99731353908276621, 0.0016072740355886643, 0.99981177191087167, 0.99943659924067241, 0.93837803079585957, 0.99981698278623621, 0.73480860707564766, 0.032738997344954598, 0.14914432123812649, 0.083666326548217304, 0.57225981794034575, 0.089018193901831563, 0.33063900592108869, 0.50471076300296513, 0.13764838990989958, 0.20647258486484937, 0.14529552268267179, 0.91841330046323821, 0.42234956018810521, 0.57913083631853823, 0.95485750131871927, 0.043795143794334024, 0.00061683301118780308, 0.99362493981409672, 0.92909534813741945, 0.98645754249683271, 0.6454129271030612, 0.2332544964618081, 0.11775955161178661, 0.31796477558108299, 0.68561154734671026, 0.31510918881805194, 0.68454754812197494, 0.9636983112082228, 0.96450012467503887, 0.025051951290260752, 0.99127409846167736, 0.097637175615326394, 0.87873458053793763, 0.019527435123065279, 0.93167922367223543, 0.99351880623795619, 0.0056095792071151852, 0.99957764940097293, 0.99978546000321522, 0.99352100410128774, 0.49634749371277453, 0.5026905926739601, 0.9841670807359536, 0.4573382684656917, 0.54049068091399921, 0.53900235252064821, 0.45100196843564438, 0.54907536009982605, 0.44692180473241655, 0.99531264252551621, 0.9935728748719711, 0.60501324153032765, 0.39433898778316001, 0.99957522969423096, 0.80167314265121092, 0.19049658835276301, 0.58044247575918329, 0.36593112602209382, 0.050473258761668111, 0.99911145935012546, 0.99911535466186396, 0.99547610634396844, 0.99630309681323981, 0.99746559087483833, 0.33526362790515479, 0.66282004597340949, 0.9642049774486966, 0.80858226557760027, 0.10827169937933678, 0.082931514418215405, 0.99231232738517772, 0.99986275263098889, 0.39225831440992553, 0.60621739499715765, 0.4451930586411702, 0.53423167036940422, 0.3725912853673467, 0.62098547561224449, 0.76850052706155847, 0.0047039052918840607, 0.22637544217192043, 0.00058798816148550759, 0.96327061822209181, 0.98823146740756951, 0.96223983811211333, 0.034365708504004049, 0.96309511803754622, 0.067006845328529158, 0.92692802704465338, 0.99966338181497627, 0.9464097747254111, 0.97069626773748208, 0.98644788739625755, 0.99091560104205934, 0.0073765429357969675, 0.0018441357339492419, 0.99761525206567836, 0.0020415046085927933, 0.98333385757151093, 0.98333385555632669, 0.10242965890089201, 0.051214829450446003, 0.81943727120713605, 0.78043946139529352, 0.090676059216600602, 0.12819718716829739, 0.00062535213252828004, 0.92871394377852712, 0.95129754591786275, 0.73891495733056434, 0.023091092416580136, 0.0076970308055267118, 0.16933467772158767, 0.030788123222106847, 0.023091092416580136, 0.76547358571748425, 0.0081433360182711079, 0.16286672036542216, 0.032573344073084431, 0.032573344073084431, 0.17320736649842985, 0.8083010436593393, 0.86775336635102984, 0.12108186507223673, 0.98618368475471863, 0.19265082620980761, 0.038530165241961518, 0.71280805697628813, 0.057795247862942281, 0.96153750410322303, 0.94378903144833415, 0.94991653910257301, 0.91884530321400315, 0.96666389092601501, 0.97487832437092348, 0.99341482496824696, 0.2896265315182629, 0.70744841305280604, 0.99758242571539124, 0.79332882362804358, 0.20575366909578935, 0.74464792764511845, 0.034975887510604049, 0.22000961498605773, 0.96150781068282065, 0.038528054060826364, 0.94390355614187638, 0.034323765677886413, 0.98656103880434098, 0.53293776292882389, 0.026935482602900847, 0.0096198152153217312, 0.42134790643109182, 0.0057718891291930387, 0.0038479260861286925, 0.99401555380925632, 0.99954914369405856, 0.57584854101846361, 0.050188634308948668, 0.37245249671377695, 0.96385133512511434, 0.78532566218241462, 0.053062544742055039, 0.16980014317457612, 0.96726315156128806, 0.62007408970021716, 0.37743640242621912, 0.24966730762352729, 0.74119981950734659, 0.99712319009866912, 0.64836651957689506, 0.33013521682250713, 0.020633451051406695, 0.18392201707760511, 0.81385492556840267, 0.95453750383247471, 0.065419644102875027, 0.93222992846596908, 0.72063069194588025, 0.27648912131867104, 0.0027484008083366904, 0.51519871266652018, 0.48465333444518499, 0.996980460774753, 0.1714917748836087, 0.81644997172848488, 0.0074561641253742912, 0.96508344970878268, 0.96572438805801997, 0.82826157560154212, 0.17019073471264565, 0.79071924059883492, 0.20081758491398982, 0.41798570220643766, 0.59214641145912006, 0.98795492182898914, 0.60352399234617193, 0.003448708527692411, 0.38556561339601153, 0.006897417055384822, 0.99113127289364245, 0.89706252632733674, 0.048007978009781987, 0.93615557119074877, 0.99163923295687129, 0.99920823809190673, 0.21523448053008745, 0.78919309527698733, 0.89796391002762566, 0.058439976087160263, 0.9350396173945642, 0.98663799155422527, 0.96538307008108681, 0.99537221766671458, 0.58408309784941004, 0.11490159301955608, 0.29682911530051986, 0.44995939587692124, 0.10695756131500588, 0.32087268394501761, 0.11802213662345476, 0.9239484159413931, 0.99792531692137554, 0.9637674680603473, 0.22772660088771732, 0.12651477827095406, 0.65787684700896121, 0.99418547208083763, 0.99619785297830155, 0.50429085950921226, 0.13753387077523968, 0.20630080616285953, 0.14517464137386413, 0.3908431562102932, 0.089849001427653605, 0.5166317582090082, 0.98307160395837867, 0.99912479026370338, 0.00064376597310805629, 0.93855651525107775, 0.93511113018728509, 0.99936977239484903, 0.081237165281868112, 0.03610540679194138, 0.86652976300659312, 0.013539527546978018, 0.92234634209897204, 0.96014929999623788, 0.78281902844359652, 0.2162390892274603, 0.52941727109992343, 0.46919919287054823, 0.9738794022224958, 0.99916968894519087, 0.4771872105961234, 0.03646281011199614, 0.48511390844655733, 0.4340424310958631, 0.5664621558369739, 0.98416627076174457, 0.43052868464838551, 0.55968729004290119, 0.5195490925350722, 0.47437091057550068, 0.99946143158152145, 0.63711024186936782, 0.29894132367968212, 0.063575756619660903, 0.61193841538477456, 0.23814352125811425, 0.14770927267908351, 0.28448705070258906, 0.70552788574242087, 0.99901952589716481, 0.000713585375640832, 0.99956248119587687, 0.07014798035727518, 0.9294607397338962, 0.99638240868162165, 0.99844378659661726, 0.0013886561705098988, 0.99917412628317859, 0.98237128607593094, 0.85664661596814318, 0.14289847981397349, 0.99045062615720902, 0.98836384666561994, 0.99788753118346929, 0.74301794756106809, 0.25305683721282757, 0.71573398187528314, 0.28160025516404585, 0.70443209915338878, 0.2972832712023476, 0.31241130805320266, 0.68594656768203199, 0.996811496079269, 0.0025140264718266558, 0.99840932894098022, 0.98298447493294838, 0.95886713636653143, 0.98442548007122055, 0.29239454782706553, 0.70174691478495732, 0.96858751602875692, 0.98916033315298435, 0.99968766225948291, 0.46287477235329394, 0.53506625061022972, 0.0021232787722628163, 0.98834221346392037, 0.99923063873575124, 0.00069584306318645631, 0.97371966920065922, 0.92890210913069826, 0.95233980069540158, 0.99971004037830946, 0.34459289363220652, 0.57432148938701078, 0.35682675695230615, 0.63719063741483239, 0.87069082624494387, 0.060481274725405314, 0.025150629093732904, 0.043714188662916716, 0.84421382773453213, 0.0056136980872372984, 0.14984255663625712, 0.98360101980481207, 0.98723461933682877, 0.072334491504625148, 0.9403483895601269, 0.96217218449000252, 0.96079459665446731, 0.98693297421290216, 0.99515266975804972, 0.97416409673853654, 0.021230226267651791, 0.0048526231468918385, 0.2505516227251588, 0.72033591533483154, 0.9179262395264205, 0.86253443529096485, 0.083341511209720692, 0.021086406450652226, 0.033135781565310642, 0.83019990783246811, 0.064075831812573036, 0.10307851204631316, 0.99959894434821517, 0.98949521747735392, 0.99257357082904518, 0.99216342096619314, 0.99855429919273764], \"Term\": [\"al fresco dining\", \"alta vista\", \"alta vista\", \"alta vista elementary\", \"amenities\", \"amenities\", \"amenities\", \"approximately sq ft\", \"approximately sq ft\", \"architect\", \"architect\", \"assigned\", \"assigned\", \"attend\", \"balcony\", \"balcony\", \"bathrooms sq\", \"bathrooms sq ft\", \"baths family\", \"baths family room\", \"baths sq\", \"baths sq ft\", \"beach tree\", \"bedroom bath\", \"bedroom bath\", \"bedroom bath\", \"bedroom perfect\", \"bedrooms bathrooms sq\", \"bedrooms baths family\", \"bedrooms baths sq\", \"bert\", \"bert lynn\", \"bert lynn middle\", \"breakfast\", \"breathtaking\", \"breathtaking\", \"build\", \"build\", \"build\", \"build dream\", \"build dream home\", \"built\", \"built\", \"built storage\", \"builtin bookshelves\", \"buyer\", \"buyer\", \"buyer\", \"buyer\", \"camino\", \"camino\", \"camino\", \"camino college\", \"camino college\", \"camino college\", \"cape\", \"cape cod\", \"catalina\", \"catalina\", \"catalina\", \"catalina island\", \"catalina island\", \"catalina views\", \"christmas\", \"claw\", \"club house\", \"club house\", \"clubhouse\", \"coastline\", \"coastline\", \"coastline\", \"coastline views\", \"cod\", \"college\", \"college\", \"college\", \"community\", \"community\", \"community\", \"comp purposes\", \"comp purposes\", \"completely detached\", \"complex\", \"complex\", \"condition\", \"condition\", \"condition\", \"condo\", \"condo\", \"confirmation\", \"contemporary masterpiece\", \"contemporary masterpiece new\", \"costa\", \"costa high\", \"counters\", \"counters\", \"court\", \"court\", \"court\", \"court\", \"court confirmation\", \"courts\", \"courts\", \"craftsmanship evident home\", \"cul\", \"cul\", \"cul\", \"cul sac\", \"cul sac\", \"cul sac\", \"da\", \"da\", \"da vinci\", \"da vinci\", \"da vinci charter\", \"dana\", \"dana middle\", \"date\", \"deck\", \"deck\", \"dining room\", \"direct\", \"dream come\", \"dual\", \"el\", \"el\", \"el\", \"el\", \"el camino\", \"el camino\", \"el camino\", \"el segundo\", \"el segundo\", \"el segundo\", \"el segundo\", \"electric car\", \"end unit\", \"end unit\", \"enjoy\", \"enjoy\", \"enjoy\", \"family fun\", \"family rm\", \"feels like single\", \"feet\", \"feet\", \"feet\", \"feet living\", \"feet living\", \"feet living space\", \"feet living space\", \"fireplace builtin\", \"fitness\", \"fitness\", \"fitness center\", \"fixer\", \"fixer\", \"fixer\", \"flexible floor\", \"flooring\", \"flooring\", \"formal\", \"formal dining\", \"fresco dining\", \"ft\", \"ft\", \"ft bedrooms\", \"ft home\", \"ft home\", \"ft living\", \"ft living\", \"ft living space\", \"ft living space\", \"ft lot\", \"fusion\", \"gated\", \"gated\", \"glass\", \"golden\", \"golden\", \"golden hills\", \"golden hills\", \"golden hills\", \"gorgeous\", \"granite counters\", \"great starter\", \"great starter home\", \"growing family\", \"gym\", \"gym\", \"hardwood floors french\", \"heater\", \"heater\", \"heater\", \"heights\", \"high\", \"hoa\", \"hoa\", \"home sq\", \"home sq\", \"home sq ft\", \"home sq ft\", \"house\", \"house\", \"house\", \"house\", \"house sits\", \"income\", \"information\", \"information\", \"inlaid\", \"insurance\", \"insurance\", \"island\", \"kitchen wgranite\", \"later\", \"lead large\", \"light\", \"light\", \"light\", \"lighting\", \"lighting\", \"like single\", \"like single family\", \"living rm\", \"living rm\", \"living rm\", \"location\", \"location\", \"location\", \"location\", \"location quiet\", \"lots counter space\", \"lunada\", \"lunada\", \"lunada\", \"lunada\", \"lunada\", \"lunada\", \"lunada bay\", \"lunada bay\", \"lunada bay\", \"lunada bay\", \"lunada bay\", \"lynn\", \"lynn\", \"malaga\", \"malaga\", \"malaga cove\", \"malibu\", \"malibu\", \"malibu\", \"malibu\", \"manhattan beach tree\", \"mira costa\", \"mira costa high\", \"miss contemporary\", \"modern home\", \"monica\", \"necklace\", \"needs\", \"needs\", \"needs tlc\", \"neighborhood\", \"neighborhood\", \"nice\", \"nice\", \"nice\", \"ocean\", \"ocean\", \"ocean catalina\", \"ocean catalina\", \"ocean catalina island\", \"ocean views\", \"ocean views\", \"ocean views\", \"ocean views\", \"ocean views\", \"ocean views\", \"open yard\", \"opens\", \"opportunity\", \"opportunity\", \"opportunity\", \"overbid\", \"ownership\", \"ownership\", \"ownership\", \"palos verdes malibu\", \"panoramic\", \"panoramic\", \"panoramic ocean\", \"panoramic ocean\", \"panoramic ocean views\", \"parking\", \"parking\", \"parking\", \"parking spaces\", \"parking spaces\", \"parras\", \"permits\", \"permits\", \"pool\", \"pool\", \"pool\", \"pool spa\", \"pool spa\", \"pools\", \"potential\", \"potential\", \"potential\", \"present\", \"present condition\", \"pride\", \"pride\", \"pride ownership\", \"pride ownership\", \"probate\", \"probate\", \"probate sale\", \"property\", \"property\", \"property\", \"property\", \"property sold\", \"protected\", \"queens\", \"queens\", \"queens necklace\", \"repairs\", \"ridgecrest intermediate\", \"ridgecrest intermediate\", \"ridgecrest intermediate school\", \"rm\", \"rm\", \"room lower\", \"room lower level\", \"room ocean\", \"sac\", \"sac\", \"sac\", \"sale\", \"sale\", \"sale\", \"sale\", \"sandy\", \"santa monica\", \"schools park\", \"seaside\", \"seaside\", \"seaside\", \"section manhattan beach\", \"seen\", \"segundo\", \"segundo\", \"segundo\", \"segundo\", \"seller\", \"seller\", \"seller\", \"senior\", \"separate\", \"separate\", \"sets french\", \"sets french doors\", \"shower\", \"sold\", \"sold\", \"sold\", \"sold\", \"sold present\", \"sold present condition\", \"spa\", \"spa\", \"spaces\", \"spaces\", \"spacious yard\", \"spas\", \"sq\", \"sq\", \"sq\", \"sq ft\", \"sq ft\", \"sq ft bedrooms\", \"sq ft home\", \"sq ft home\", \"sq ft living\", \"sq ft living\", \"sq ft lot\", \"square\", \"square\", \"square\", \"square feet\", \"square feet\", \"square feet\", \"square feet living\", \"square feet living\", \"stainless steel\", \"stainless steel\", \"stainless steel appliances\", \"starter\", \"starter\", \"starter home\", \"steel\", \"steel\", \"steel appliances\", \"stop elevator\", \"street\", \"street\", \"subterranean\", \"subterranean parking\", \"subzero\", \"tankless\", \"tankless\", \"tankless water\", \"tankless water\", \"tankless water heater\", \"tankless water heater\", \"tennis\", \"tennis\", \"tile\", \"tile\", \"tlc\", \"tour\", \"traditional style\", \"tree section manhattan\", \"trump\", \"trump\", \"trust\", \"trust sale\", \"tub\", \"unit\", \"unit\", \"unit\", \"upgraded electrical\", \"upstairs\", \"upstairs\", \"used home\", \"used home office\", \"various\", \"vaulted\", \"verdes malibu\", \"verdes malibu\", \"verify\", \"verify\", \"view\", \"view\", \"view\", \"view\", \"views\", \"views\", \"views\", \"views catalina\", \"views living\", \"vinci\", \"vinci\", \"vinci charter\", \"virtual\", \"virtual tour\", \"vista elementary\", \"walk\", \"walk\", \"walk\", \"walk street\", \"walk street\", \"walteria elementary\", \"water\", \"water\", \"water\", \"water\", \"water heater\", \"water heater\", \"water heater\", \"water trash\", \"waves\", \"wilson\", \"wilson park\", \"wine refrigerator\"]}, \"mdsDat\": {\"y\": [-0.0085995899697942548, 0.22307798478856314, -0.14653798121643891, -0.0074388387086064016, -0.015570422348984323, -0.0075510349229883748, -0.013323613103611964, -0.0078126637036044517, -0.0075597240255592304, -0.0086841167889754236], \"cluster\": [1, 1, 1, 1, 1, 1, 1, 1, 1, 1], \"Freq\": [52.494205261951606, 9.3848503698164407, 8.9924333420445208, 5.2897499649601238, 4.3023406619832238, 4.0062902852753908, 3.9759648333829514, 3.9520014234167076, 3.883223020055234, 3.7189408371137835], \"topics\": [1, 2, 3, 4, 5, 6, 7, 8, 9, 10], \"x\": [0.39212455100544291, 0.049354520432338324, 0.086878227476649389, -0.074880341142933821, -0.072868133651004377, -0.077684928918880472, -0.073229618369680283, -0.077423712330117009, -0.078222168568154476, -0.074048395933660111]}, \"R\": 15, \"lambda.step\": 0.01, \"tinfo\": {\"Category\": [\"Default\", \"Default\", \"Default\", \"Default\", \"Default\", \"Default\", \"Default\", \"Default\", \"Default\", \"Default\", \"Default\", \"Default\", \"Default\", \"Default\", \"Default\", \"Topic1\", \"Topic1\", \"Topic1\", \"Topic1\", \"Topic1\", \"Topic1\", \"Topic1\", \"Topic1\", \"Topic1\", \"Topic1\", \"Topic1\", \"Topic1\", \"Topic1\", \"Topic1\", \"Topic1\", \"Topic1\", \"Topic1\", \"Topic1\", \"Topic1\", \"Topic1\", \"Topic1\", \"Topic1\", \"Topic1\", \"Topic1\", \"Topic1\", \"Topic1\", \"Topic1\", \"Topic1\", \"Topic1\", \"Topic1\", \"Topic1\", \"Topic1\", \"Topic1\", \"Topic2\", \"Topic2\", \"Topic2\", \"Topic2\", \"Topic2\", \"Topic2\", \"Topic2\", \"Topic2\", \"Topic2\", \"Topic2\", \"Topic2\", \"Topic2\", \"Topic2\", \"Topic2\", \"Topic2\", \"Topic2\", \"Topic2\", \"Topic2\", \"Topic2\", \"Topic2\", \"Topic2\", \"Topic2\", \"Topic2\", \"Topic2\", \"Topic2\", \"Topic2\", \"Topic2\", \"Topic2\", \"Topic2\", \"Topic2\", \"Topic2\", \"Topic2\", \"Topic2\", \"Topic2\", \"Topic2\", \"Topic2\", \"Topic2\", \"Topic3\", \"Topic3\", \"Topic3\", \"Topic3\", \"Topic3\", \"Topic3\", \"Topic3\", \"Topic3\", \"Topic3\", \"Topic3\", \"Topic3\", \"Topic3\", \"Topic3\", \"Topic3\", \"Topic3\", \"Topic3\", \"Topic3\", \"Topic3\", \"Topic3\", \"Topic3\", \"Topic3\", \"Topic3\", \"Topic3\", \"Topic3\", \"Topic3\", \"Topic3\", \"Topic3\", \"Topic3\", \"Topic3\", \"Topic3\", \"Topic3\", \"Topic3\", \"Topic3\", \"Topic3\", \"Topic3\", \"Topic3\", \"Topic4\", \"Topic4\", \"Topic4\", \"Topic4\", \"Topic4\", \"Topic4\", \"Topic4\", \"Topic4\", \"Topic4\", \"Topic4\", \"Topic4\", \"Topic4\", \"Topic4\", \"Topic4\", \"Topic4\", \"Topic4\", \"Topic4\", \"Topic4\", \"Topic4\", \"Topic4\", \"Topic4\", \"Topic4\", \"Topic4\", \"Topic4\", \"Topic4\", \"Topic4\", \"Topic4\", \"Topic4\", \"Topic4\", \"Topic5\", \"Topic5\", \"Topic5\", \"Topic5\", \"Topic5\", \"Topic5\", \"Topic5\", \"Topic5\", \"Topic5\", \"Topic5\", \"Topic5\", \"Topic5\", \"Topic5\", \"Topic5\", \"Topic5\", \"Topic5\", \"Topic5\", \"Topic5\", \"Topic5\", \"Topic5\", \"Topic5\", \"Topic5\", \"Topic5\", \"Topic5\", \"Topic5\", \"Topic5\", \"Topic5\", \"Topic5\", \"Topic5\", \"Topic5\", \"Topic5\", \"Topic5\", \"Topic6\", \"Topic6\", \"Topic6\", \"Topic6\", \"Topic6\", \"Topic6\", \"Topic6\", \"Topic6\", \"Topic6\", \"Topic6\", \"Topic6\", \"Topic6\", \"Topic6\", \"Topic6\", \"Topic6\", \"Topic6\", \"Topic6\", \"Topic6\", \"Topic6\", \"Topic6\", \"Topic6\", \"Topic6\", \"Topic7\", \"Topic7\", \"Topic7\", \"Topic7\", \"Topic7\", \"Topic7\", \"Topic7\", \"Topic7\", \"Topic7\", \"Topic7\", \"Topic7\", \"Topic7\", \"Topic7\", \"Topic7\", \"Topic7\", \"Topic7\", \"Topic7\", \"Topic7\", \"Topic7\", \"Topic7\", \"Topic7\", \"Topic7\", \"Topic7\", \"Topic7\", \"Topic7\", \"Topic7\", \"Topic8\", \"Topic8\", \"Topic8\", \"Topic8\", \"Topic8\", \"Topic8\", \"Topic8\", \"Topic8\", \"Topic8\", \"Topic8\", \"Topic8\", \"Topic8\", \"Topic8\", \"Topic8\", \"Topic8\", \"Topic8\", \"Topic8\", \"Topic8\", \"Topic8\", \"Topic8\", \"Topic8\", \"Topic8\", \"Topic9\", \"Topic9\", \"Topic9\", \"Topic9\", \"Topic9\", \"Topic9\", \"Topic9\", \"Topic9\", \"Topic9\", \"Topic9\", \"Topic9\", \"Topic9\", \"Topic9\", \"Topic9\", \"Topic9\", \"Topic9\", \"Topic9\", \"Topic9\", \"Topic9\", \"Topic9\", \"Topic9\", \"Topic10\", \"Topic10\", \"Topic10\", \"Topic10\", \"Topic10\", \"Topic10\", \"Topic10\", \"Topic10\", \"Topic10\", \"Topic10\", \"Topic10\", \"Topic10\", \"Topic10\", \"Topic10\", \"Topic10\", \"Topic10\", \"Topic10\", \"Topic10\", \"Topic10\", \"Topic10\", \"Topic10\", \"Topic10\", \"Topic10\", \"Topic10\"], \"Term\": [\"unit\", \"views\", \"pool\", \"property\", \"community\", \"complex\", \"ft\", \"house\", \"sq\", \"sq ft\", \"parking\", \"gated\", \"spa\", \"balcony\", \"ocean\", \"dining room\", \"high\", \"formal\", \"shower\", \"tub\", \"vaulted\", \"opens\", \"glass\", \"island\", \"formal dining\", \"dual\", \"direct\", \"breakfast\", \"gorgeous\", \"granite counters\", \"separate\", \"upstairs\", \"stainless steel\", \"steel\", \"tile\", \"lighting\", \"counters\", \"steel appliances\", \"stainless steel appliances\", \"flooring\", \"deck\", \"light\", \"ocean\", \"built\", \"walk\", \"enjoy\", \"views\", \"view\", \"clubhouse\", \"pools\", \"wilson\", \"wilson park\", \"cape\", \"cape cod\", \"cod\", \"subterranean\", \"water trash\", \"subterranean parking\", \"spas\", \"views living\", \"senior\", \"fitness center\", \"fusion\", \"assigned\", \"fitness\", \"club house\", \"complex\", \"condo\", \"insurance\", \"parking spaces\", \"unit\", \"community\", \"courts\", \"tennis\", \"hoa\", \"gym\", \"gated\", \"parking\", \"pool\", \"pool spa\", \"end unit\", \"amenities\", \"spa\", \"balcony\", \"spaces\", \"starter home\", \"tlc\", \"property sold\", \"repairs\", \"seen\", \"build dream\", \"upgraded electrical\", \"income\", \"build dream home\", \"great starter\", \"needs tlc\", \"spacious yard\", \"growing family\", \"later\", \"great starter home\", \"information\", \"build\", \"starter\", \"sold\", \"potential\", \"fixer\", \"permits\", \"needs\", \"property\", \"buyer\", \"verify\", \"opportunity\", \"house\", \"square\", \"seller\", \"nice\", \"neighborhood\", \"condition\", \"location\", \"street\", \"bedroom bath\", \"subzero\", \"panoramic ocean views\", \"necklace\", \"queens necklace\", \"wine refrigerator\", \"malaga cove\", \"waves\", \"monica\", \"santa monica\", \"ocean catalina island\", \"views catalina\", \"stop elevator\", \"room ocean\", \"catalina views\", \"coastline views\", \"ocean catalina\", \"queens\", \"malaga\", \"panoramic ocean\", \"catalina\", \"catalina island\", \"malibu\", \"ocean views\", \"panoramic\", \"views\", \"trump\", \"coastline\", \"view\", \"breathtaking\", \"section manhattan beach\", \"schools park\", \"family fun\", \"room lower\", \"room lower level\", \"used home\", \"family rm\", \"fresco dining\", \"al fresco dining\", \"beach tree\", \"manhattan beach tree\", \"used home office\", \"tree section manhattan\", \"protected\", \"bedroom perfect\", \"rm\", \"square feet living\", \"feet living\", \"feet living space\", \"living rm\", \"tankless water heater\", \"tankless water\", \"tankless\", \"cul sac\", \"cul\", \"square feet\", \"feet\", \"sac\", \"square\", \"water heater\", \"heater\", \"water\", \"modern home\", \"mira costa\", \"costa\", \"palos verdes malibu\", \"bert\", \"bert lynn\", \"sandy\", \"traditional style\", \"heights\", \"sets french\", \"walteria elementary\", \"costa high\", \"mira costa high\", \"inlaid\", \"bert lynn middle\", \"sets french doors\", \"lynn\", \"lunada\", \"lunada bay\", \"verdes malibu\", \"architect\", \"comp purposes\", \"ft lot\", \"sq ft lot\", \"baths sq\", \"baths sq ft\", \"bedrooms baths sq\", \"built storage\", \"fireplace builtin\", \"completely detached\", \"bathrooms sq\", \"bathrooms sq ft\", \"lots counter space\", \"ft bedrooms\", \"sq ft bedrooms\", \"bedrooms bathrooms sq\", \"electric car\", \"sq ft\", \"ft\", \"sq\", \"approximately sq ft\", \"sq ft living\", \"ft living\", \"home sq ft\", \"ft living space\", \"sq ft home\", \"ft home\", \"home sq\", \"tour\", \"virtual\", \"virtual tour\", \"vista elementary\", \"dream come\", \"baths family\", \"baths family room\", \"builtin bookshelves\", \"parras\", \"open yard\", \"alta vista elementary\", \"flexible floor\", \"bedrooms baths family\", \"hardwood floors french\", \"ridgecrest intermediate school\", \"ridgecrest intermediate\", \"golden hills\", \"golden\", \"pride ownership\", \"ownership\", \"pride\", \"alta vista\", \"present\", \"dana\", \"present condition\", \"dana middle\", \"lead large\", \"contemporary masterpiece\", \"kitchen wgranite\", \"sold present\", \"sold present condition\", \"da vinci charter\", \"vinci charter\", \"claw\", \"miss contemporary\", \"contemporary masterpiece new\", \"craftsmanship evident home\", \"vinci\", \"da vinci\", \"da\", \"walk street\", \"el segundo\", \"segundo\", \"like single\", \"like single family\", \"confirmation\", \"trust\", \"court confirmation\", \"trust sale\", \"feels like single\", \"christmas\", \"location quiet\", \"probate sale\", \"overbid\", \"house sits\", \"attend\", \"date\", \"various\", \"seaside\", \"el camino\", \"probate\", \"camino\", \"court\", \"sale\", \"camino college\", \"el\", \"college\"], \"loglift\": [15.0, 14.0, 13.0, 12.0, 11.0, 10.0, 9.0, 8.0, 7.0, 6.0, 5.0, 4.0, 3.0, 2.0, 1.0, 0.64410000000000001, 0.64410000000000001, 0.64410000000000001, 0.64410000000000001, 0.64400000000000002, 0.64400000000000002, 0.64400000000000002, 0.64400000000000002, 0.64390000000000003, 0.64390000000000003, 0.64390000000000003, 0.64390000000000003, 0.64390000000000003, 0.64390000000000003, 0.64390000000000003, 0.64339999999999997, 0.64359999999999995, 0.64329999999999998, 0.64280000000000004, 0.64149999999999996, 0.64219999999999999, 0.64270000000000005, 0.64380000000000004, 0.64390000000000003, 0.63819999999999999, 0.64219999999999999, 0.63539999999999996, 0.60509999999999997, 0.6321, 0.61799999999999999, 0.59860000000000002, 0.47510000000000002, 0.50580000000000003, 2.3624000000000001, 2.3622999999999998, 2.3603000000000001, 2.3599000000000001, 2.3595999999999999, 2.3588, 2.3588, 2.3578000000000001, 2.3576999999999999, 2.3563000000000001, 2.3563000000000001, 2.3557999999999999, 2.3557000000000001, 2.3544, 2.3542999999999998, 2.3412000000000002, 2.3342000000000001, 2.3089, 2.1427999999999998, 2.0809000000000002, 2.2930000000000001, 2.1608999999999998, 1.7403999999999999, 1.7016, 2.1080999999999999, 1.9878, 1.865, 1.956, 1.4363999999999999, 1.2586999999999999, 1.0812999999999999, 1.6417999999999999, 1.8172999999999999, 1.5759000000000001, 0.83560000000000001, 0.70860000000000001, 1.6114999999999999, 2.4028999999999998, 2.4028999999999998, 2.4011, 2.3997999999999999, 2.3988, 2.3986000000000001, 2.3984999999999999, 2.3965000000000001, 2.3963000000000001, 2.3955000000000002, 2.3950999999999998, 2.3929, 2.3925000000000001, 2.3923999999999999, 2.3919999999999999, 2.3734999999999999, 2.3386999999999998, 2.3340999999999998, 2.2648999999999999, 2.2057000000000002, 2.2751000000000001, 2.3357999999999999, 2.0642999999999998, 1.4560999999999999, 1.8197000000000001, 1.9597, 1.4211, 0.9234, 1.2021999999999999, 1.7519, 0.89339999999999997, 0.82820000000000005, 1.3043, 0.35610000000000003, 0.46500000000000002, 0.43930000000000002, 2.9319999999999999, 2.9293, 2.927, 2.9260999999999999, 2.9249000000000001, 2.9247000000000001, 2.9196, 2.9192, 2.9186999999999999, 2.9163000000000001, 2.9140999999999999, 2.9129, 2.9125000000000001, 2.9108999999999998, 2.9102999999999999, 2.8883999999999999, 2.8719000000000001, 2.8090999999999999, 2.6448999999999998, 2.5495999999999999, 2.7204999999999999, 2.5998000000000001, 2.0731000000000002, 1.9675, 1.0421, 2.5807000000000002, 2.1991000000000001, -0.19059999999999999, 1.9265000000000001, 3.1187, 3.1168, 3.1158999999999999, 3.1143000000000001, 3.1131000000000002, 3.105, 3.1036000000000001, 3.1006, 3.1006, 3.0979000000000001, 3.0979000000000001, 3.0949, 3.0916999999999999, 3.0910000000000002, 3.0908000000000002, 3.0779999999999998, 2.7980999999999998, 2.7618999999999998, 2.7627000000000002, 2.9304999999999999, 1.9227000000000001, 1.8716999999999999, 1.7778, 2.0369999999999999, 2.0242, 1.2402, 1.0152000000000001, 1.9238999999999999, 0.39379999999999998, 0.88580000000000003, 0.65200000000000002, -0.2646, 3.1861999999999999, 3.1850000000000001, 3.1850000000000001, 3.1819000000000002, 3.1745000000000001, 3.1745000000000001, 3.1709999999999998, 3.1690999999999998, 3.1675, 3.1655000000000002, 3.1608000000000001, 3.1587999999999998, 3.1587999999999998, 3.1579000000000002, 3.1577000000000002, 3.1570999999999998, 3.0188000000000001, 1.4354, 1.3871, 2.7088999999999999, 1.4756, 2.2109000000000001, 3.2183000000000002, 3.2178, 3.2067000000000001, 3.2063999999999999, 3.202, 3.1947000000000001, 3.1938, 3.1882999999999999, 3.1863000000000001, 3.1848999999999998, 3.1846000000000001, 3.1755, 3.1755, 3.1751, 3.1739999999999999, 2.6556999999999999, 2.5385, 2.5011000000000001, 2.9239000000000002, 2.4716999999999998, 2.4321999999999999, 2.7368999999999999, 2.4144999999999999, 2.6295000000000002, 2.6082000000000001, 2.6004, 3.2141999999999999, 3.2081, 3.2052999999999998, 3.1888000000000001, 3.1878000000000002, 3.1857000000000002, 3.1842000000000001, 3.1810999999999998, 3.1781000000000001, 3.1758000000000002, 3.1743999999999999, 3.1734, 3.1703999999999999, 3.1701999999999999, 3.1684999999999999, 2.9792999999999998, 2.2141999999999999, 1.5883, 1.6171, 1.4269000000000001, 1.4479, 2.1535000000000002, 3.2244999999999999, 3.21, 3.2000000000000002, 3.1991999999999998, 3.1987999999999999, 3.1928999999999998, 3.1899999999999999, 3.1842999999999999, 3.1816, 3.1808000000000001, 3.1808000000000001, 3.1783000000000001, 3.1751, 3.1751, 3.1751, 3.1739000000000002, 3.1738, 3.0916000000000001, 2.9318, 1.3331, 1.3288, 3.2726000000000002, 3.2726000000000002, 3.2692999999999999, 3.2686999999999999, 3.2685, 3.266, 3.2633000000000001, 3.2547000000000001, 3.2523, 3.2498, 3.2473999999999998, 3.2473999999999998, 3.2452999999999999, 3.2450999999999999, 3.2437, 2.8555999999999999, 2.1779000000000002, 2.7477, 2.0832000000000002, 1.1496, 1.1657999999999999, 2.4424999999999999, 0.81879999999999997, 2.1642999999999999], \"Freq\": [1883.0, 2315.0, 1819.0, 1449.0, 1160.0, 841.0, 630.0, 1700.0, 630.0, 543.0, 1260.0, 925.0, 1193.0, 1275.0, 2361.0, 1520.7883704676508, 1522.6938922125471, 1419.1020656742903, 1390.325246449841, 1167.8604246469922, 1129.8291658587041, 1052.9772274413701, 1015.9338702312735, 957.82518115338996, 909.69817109547296, 967.64610057101027, 900.01058997748032, 895.33211835479835, 937.29894252668123, 847.24795351291823, 1551.6916617876543, 1435.8860845659542, 1399.768666143274, 1437.7753543592301, 1586.3462010348273, 1466.1123456755058, 1319.6804123925428, 1132.1686679484824, 1120.8241158598096, 1594.4017931051251, 1241.4720608718312, 1612.026594737004, 2270.6837840885792, 1403.6885258508244, 1605.5988426558215, 1548.4785308697346, 1955.0093097715048, 1453.6434643460279, 140.85089701255666, 185.86141989115058, 89.148936012553122, 83.138811622379038, 79.664653060523335, 70.897317851659437, 70.897317599891849, 87.113393155712615, 61.508097609567358, 53.10415511147233, 52.52667993619491, 50.128799542148819, 49.326970092812552, 43.870583650464319, 43.767728812606229, 74.351650888550765, 77.32918680647191, 96.565380462809259, 673.11441598114288, 371.9800370852933, 83.22982372241492, 177.13702355778838, 1007.6892460517807, 596.93224494448464, 148.20639706204702, 201.74397024414822, 220.86768787853879, 172.19492432954522, 365.32813357326921, 416.3737021759357, 503.40237858094673, 238.0161010190954, 180.54844560024921, 212.04623752144241, 258.22954358178828, 243.18588963222629, 187.40156162529163, 87.801489724352322, 87.621730587482645, 76.093370817442604, 57.527915963897279, 51.679047932341078, 50.386583002823123, 50.071482479820126, 41.979426810299344, 41.269970007643522, 38.659277570401727, 37.574130793553785, 32.339801839026279, 31.562494205503043, 31.417799156465279, 30.597096000909129, 56.180514700018236, 169.22316032364276, 105.83373038471663, 191.87225515185088, 218.93074285325488, 89.605889589513851, 56.842655383499263, 149.24068637170137, 559.21470814474208, 215.41359113150622, 125.19625254281294, 281.99638353863213, 385.08471285517771, 221.20498685312614, 115.41147766249415, 194.73770285406968, 201.10100746779676, 147.64407993078521, 205.30311771045146, 192.34940893780356, 170.06577726014785, 71.618939537706652, 52.619686889385257, 42.752026653482929, 39.804191266184311, 36.519588598274268, 35.971242368314897, 26.751144415350584, 26.13694832528029, 25.52105342644612, 22.780276334356518, 20.8169324102033, 19.825822998042128, 19.559716935956711, 18.429075003000392, 18.066499944110497, 55.371625590150749, 38.942254320393424, 43.497659006572469, 95.470745495239242, 122.95812216851874, 50.263575806929801, 73.922817199201177, 218.56427332835477, 140.34280682322898, 347.28574235166241, 47.783066558647931, 49.956469649024214, 73.008873322971198, 45.23351404435099, 19.574175229214582, 18.139320684265304, 17.578392331972939, 16.693184864021983, 16.036807595733368, 12.813834027843145, 12.379204132155342, 11.541701858662138, 11.541695308268439, 10.903184936187335, 10.903184378774228, 10.228607296285846, 9.6215943003419575, 9.4953797896001557, 9.4686118040711467, 63.945461552471883, 62.057157991102564, 68.543090621358104, 62.725776880261165, 15.740723022063863, 45.531729001394872, 47.662779293287457, 47.279410351258569, 30.298712226752205, 30.164900074550232, 49.329122256403366, 52.432050456509863, 30.766643713202498, 47.154779076590806, 37.446914722239313, 35.84564077783746, 32.887005098208128, 17.04707115390552, 16.4147092307375, 16.414704040698403, 14.968631436578962, 12.30714938994681, 12.307109070847972, 11.366641797153246, 10.932483227299338, 10.546437584622744, 10.116378636872248, 9.26624022938263, 8.9363801910525869, 8.9363767339016977, 8.805773319191049, 8.7550782571279271, 10.06875378611919, 14.201508054343911, 21.868111602438137, 19.693764182107898, 10.472680198140658, 12.198925752132929, 10.515137835596853, 81.847407578970888, 75.502273568558806, 29.373279976962476, 28.790939687112399, 23.242194242092232, 17.605296289538327, 17.100882508390303, 14.478681815788079, 13.700574817771852, 13.216304494297741, 13.126242408073503, 10.638236192052197, 10.638225303309557, 10.553272544227394, 10.348008939004444, 307.7329500335178, 317.4375153443288, 305.87682242806312, 18.232553230069463, 41.688030298876647, 41.145452558070339, 24.711774557840997, 34.824028150278188, 25.612004281902415, 25.963160868657376, 24.058075567688, 32.014726947888533, 23.398329974387824, 20.739085277871762, 12.523869853546437, 12.248378154423721, 11.64998990665951, 11.274805809312053, 10.551300923147593, 9.9372449099316196, 9.5206376169617535, 9.2695967897443783, 9.1198118965252561, 8.6352533725027154, 8.7837352435463156, 8.3699158216759919, 10.836895258188092, 28.671613257851106, 24.374915147218175, 15.864778492934608, 15.512307507832862, 14.818451411848349, 10.555524456795261, 22.255824782225481, 13.75430993243185, 10.850889275547658, 10.66312165916678, 10.610518017515027, 9.4338602296295893, 8.9694907978118046, 8.1339791265179464, 7.7924753174638184, 7.769976455101931, 7.7698567668319782, 7.4209938788189023, 7.0788528709020646, 7.0788527445669853, 7.0788517062176561, 12.831291931678345, 12.830584350161963, 12.749701889042417, 23.261518914913744, 19.259499133218512, 19.193224217612517, 27.934431861959101, 27.934431754953074, 23.76150345579315, 23.205661902398518, 22.929543694313384, 20.689891733923911, 18.72084648705869, 14.313670324323393, 13.456834913120078, 12.61860476294888, 11.910208299679136, 11.916787721549886, 11.384871081519892, 11.329444871957488, 11.009374823450724, 25.551501653576501, 25.817013894825806, 16.663602461533848, 25.424169867158199, 36.680786990227759, 32.353380962805609, 16.948181597188192, 23.184758325996597, 17.219862170275366], \"Total\": [1883.0, 2315.0, 1819.0, 1449.0, 1160.0, 841.0, 630.0, 1700.0, 630.0, 543.0, 1260.0, 925.0, 1193.0, 1275.0, 2361.0, 1521.2863488224559, 1523.2090564354496, 1419.5995687282309, 1390.8765688090211, 1168.3649244606054, 1130.3277494066042, 1053.4749658314965, 1016.4317500252516, 958.32258881051268, 910.19527329100538, 968.17719309230938, 900.50734652281108, 895.829336844561, 937.83330301253272, 847.74995804829246, 1553.3595153718225, 1437.105653422376, 1401.3740109260993, 1440.241322850726, 1591.0731429544801, 1469.5043975765973, 1322.0546556990043, 1132.9356617859187, 1121.4906732581992, 1604.3984170121723, 1244.3428785107574, 1626.7783031216791, 2361.9152905135898, 1421.2217790431823, 1648.5928863287259, 1621.184310603533, 2315.7640111703558, 1669.9383480020254, 141.36769118452776, 186.5633353089583, 89.665897436361234, 83.655573513456645, 80.182081413821138, 71.414620357700983, 71.414620387757509, 87.838805592507086, 62.024875426841184, 53.623976816637636, 53.044043055340623, 50.646522134310196, 49.843775166223359, 44.387319378446406, 44.284622812060675, 76.222965129916005, 79.834100618642196, 102.25185326307566, 841.46216161419875, 494.72717013078756, 89.543090270590767, 217.48347824568589, 1883.8788633190773, 1160.0674545153163, 191.81912314524101, 294.48357863004333, 364.55568880704288, 259.49728141882446, 925.59957627295785, 1260.0897414214883, 1819.2397501971188, 491.07265561776126, 312.53732084202977, 467.30096965634141, 1193.1237822067023, 1275.7279694809704, 398.55141023568041, 88.319503870445203, 88.140202068566623, 76.68005447766302, 58.04595857892155, 52.198466242962908, 50.904508602910489, 50.589764677521039, 42.500164571948638, 41.787884269349973, 39.177233638719066, 38.092090458339072, 32.858277859632942, 32.081307157607355, 31.935839283955843, 31.115029250793395, 58.197548866684187, 181.50171162085198, 114.04462336983454, 221.57346255923022, 268.23443883078448, 102.42000484936467, 61.143713862304708, 210.61606366043003, 1449.8180869305254, 388.25219212745793, 196.17362946063005, 757.14353504981852, 1700.714513492203, 739.27551159438622, 222.59568478458823, 886.32489999292704, 976.89630947200135, 445.54822810460024, 1599.0990483346236, 1343.6112144086298, 1218.837724405136, 72.152419736731076, 53.152910820131915, 43.285039561770617, 40.337250353364844, 37.053568373709822, 36.504355685983427, 27.286640221298427, 26.669994962476437, 26.054053904765787, 23.313306623049666, 21.35012019829675, 20.358901245871849, 20.092985965473972, 18.962190603677893, 18.599659895701166, 58.268664888611831, 41.659742461815092, 49.553250574893568, 128.1705654800937, 181.57613815257324, 62.563304249621339, 103.81476370217521, 519.76050351116612, 370.92341676652944, 2315.7640111703558, 68.400728223663194, 104.73327055699403, 1669.9383480020254, 124.55848891980126, 20.116970687712676, 18.67670428451618, 18.115487321974555, 17.23023048526678, 16.573731709067665, 13.350865152669547, 12.915789562456316, 12.078254964377805, 12.078254790566886, 11.440011263177775, 11.440011391192836, 10.765397022683453, 10.158209232126465, 10.03274547299049, 10.00576317589365, 68.446297685580888, 87.877462043556136, 100.64007857952114, 92.031591045556496, 19.525594651595419, 154.73457290063871, 170.45439100201691, 185.7290264023641, 91.844036789841383, 92.615079251838793, 331.73272815755109, 441.57776832767166, 104.43719433861651, 739.27551159438622, 358.94969053662618, 434.09312192775798, 995.90226761233885, 17.586257394713339, 16.952941247310829, 16.952945220206388, 15.50767231832212, 12.84544166264523, 12.845474903438298, 11.905426547857992, 11.471870901408387, 11.085219538676778, 10.654659402502631, 9.8047093681985924, 9.4745159588873609, 9.4745165806910645, 9.3448713750505537, 9.2931266841174232, 10.693916131655056, 17.320279504550953, 129.92022836675778, 122.79979577857424, 17.411850652973609, 69.618204317173735, 28.767657595263749, 82.386173445895736, 76.040953255934653, 29.912004255306218, 29.329665607261276, 23.780907160651235, 18.145138163708829, 17.640375418616742, 15.01859680790125, 14.23981106632405, 13.755531357756379, 13.6655456074544, 11.17696396812447, 11.176973166826782, 11.092019729069801, 10.888344054856461, 543.72564314542046, 630.60658906263416, 630.77968838263178, 24.636413191112645, 88.538312665601993, 90.908694128793996, 40.25859054972566, 78.313475935584279, 46.4545121223086, 48.104437168153538, 44.924330269309493, 32.553922077134324, 23.938519304841115, 21.27804070661222, 13.063322236939458, 12.788023169961182, 12.189087463744221, 11.813849431860332, 11.091022024065882, 10.476277736442968, 10.060204754018287, 9.8086870900333682, 9.6599771373309036, 9.1742459521174951, 9.3341148516098293, 8.909044016873553, 13.938287176903481, 79.249885942331858, 125.98650824946336, 79.674297481731003, 94.228424669524372, 88.136407809311009, 31.004116333970263, 22.795956149324265, 14.293898889247069, 11.39041338918649, 11.202520766341676, 11.151121250849497, 9.9734375423491173, 9.5096228297211294, 8.6735314435079776, 8.3320375279462748, 8.3144151893417995, 8.3145201336706531, 7.9609108206871504, 7.6182573666262394, 7.6182575371701695, 7.6182582924364164, 13.824663437857428, 13.825283193511044, 14.915420844463064, 31.929547743442697, 130.76796620565085, 130.87685163326728, 28.474561090726766, 28.474561149080788, 24.301724269876519, 23.745918277267101, 23.46952963264815, 21.230127509320699, 19.260839094918275, 14.853737390387501, 13.997851638911264, 13.158495102117874, 12.450052785829591, 12.457558419199367, 11.925775976692588, 11.869871881509365, 11.550499088631772, 39.521074678656149, 78.635610240750722, 28.709115973716624, 85.135242433016003, 312.43062486404517, 271.13557604955764, 39.623961535984961, 274.90151592522699, 53.16758564423381], \"logprob\": [15.0, 14.0, 13.0, 12.0, 11.0, 10.0, 9.0, 8.0, 7.0, 6.0, 5.0, 4.0, 3.0, 2.0, 1.0, -6.3250999999999999, -6.3238000000000003, -6.3943000000000003, -6.4147999999999996, -6.5891999999999999, -6.6223000000000001, -6.6927000000000003, -6.7285000000000004, -6.7873999999999999, -6.8390000000000004, -6.7771999999999997, -6.8497000000000003, -6.8548999999999998, -6.8090999999999999, -6.9100999999999999, -6.3049999999999997, -6.3825000000000003, -6.4080000000000004, -6.3811999999999998, -6.2828999999999997, -6.3616999999999999, -6.4668999999999999, -6.6201999999999996, -6.6303000000000001, -6.2778, -6.5279999999999996, -6.2667999999999999, -5.9241999999999999, -6.4051999999999998, -6.2708000000000004, -6.3071000000000002, -6.0739000000000001, -6.3703000000000003, -6.9828000000000001, -6.7054999999999998, -7.4401999999999999, -7.5099999999999998, -7.5526, -7.6692, -7.6692, -7.4633000000000003, -7.8113000000000001, -7.9581999999999997, -7.9691999999999998, -8.0159000000000002, -8.032, -8.1492000000000004, -8.1516000000000002, -7.6216999999999997, -7.5823999999999998, -7.3602999999999996, -5.4185999999999996, -6.0115999999999996, -7.5088999999999997, -6.7535999999999996, -5.0151000000000003, -5.5387000000000004, -6.9318999999999997, -6.6234999999999999, -6.5328999999999997, -6.7817999999999996, -6.0297000000000001, -5.8989000000000003, -5.7091000000000003, -6.4581, -6.7344999999999997, -6.5736999999999997, -6.3765999999999998, -6.4366000000000003, -6.6971999999999996, -7.4127000000000001, -7.4146999999999998, -7.5557999999999996, -7.8354999999999997, -7.9427000000000003, -7.968, -7.9743000000000004, -8.1506000000000007, -8.1676000000000002, -8.2330000000000005, -8.2614000000000001, -8.4115000000000002, -8.4358000000000004, -8.4404000000000003, -8.4669000000000008, -7.8592000000000004, -6.7565, -7.2259000000000002, -6.6308999999999996, -6.4989999999999997, -7.3922999999999996, -7.8475000000000001, -6.8822000000000001, -5.5612000000000004, -6.5152000000000001, -7.0579000000000001, -6.2458999999999998, -5.9343000000000004, -6.4886999999999997, -7.1393000000000004, -6.6161000000000003, -6.5839999999999996, -6.8929999999999998, -6.5632999999999999, -6.6284000000000001, -6.7515999999999998, -7.0857999999999999, -7.3940999999999999, -7.6017000000000001, -7.6731999999999996, -7.7592999999999996, -7.7744, -8.0706000000000007, -8.0937999999999999, -8.1175999999999995, -8.2312999999999992, -8.3214000000000006, -8.3702000000000005, -8.3836999999999993, -8.4431999999999992, -8.4631000000000007, -7.3430999999999997, -7.6951000000000001, -7.5843999999999996, -6.7983000000000002, -6.5453000000000001, -7.4398999999999997, -7.0541, -5.9701000000000004, -6.4131, -5.5069999999999997, -7.4904999999999999, -7.4459999999999997, -7.0666000000000002, -7.5453000000000001, -8.1762999999999995, -8.2524999999999995, -8.2838999999999992, -8.3354999999999997, -8.3757000000000001, -8.5999999999999996, -8.6344999999999992, -8.7045999999999992, -8.7045999999999992, -8.7614999999999998, -8.7614999999999998, -8.8253000000000004, -8.8864999999999998, -8.8996999999999993, -8.9025999999999996, -6.9924999999999997, -7.0225, -6.9230999999999998, -7.0118, -8.3942999999999994, -7.3320999999999996, -7.2864000000000004, -7.2945000000000002, -7.7393999999999998, -7.7439, -7.2519999999999998, -7.1909999999999998, -7.7241, -7.2971000000000004, -7.5275999999999996, -7.5712999999999999, -7.6574999999999998, -8.2432999999999996, -8.2811000000000003, -8.2811000000000003, -8.3733000000000004, -8.5691000000000006, -8.5691000000000006, -8.6486000000000001, -8.6875, -8.7234999999999996, -8.7651000000000003, -8.8529, -8.8890999999999991, -8.8890999999999991, -8.9038000000000004, -8.9095999999999993, -8.7698, -8.4259000000000004, -7.9942000000000002, -8.0989000000000004, -8.7304999999999993, -8.5778999999999996, -8.7263999999999999, -6.6668000000000003, -6.7474999999999996, -7.6916000000000002, -7.7115999999999998, -7.9257, -8.2034000000000002, -8.2324999999999999, -8.3989999999999991, -8.4542000000000002, -8.4901999999999997, -8.4969999999999999, -8.7072000000000003, -8.7072000000000003, -8.7151999999999994, -8.7348999999999997, -5.3423999999999996, -5.3113999999999999, -5.3484999999999996, -8.1684000000000001, -7.3414000000000001, -7.3544999999999998, -7.8643999999999998, -7.5213000000000001, -7.8285999999999998, -7.8150000000000004, -7.8912000000000004, -7.5994000000000002, -7.9128999999999996, -8.0335999999999999, -8.5380000000000003, -8.5602, -8.6103000000000005, -8.6430000000000007, -8.7094000000000005, -8.7692999999999994, -8.8120999999999992, -8.8389000000000006, -8.8552, -8.9097000000000008, -8.8926999999999996, -8.9410000000000007, -8.6826000000000008, -7.7096999999999998, -7.8719999999999999, -8.3015000000000008, -8.3239999999999998, -8.3696999999999999, -8.7089999999999996, -7.9454000000000002, -8.4267000000000003, -8.6638000000000002, -8.6813000000000002, -8.6861999999999995, -8.8036999999999992, -8.8542000000000005, -8.952, -8.9948999999999995, -8.9977999999999998, -8.9977999999999998, -9.0436999999999994, -9.0908999999999995, -9.0908999999999995, -9.0908999999999995, -8.4962, -8.4962, -8.5024999999999995, -7.9012000000000002, -8.0899999999999999, -8.0935000000000006, -7.6749999999999998, -7.6749999999999998, -7.8368000000000002, -7.8604000000000003, -7.8723999999999998, -7.9752000000000001, -8.0752000000000006, -8.3436000000000003, -8.4053000000000004, -8.4695999999999998, -8.5274000000000001, -8.5268999999999995, -8.5724999999999998, -8.5774000000000008, -8.6060999999999996, -7.7641, -7.7538, -8.1915999999999993, -7.7690999999999999, -7.4025999999999996, -7.5281000000000002, -8.1746999999999996, -7.8613, -8.1587999999999994]}};\n",
       "\n",
       "function LDAvis_load_lib(url, callback){\n",
       "  var s = document.createElement('script');\n",
       "  s.src = url;\n",
       "  s.async = true;\n",
       "  s.onreadystatechange = s.onload = callback;\n",
       "  s.onerror = function(){console.warn(\"failed to load library \" + url);};\n",
       "  document.getElementsByTagName(\"head\")[0].appendChild(s);\n",
       "}\n",
       "\n",
       "if(typeof(LDAvis) !== \"undefined\"){\n",
       "   // already loaded: just create the visualization\n",
       "   !function(LDAvis){\n",
       "       new LDAvis(\"#\" + \"ldavis_el197247787618083595326058\", ldavis_el197247787618083595326058_data);\n",
       "   }(LDAvis);\n",
       "}else if(typeof define === \"function\" && define.amd){\n",
       "   // require.js is available: use it to load d3/LDAvis\n",
       "   require.config({paths: {d3: \"https://cdnjs.cloudflare.com/ajax/libs/d3/3.5.5/d3.min\"}});\n",
       "   require([\"d3\"], function(d3){\n",
       "      window.d3 = d3;\n",
       "      LDAvis_load_lib(\"https://cdn.rawgit.com/bmabey/pyLDAvis/files/ldavis.v1.0.0.js\", function(){\n",
       "        new LDAvis(\"#\" + \"ldavis_el197247787618083595326058\", ldavis_el197247787618083595326058_data);\n",
       "      });\n",
       "    });\n",
       "}else{\n",
       "    // require.js not available: dynamically load d3 & LDAvis\n",
       "    LDAvis_load_lib(\"https://cdnjs.cloudflare.com/ajax/libs/d3/3.5.5/d3.min.js\", function(){\n",
       "         LDAvis_load_lib(\"https://cdn.rawgit.com/bmabey/pyLDAvis/files/ldavis.v1.0.0.js\", function(){\n",
       "                 new LDAvis(\"#\" + \"ldavis_el197247787618083595326058\", ldavis_el197247787618083595326058_data);\n",
       "            })\n",
       "         });\n",
       "}\n",
       "</script>"
      ],
      "text/plain": [
       "PreparedData(topic_coordinates=            Freq  cluster  topics         x         y\n",
       "topic                                                \n",
       "3      52.494205        1       1  0.392125 -0.008600\n",
       "5       9.384850        1       2  0.049355  0.223078\n",
       "2       8.992433        1       3  0.086878 -0.146538\n",
       "0       5.289750        1       4 -0.074880 -0.007439\n",
       "9       4.302341        1       5 -0.072868 -0.015570\n",
       "7       4.006290        1       6 -0.077685 -0.007551\n",
       "6       3.975965        1       7 -0.073230 -0.013324\n",
       "1       3.952001        1       8 -0.077424 -0.007813\n",
       "8       3.883223        1       9 -0.078222 -0.007560\n",
       "4       3.718941        1      10 -0.074048 -0.008684, topic_info=       Category         Freq                Term        Total  loglift  \\\n",
       "term                                                                     \n",
       "565038  Default  1883.000000                unit  1883.000000  15.0000   \n",
       "581832  Default  2315.000000               views  2315.000000  14.0000   \n",
       "421563  Default  1819.000000                pool  1819.000000  13.0000   \n",
       "432859  Default  1449.000000            property  1449.000000  12.0000   \n",
       "113863  Default  1160.000000           community  1160.000000  11.0000   \n",
       "117350  Default   841.000000             complex   841.000000  10.0000   \n",
       "225091  Default   630.000000                  ft   630.000000   9.0000   \n",
       "273463  Default  1700.000000               house  1700.000000   8.0000   \n",
       "516048  Default   630.000000                  sq   630.000000   7.0000   \n",
       "516101  Default   543.000000               sq ft   543.000000   6.0000   \n",
       "400031  Default  1260.000000             parking  1260.000000   5.0000   \n",
       "234619  Default   925.000000               gated   925.000000   4.0000   \n",
       "505458  Default  1193.000000                 spa  1193.000000   3.0000   \n",
       "34908   Default  1275.000000             balcony  1275.000000   2.0000   \n",
       "376394  Default  2361.000000               ocean  2361.000000   1.0000   \n",
       "151273   Topic1  1520.788370         dining room  1521.286349   0.6441   \n",
       "258002   Topic1  1522.693892                high  1523.209056   0.6441   \n",
       "220273   Topic1  1419.102066              formal  1419.599569   0.6441   \n",
       "490426   Topic1  1390.325246              shower  1390.876569   0.6441   \n",
       "560810   Topic1  1167.860425                 tub  1168.364924   0.6440   \n",
       "577126   Topic1  1129.829166             vaulted  1130.327749   0.6440   \n",
       "385165   Topic1  1052.977227               opens  1053.474966   0.6440   \n",
       "237454   Topic1  1015.933870               glass  1016.431750   0.6440   \n",
       "290397   Topic1   957.825181              island   958.322589   0.6439   \n",
       "220294   Topic1   909.698171       formal dining   910.195273   0.6439   \n",
       "166264   Topic1   967.646101                dual   968.177193   0.6439   \n",
       "152296   Topic1   900.010590              direct   900.507347   0.6439   \n",
       "74092    Topic1   895.332118           breakfast   895.829337   0.6439   \n",
       "239800   Topic1   937.298943            gorgeous   937.833303   0.6439   \n",
       "241997   Topic1   847.247954    granite counters   847.749958   0.6439   \n",
       "...         ...          ...                 ...          ...      ...   \n",
       "585229   Topic9    12.831292               vinci    13.824663   3.1739   \n",
       "140779   Topic9    12.830584            da vinci    13.825283   3.1738   \n",
       "140776   Topic9    12.749702                  da    14.915421   3.0916   \n",
       "588180   Topic9    23.261519         walk street    31.929548   2.9318   \n",
       "169717   Topic9    19.259499          el segundo   130.767966   1.3331   \n",
       "481492   Topic9    19.193224             segundo   130.876852   1.3288   \n",
       "321010  Topic10    27.934432         like single    28.474561   3.2726   \n",
       "321011  Topic10    27.934432  like single family    28.474561   3.2726   \n",
       "121995  Topic10    23.761503        confirmation    24.301724   3.2693   \n",
       "560739  Topic10    23.205662               trust    23.745918   3.2687   \n",
       "132163  Topic10    22.929544  court confirmation    23.469530   3.2685   \n",
       "560744  Topic10    20.689892          trust sale    21.230128   3.2660   \n",
       "201043  Topic10    18.720846   feels like single    19.260839   3.2633   \n",
       "102314  Topic10    14.313670           christmas    14.853737   3.2547   \n",
       "330452  Topic10    13.456835      location quiet    13.997852   3.2523   \n",
       "432021  Topic10    12.618605        probate sale    13.158495   3.2498   \n",
       "391079  Topic10    11.910208             overbid    12.450053   3.2474   \n",
       "275315  Topic10    11.916788          house sits    12.457558   3.2474   \n",
       "28079   Topic10    11.384871              attend    11.925776   3.2453   \n",
       "141198  Topic10    11.329445                date    11.869872   3.2451   \n",
       "577027  Topic10    11.009375             various    11.550499   3.2437   \n",
       "478596  Topic10    25.551502             seaside    39.521075   2.8556   \n",
       "169677  Topic10    25.817014           el camino    78.635610   2.1779   \n",
       "431991  Topic10    16.663602             probate    28.709116   2.7477   \n",
       "88337   Topic10    25.424170              camino    85.135242   2.0832   \n",
       "132076  Topic10    36.680787               court   312.430625   1.1496   \n",
       "473464  Topic10    32.353381                sale   271.135576   1.1658   \n",
       "88343   Topic10    16.948182      camino college    39.623962   2.4425   \n",
       "169674  Topic10    23.184758                  el   274.901516   0.8188   \n",
       "111240  Topic10    17.219862             college    53.167586   2.1643   \n",
       "\n",
       "        logprob  \n",
       "term             \n",
       "565038  15.0000  \n",
       "581832  14.0000  \n",
       "421563  13.0000  \n",
       "432859  12.0000  \n",
       "113863  11.0000  \n",
       "117350  10.0000  \n",
       "225091   9.0000  \n",
       "273463   8.0000  \n",
       "516048   7.0000  \n",
       "516101   6.0000  \n",
       "400031   5.0000  \n",
       "234619   4.0000  \n",
       "505458   3.0000  \n",
       "34908    2.0000  \n",
       "376394   1.0000  \n",
       "151273  -6.3251  \n",
       "258002  -6.3238  \n",
       "220273  -6.3943  \n",
       "490426  -6.4148  \n",
       "560810  -6.5892  \n",
       "577126  -6.6223  \n",
       "385165  -6.6927  \n",
       "237454  -6.7285  \n",
       "290397  -6.7874  \n",
       "220294  -6.8390  \n",
       "166264  -6.7772  \n",
       "152296  -6.8497  \n",
       "74092   -6.8549  \n",
       "239800  -6.8091  \n",
       "241997  -6.9101  \n",
       "...         ...  \n",
       "585229  -8.4962  \n",
       "140779  -8.4962  \n",
       "140776  -8.5025  \n",
       "588180  -7.9012  \n",
       "169717  -8.0900  \n",
       "481492  -8.0935  \n",
       "321010  -7.6750  \n",
       "321011  -7.6750  \n",
       "121995  -7.8368  \n",
       "560739  -7.8604  \n",
       "132163  -7.8724  \n",
       "560744  -7.9752  \n",
       "201043  -8.0752  \n",
       "102314  -8.3436  \n",
       "330452  -8.4053  \n",
       "432021  -8.4696  \n",
       "391079  -8.5274  \n",
       "275315  -8.5269  \n",
       "28079   -8.5725  \n",
       "141198  -8.5774  \n",
       "577027  -8.6061  \n",
       "478596  -7.7641  \n",
       "169677  -7.7538  \n",
       "431991  -8.1916  \n",
       "88337   -7.7691  \n",
       "132076  -7.4026  \n",
       "473464  -7.5281  \n",
       "88343   -8.1747  \n",
       "169674  -7.8613  \n",
       "111240  -8.1588  \n",
       "\n",
       "[297 rows x 6 columns], token_table=        Topic      Freq                   Term\n",
       "term                                          \n",
       "10922       5  0.993521       al fresco dining\n",
       "12183       2  0.645076             alta vista\n",
       "12183       8  0.354792             alta vista\n",
       "12184       8  0.917554  alta vista elementary\n",
       "13107       1  0.539267              amenities\n",
       "13107       2  0.453669              amenities\n",
       "13107       3  0.006420              amenities\n",
       "19069       1  0.243542    approximately sq ft\n",
       "19069       7  0.730626    approximately sq ft\n",
       "19341       1  0.818751              architect\n",
       "19341       6  0.172369              architect\n",
       "26912       1  0.013119               assigned\n",
       "26912       2  0.970836               assigned\n",
       "28079      10  0.922372                 attend\n",
       "34908       1  0.808950                balcony\n",
       "34908       2  0.190479                balcony\n",
       "46987       7  0.983159           bathrooms sq\n",
       "46989       7  0.945074        bathrooms sq ft\n",
       "47606       8  0.984487           baths family\n",
       "47608       8  0.931111      baths family room\n",
       "48377       7  0.969510               baths sq\n",
       "48378       7  0.988760            baths sq ft\n",
       "53745       5  0.961538             beach tree\n",
       "59184       1  0.837683           bedroom bath\n",
       "59184       2  0.022973           bedroom bath\n",
       "59184       3  0.139477           bedroom bath\n",
       "61470       5  0.899482        bedroom perfect\n",
       "63080       7  0.991704  bedrooms bathrooms sq\n",
       "63187       8  0.981007  bedrooms baths family\n",
       "63313       7  0.967162      bedrooms baths sq\n",
       "...       ...       ...                    ...\n",
       "579809      4  0.043714                   view\n",
       "581832      1  0.844214                  views\n",
       "581832      2  0.005614                  views\n",
       "581832      4  0.149843                  views\n",
       "582145      4  0.983601         views catalina\n",
       "583009      2  0.987235           views living\n",
       "585229      1  0.072334                  vinci\n",
       "585229      9  0.940348                  vinci\n",
       "585230      9  0.962172          vinci charter\n",
       "585633      8  0.960795                virtual\n",
       "585638      8  0.986933           virtual tour\n",
       "585861      8  0.995153       vista elementary\n",
       "586880      1  0.974164                   walk\n",
       "586880      2  0.021230                   walk\n",
       "586880      3  0.004853                   walk\n",
       "588180      2  0.250552            walk street\n",
       "588180      9  0.720336            walk street\n",
       "591386      6  0.917926    walteria elementary\n",
       "593360      1  0.862534                  water\n",
       "593360      2  0.083342                  water\n",
       "593360      3  0.021086                  water\n",
       "593360      5  0.033136                  water\n",
       "593667      1  0.830200           water heater\n",
       "593667      3  0.064076           water heater\n",
       "593667      5  0.103079           water heater\n",
       "594220      2  0.999599            water trash\n",
       "594703      4  0.989495                  waves\n",
       "599900      2  0.992574                 wilson\n",
       "599911      2  0.992163            wilson park\n",
       "603486      4  0.998554      wine refrigerator\n",
       "\n",
       "[478 rows x 3 columns], R=15, lambda_step=0.01, plot_opts={'xlab': 'PC1', 'ylab': 'PC2'}, topic_order=[4, 6, 3, 1, 10, 8, 7, 2, 9, 5])"
      ]
     },
     "execution_count": 27,
     "metadata": {},
     "output_type": "execute_result"
    }
   ],
   "source": [
    "pyLDAvis.sklearn.prepare(lda_tf, dtm_tf, tf_vectorizer, R=15)"
   ]
  },
  {
   "cell_type": "markdown",
   "metadata": {},
   "source": [
    "## Try making predictions using the Naive Bayes Classifier models in Scikit Learn\n",
    "\n",
    "We are testing to see if the property description for a property listing can be a suitable predictor of the quality of that listing, from a Realtor's perspective."
   ]
  },
  {
   "cell_type": "code",
   "execution_count": 28,
   "metadata": {
    "collapsed": false
   },
   "outputs": [],
   "source": [
    "def parseCSVstring(values):\n",
    "    # GENERATOR\n",
    "    # Input is a string, with values that are separated by commas.\n",
    "    \n",
    "    # Check to make sure that the values argument is something other than an empty string.  If it is empty,\n",
    "    # then return and empty string\n",
    "    if (len(values.strip()) <= 0): yield '';\n",
    "    \n",
    "    # Cycle through the string\n",
    "    start=0\n",
    "    end = len(values)\n",
    "    stop = False\n",
    "    tempValues = values\n",
    "    while not stop:        \n",
    "        # Find the position of the comma, starting the search at the start position.\n",
    "        commaIndex = find(tempValues,',',start,end)\n",
    "        # If there was no comma found, then return the tempValue\n",
    "        if (commaIndex < 0):\n",
    "            result = tempValues.strip()\n",
    "            stop = True\n",
    "        else:\n",
    "            result = values[start:commaIndex].strip()\n",
    "            tempValues = tempValues[commaIndex+1:]\n",
    "        \n",
    "        yield result\n",
    "        "
   ]
  },
  {
   "cell_type": "code",
   "execution_count": 29,
   "metadata": {
    "collapsed": true
   },
   "outputs": [],
   "source": [
    "def calcQualScore(cdom, price_margin, escrow_length, sold_terms, financing):\n",
    "    \n",
    "    # Rating between 1 and 5\n",
    "    # Weights\n",
    "    cdom_wt = 0.225\n",
    "    price_margin_wt = 0.15\n",
    "    escrow_length_wt = 0.2\n",
    "    sold_terms_wt = 0.2\n",
    "    financing_wt = 0.225\n",
    "    \n",
    "    # CDOM\n",
    "    if (cdom <= 14):\n",
    "        cdomScore = 5\n",
    "    elif (cdom > 14) and (cdom <= 30):\n",
    "        cdomScore = 4\n",
    "    elif (cdom > 30) and (cdom <= 60):\n",
    "        cdomScore = 3\n",
    "    elif (cdom > 60) and (cdom <= 90):\n",
    "        cdomScore = 2\n",
    "    else:\n",
    "        cdomScore = 1\n",
    "    \n",
    "    # NOTE:  MAYBE CONSIDER SCORING BASED ON THE MARGIN PCT OF THE LIST PRICE.\n",
    "    # price_margin\n",
    "    if (price_margin > 50000):\n",
    "        price_marginScore = 5\n",
    "    elif (price_margin <= 50000) and (price_margin > 30000):\n",
    "        price_marginScore = 4\n",
    "    elif (price_margin <= 30000) and (price_margin > 0):\n",
    "        price_marginScore = 3\n",
    "    elif (price_margin <= 0) and (price_margin >= -10000):\n",
    "        price_marginScore = 2\n",
    "    else:\n",
    "        price_marginScore = 1\n",
    "    \n",
    "    # escrow_length\n",
    "    if (escrow_length <= 14):\n",
    "        escrow_lengthScore = 5\n",
    "    elif (escrow_length > 14) and (escrow_length <= 30):\n",
    "        escrow_lengthScore = 4\n",
    "    elif (escrow_length > 30) and (escrow_length <= 45):\n",
    "        escrow_lengthScore = 3\n",
    "    elif (escrow_length > 45) and (escrow_length <= 60):\n",
    "        escrow_lengthScore = 2\n",
    "    else:\n",
    "        escrow_lengthScore = 1\n",
    "    \n",
    "    # sold_terms\n",
    "    # Parse the sold_terms column to extract each sold_terms.\n",
    "    numSold_Terms=0\n",
    "    sold_termsScoreSum = 0\n",
    "    for value in parseCSVstring(sold_terms):\n",
    "        if (value in ['Standard Sale', 'None']):\n",
    "            sold_termsScoreSum += 5\n",
    "        elif (value in ['Seller Financing', 'Assumed', 'Exchange/Trade']):\n",
    "            sold_termsScoreSum += 4\n",
    "        elif (value in ['Real Estate Owned', 'Seller Concessions']):\n",
    "            sold_termsScoreSum += 3\n",
    "        elif (value in ['Auction', 'Contract of Sale', 'Lease Option']):\n",
    "            sold_termsScoreSum += 2\n",
    "        elif (value in ['Short Payoff', 'In Foreclosure']):\n",
    "            sold_termsScoreSum += 1\n",
    "        else:\n",
    "            sold_termsScoreSum += 0\n",
    "        numSold_Terms+=1\n",
    "    sold_termsScore = sold_termsScoreSum / numSold_Terms\n",
    "    \n",
    "    # financing\n",
    "    # Parse the financing column to extract each financing type.\n",
    "    numFinancing=0\n",
    "    financingScoreSum = 0\n",
    "    for value in parseCSVstring(financing):\n",
    "        if (value in ['Cash', 'Conventional', 'None']):\n",
    "            financingScoreSum += 5\n",
    "        elif (value in ['Cash to New Loan', 'Cash to Loan']):\n",
    "            financingScoreSum += 4\n",
    "        elif (value in ['FHA Loan', 'Cal Vet', 'VA Loan', 'Private', 'Cash to Second Loan']):\n",
    "            financingScoreSum += 3\n",
    "        elif (value in ['All Inclusive Trust Deed', 'Contract', 'Assumed', 'Owner Carried']):\n",
    "            financingScoreSum += 2\n",
    "        elif (value in ['CNTR', 'See Remarks', 'FHVA', 'Trust Conveyance']):\n",
    "            financingScoreSum += 1\n",
    "        else:\n",
    "            financingScoreSum += 0\n",
    "        numFinancing+=1\n",
    "    financingScore = financingScoreSum / numFinancing\n",
    "    \n",
    "    return int(round((cdomScore * cdom_wt) + (price_marginScore * price_margin_wt) + (escrow_lengthScore * escrow_length_wt) + \\\n",
    "        (sold_termsScore * sold_terms_wt) + (financingScore * financing_wt)))"
   ]
  },
  {
   "cell_type": "code",
   "execution_count": 30,
   "metadata": {
    "collapsed": false
   },
   "outputs": [],
   "source": [
    "def calcQualScore10(cdom, price_margin, escrow_length, sold_terms, financing):\n",
    "    \n",
    "    # Rating between 1 and 10\n",
    "    # Weights\n",
    "    cdom_wt = 0.225\n",
    "    price_margin_wt = 0.15\n",
    "    escrow_length_wt = 0.2\n",
    "    sold_terms_wt = 0.2\n",
    "    financing_wt = 0.225\n",
    "    \n",
    "    # CDOM\n",
    "    if (cdom <= 7):\n",
    "        cdomScore = 10\n",
    "    elif (cdom > 7) and (cdom <= 14):\n",
    "        cdomScore = 9\n",
    "    elif (cdom > 14) and (cdom <= 21):\n",
    "        cdomScore = 8\n",
    "    elif (cdom > 21) and (cdom <= 30):\n",
    "        cdomScore = 7\n",
    "    elif (cdom > 30) and (cdom <= 45):\n",
    "        cdomScore = 6\n",
    "    elif (cdom > 45) and (cdom <= 60):\n",
    "        cdomScore = 5\n",
    "    elif (cdom > 60) and (cdom <= 75):\n",
    "        cdomScore = 4\n",
    "    elif (cdom > 75) and (cdom <= 90):\n",
    "        cdomScore = 3\n",
    "    elif (cdom > 90) and (cdom <= 120):\n",
    "        cdomScore = 2\n",
    "    else:\n",
    "        cdomScore = 1\n",
    "    \n",
    "    # NOTE:  MAYBE CONSIDER SCORING BASED ON THE MARGIN PCT OF THE LIST PRICE.\n",
    "    # price_margin\n",
    "    if (price_margin > 50000):\n",
    "        price_marginScore = 10\n",
    "    elif (price_margin <= 50000) and (price_margin > 45000):\n",
    "        price_marginScore = 9\n",
    "    elif (price_margin <= 45000) and (price_margin > 30000):\n",
    "        price_marginScore = 8\n",
    "    elif (price_margin <= 30000) and (price_margin > 15000):\n",
    "        price_marginScore = 7\n",
    "    elif (price_margin <= 15000) and (price_margin > 10000):\n",
    "        price_marginScore = 6\n",
    "    elif (price_margin <= 10000) and (price_margin > 5000):\n",
    "        price_marginScore = 5\n",
    "    elif (price_margin <= 5000) and (price_margin > 0):\n",
    "        price_marginScore = 4\n",
    "    elif (price_margin <= 0) and (price_margin > -5000):\n",
    "        price_marginScore = 3\n",
    "    elif (price_margin <= -5000) and (price_margin > -20000):\n",
    "        price_marginScore = 2\n",
    "    else:\n",
    "        price_marginScore = 1\n",
    "    \n",
    "    # escrow_length\n",
    "    if (escrow_length <= 7):\n",
    "        escrow_lengthScore = 10\n",
    "    elif (escrow_length > 7) and (escrow_length <= 14):\n",
    "        escrow_lengthScore = 9\n",
    "    elif (escrow_length > 14) and (escrow_length <= 21):\n",
    "        escrow_lengthScore = 8\n",
    "    elif (escrow_length > 21) and (escrow_length <= 28):\n",
    "        escrow_lengthScore = 7\n",
    "    elif (escrow_length > 28) and (escrow_length <= 35):\n",
    "        escrow_lengthScore = 6\n",
    "    elif (escrow_length > 35) and (escrow_length <= 42):\n",
    "        escrow_lengthScore = 5\n",
    "    elif (escrow_length > 42) and (escrow_length <= 49):\n",
    "        escrow_lengthScore = 4\n",
    "    elif (escrow_length > 49) and (escrow_length <= 56):\n",
    "        escrow_lengthScore = 3\n",
    "    elif (escrow_length > 56) and (escrow_length <= 63):\n",
    "        escrow_lengthScore = 2\n",
    "    else:\n",
    "        escrow_lengthScore = 1\n",
    "    \n",
    "    # sold_terms\n",
    "    # Parse the sold_terms column to extract each sold_terms.\n",
    "    numSold_Terms=0\n",
    "    sold_termsScoreSum = 0\n",
    "    for value in parseCSVstring(sold_terms):\n",
    "        if (value in ['Standard Sale', 'None']):\n",
    "            sold_termsScoreSum += 10\n",
    "        elif (value in ['Seller Financing']):\n",
    "            sold_termsScoreSum += 9\n",
    "        elif (value in ['Real Estate Owned', 'Assumed']):\n",
    "            sold_termsScoreSum += 8\n",
    "        elif (value in ['Contract of Sale']):\n",
    "            sold_termsScoreSum += 7\n",
    "        elif (value in ['Seller Concessions']):\n",
    "            sold_termsScoreSum += 6\n",
    "        elif (value in ['Exchange/Trade']):\n",
    "            sold_termsScoreSum += 5\n",
    "        elif (value in ['Lease Option']):\n",
    "            sold_termsScoreSum += 4\n",
    "        elif (value in ['Auction']):\n",
    "            sold_termsScoreSum += 3\n",
    "        elif (value in ['In Foreclosure']):\n",
    "            sold_termsScoreSum += 2\n",
    "        elif (value in ['Short Payoff']):\n",
    "            sold_termsScoreSum += 1\n",
    "        else:\n",
    "            sold_termsScoreSum += 0\n",
    "        numSold_Terms+=1\n",
    "    sold_termsScore = sold_termsScoreSum / numSold_Terms\n",
    "    \n",
    "    # financing\n",
    "    # Parse the financing column to extract each financing type.\n",
    "    numFinancing=0\n",
    "    financingScoreSum = 0\n",
    "    for value in parseCSVstring(financing):\n",
    "        if (value in ['Cash', 'None']):\n",
    "            financingScoreSum += 10\n",
    "        elif (value in ['Conventional']):\n",
    "            financingScoreSum += 9\n",
    "        elif (value in ['Cash to New Loan', 'Cash to Loan']):\n",
    "            financingScoreSum += 8\n",
    "        elif (value in ['Private']):\n",
    "            financingScoreSum += 7\n",
    "        elif (value in ['FHA Loan', 'Cal Vet', 'VA Loan']):\n",
    "            financingScoreSum += 6\n",
    "        elif (value in ['Cash to Second Loan']):\n",
    "            financingScoreSum += 5\n",
    "        elif (value in ['All Inclusive Trust Deed', 'Contract', 'Owner Carried']):\n",
    "            financingScoreSum += 4\n",
    "        elif (value in ['Assumed']):\n",
    "            financingScoreSum += 3\n",
    "        elif (value in ['FHVA', 'Trust Conveyance']):\n",
    "            financingScoreSum += 2\n",
    "        elif (value in ['CNTR', 'See Remarks']):\n",
    "            financingScoreSum += 1\n",
    "        else:\n",
    "            financingScoreSum += 0\n",
    "        numFinancing+=1\n",
    "    financingScore = financingScoreSum / numFinancing\n",
    "    \n",
    "    return int(round((cdomScore * cdom_wt) + (price_marginScore * price_margin_wt) + (escrow_lengthScore * escrow_length_wt) + \\\n",
    "        (sold_termsScore * sold_terms_wt) + (financingScore * financing_wt)))"
   ]
  },
  {
   "cell_type": "code",
   "execution_count": 31,
   "metadata": {
    "collapsed": false
   },
   "outputs": [
    {
     "data": {
      "text/html": [
       "<div>\n",
       "<table border=\"1\" class=\"dataframe\">\n",
       "  <thead>\n",
       "    <tr style=\"text-align: right;\">\n",
       "      <th></th>\n",
       "      <th>property_description</th>\n",
       "      <th>cdom</th>\n",
       "      <th>list_price</th>\n",
       "      <th>sold_price</th>\n",
       "      <th>price_margin</th>\n",
       "      <th>purchase_contract_date</th>\n",
       "      <th>closed_sale_date</th>\n",
       "      <th>escrow_length</th>\n",
       "      <th>sold_terms</th>\n",
       "      <th>financing</th>\n",
       "    </tr>\n",
       "  </thead>\n",
       "  <tbody>\n",
       "    <tr>\n",
       "      <th>0</th>\n",
       "      <td>This is a 2 bedroom, 1 bathroom property with ...</td>\n",
       "      <td>136</td>\n",
       "      <td>410000.0</td>\n",
       "      <td>390000.0</td>\n",
       "      <td>-20000.0</td>\n",
       "      <td>2015-04-14</td>\n",
       "      <td>2015-06-25</td>\n",
       "      <td>72</td>\n",
       "      <td>Standard Sale</td>\n",
       "      <td>Cash</td>\n",
       "    </tr>\n",
       "    <tr>\n",
       "      <th>1</th>\n",
       "      <td>Wiseburn Fixer. 3 bed/1 bath home has lots of ...</td>\n",
       "      <td>1</td>\n",
       "      <td>410000.0</td>\n",
       "      <td>410000.0</td>\n",
       "      <td>0.0</td>\n",
       "      <td>2015-01-28</td>\n",
       "      <td>2015-02-20</td>\n",
       "      <td>23</td>\n",
       "      <td>Standard Sale</td>\n",
       "      <td>Conventional</td>\n",
       "    </tr>\n",
       "    <tr>\n",
       "      <th>2</th>\n",
       "      <td>Have you been priced out of the South Bay? Lov...</td>\n",
       "      <td>90</td>\n",
       "      <td>449900.0</td>\n",
       "      <td>410000.0</td>\n",
       "      <td>-39900.0</td>\n",
       "      <td>2015-03-26</td>\n",
       "      <td>2015-04-02</td>\n",
       "      <td>7</td>\n",
       "      <td>None</td>\n",
       "      <td>Cash to New Loan</td>\n",
       "    </tr>\n",
       "    <tr>\n",
       "      <th>3</th>\n",
       "      <td>This 3 bdrm. 1 bath home  Property is a fixer-...</td>\n",
       "      <td>5</td>\n",
       "      <td>410000.0</td>\n",
       "      <td>416000.0</td>\n",
       "      <td>6000.0</td>\n",
       "      <td>2015-04-15</td>\n",
       "      <td>2015-04-30</td>\n",
       "      <td>15</td>\n",
       "      <td>Standard Sale</td>\n",
       "      <td>Cash</td>\n",
       "    </tr>\n",
       "    <tr>\n",
       "      <th>4</th>\n",
       "      <td>Del Aire major fixer. Probate sale, court conf...</td>\n",
       "      <td>15</td>\n",
       "      <td>429000.0</td>\n",
       "      <td>450000.0</td>\n",
       "      <td>21000.0</td>\n",
       "      <td>2015-01-29</td>\n",
       "      <td>2015-02-27</td>\n",
       "      <td>29</td>\n",
       "      <td>Standard Sale</td>\n",
       "      <td>Cash</td>\n",
       "    </tr>\n",
       "  </tbody>\n",
       "</table>\n",
       "</div>"
      ],
      "text/plain": [
       "                                property_description  cdom  list_price  \\\n",
       "0  This is a 2 bedroom, 1 bathroom property with ...   136    410000.0   \n",
       "1  Wiseburn Fixer. 3 bed/1 bath home has lots of ...     1    410000.0   \n",
       "2  Have you been priced out of the South Bay? Lov...    90    449900.0   \n",
       "3  This 3 bdrm. 1 bath home  Property is a fixer-...     5    410000.0   \n",
       "4  Del Aire major fixer. Probate sale, court conf...    15    429000.0   \n",
       "\n",
       "   sold_price  price_margin purchase_contract_date closed_sale_date  \\\n",
       "0    390000.0      -20000.0             2015-04-14       2015-06-25   \n",
       "1    410000.0           0.0             2015-01-28       2015-02-20   \n",
       "2    410000.0      -39900.0             2015-03-26       2015-04-02   \n",
       "3    416000.0        6000.0             2015-04-15       2015-04-30   \n",
       "4    450000.0       21000.0             2015-01-29       2015-02-27   \n",
       "\n",
       "   escrow_length     sold_terms         financing  \n",
       "0             72  Standard Sale              Cash  \n",
       "1             23  Standard Sale      Conventional  \n",
       "2              7           None  Cash to New Loan  \n",
       "3             15  Standard Sale              Cash  \n",
       "4             29  Standard Sale              Cash  "
      ]
     },
     "execution_count": 31,
     "metadata": {},
     "output_type": "execute_result"
    }
   ],
   "source": [
    "# We need to populate the \n",
    "query = \"select property_description,\\\n",
    " cdom,\\\n",
    " list_price,\\\n",
    " sold_price,\\\n",
    " sold_price - list_price as price_margin,\\\n",
    " purchase_contract_date,\\\n",
    " closed_sale_date,\\\n",
    " closed_sale_date - purchase_contract_date escrow_length,\\\n",
    " sold_terms,\\\n",
    " financing\\\n",
    " from listings\\\n",
    " where property_description is not null\\\n",
    " and property_description <> '';\"\n",
    "\n",
    "dfData = pd.read_sql(sql=query,con=conn)\n",
    "dfData.head()"
   ]
  },
  {
   "cell_type": "code",
   "execution_count": 32,
   "metadata": {
    "collapsed": false
   },
   "outputs": [
    {
     "data": {
      "text/plain": [
       "property_description      8001\n",
       "cdom                      8001\n",
       "list_price                8001\n",
       "sold_price                8001\n",
       "price_margin              8001\n",
       "purchase_contract_date    8001\n",
       "closed_sale_date          8001\n",
       "escrow_length             8001\n",
       "sold_terms                7598\n",
       "financing                 7745\n",
       "dtype: int64"
      ]
     },
     "execution_count": 32,
     "metadata": {},
     "output_type": "execute_result"
    }
   ],
   "source": [
    "dfData.count()"
   ]
  },
  {
   "cell_type": "code",
   "execution_count": 33,
   "metadata": {
    "collapsed": false
   },
   "outputs": [
    {
     "data": {
      "text/html": [
       "<div>\n",
       "<table border=\"1\" class=\"dataframe\">\n",
       "  <thead>\n",
       "    <tr style=\"text-align: right;\">\n",
       "      <th></th>\n",
       "      <th>property_description</th>\n",
       "      <th>cdom</th>\n",
       "      <th>list_price</th>\n",
       "      <th>sold_price</th>\n",
       "      <th>price_margin</th>\n",
       "      <th>purchase_contract_date</th>\n",
       "      <th>closed_sale_date</th>\n",
       "      <th>escrow_length</th>\n",
       "      <th>sold_terms</th>\n",
       "      <th>financing</th>\n",
       "    </tr>\n",
       "  </thead>\n",
       "  <tbody>\n",
       "    <tr>\n",
       "      <th>0</th>\n",
       "      <td>This is a 2 bedroom, 1 bathroom property with ...</td>\n",
       "      <td>136</td>\n",
       "      <td>410000.0</td>\n",
       "      <td>390000.0</td>\n",
       "      <td>-20000.0</td>\n",
       "      <td>2015-04-14</td>\n",
       "      <td>2015-06-25</td>\n",
       "      <td>72</td>\n",
       "      <td>Standard Sale</td>\n",
       "      <td>Cash</td>\n",
       "    </tr>\n",
       "    <tr>\n",
       "      <th>1</th>\n",
       "      <td>Wiseburn Fixer. 3 bed/1 bath home has lots of ...</td>\n",
       "      <td>1</td>\n",
       "      <td>410000.0</td>\n",
       "      <td>410000.0</td>\n",
       "      <td>0.0</td>\n",
       "      <td>2015-01-28</td>\n",
       "      <td>2015-02-20</td>\n",
       "      <td>23</td>\n",
       "      <td>Standard Sale</td>\n",
       "      <td>Conventional</td>\n",
       "    </tr>\n",
       "    <tr>\n",
       "      <th>2</th>\n",
       "      <td>Have you been priced out of the South Bay? Lov...</td>\n",
       "      <td>90</td>\n",
       "      <td>449900.0</td>\n",
       "      <td>410000.0</td>\n",
       "      <td>-39900.0</td>\n",
       "      <td>2015-03-26</td>\n",
       "      <td>2015-04-02</td>\n",
       "      <td>7</td>\n",
       "      <td>Standard Sale</td>\n",
       "      <td>Cash to New Loan</td>\n",
       "    </tr>\n",
       "    <tr>\n",
       "      <th>3</th>\n",
       "      <td>This 3 bdrm. 1 bath home  Property is a fixer-...</td>\n",
       "      <td>5</td>\n",
       "      <td>410000.0</td>\n",
       "      <td>416000.0</td>\n",
       "      <td>6000.0</td>\n",
       "      <td>2015-04-15</td>\n",
       "      <td>2015-04-30</td>\n",
       "      <td>15</td>\n",
       "      <td>Standard Sale</td>\n",
       "      <td>Cash</td>\n",
       "    </tr>\n",
       "    <tr>\n",
       "      <th>4</th>\n",
       "      <td>Del Aire major fixer. Probate sale, court conf...</td>\n",
       "      <td>15</td>\n",
       "      <td>429000.0</td>\n",
       "      <td>450000.0</td>\n",
       "      <td>21000.0</td>\n",
       "      <td>2015-01-29</td>\n",
       "      <td>2015-02-27</td>\n",
       "      <td>29</td>\n",
       "      <td>Standard Sale</td>\n",
       "      <td>Cash</td>\n",
       "    </tr>\n",
       "    <tr>\n",
       "      <th>5</th>\n",
       "      <td>Beautiful house needs some work . Buyer and  b...</td>\n",
       "      <td>7</td>\n",
       "      <td>460000.0</td>\n",
       "      <td>460000.0</td>\n",
       "      <td>0.0</td>\n",
       "      <td>2015-03-16</td>\n",
       "      <td>2015-05-15</td>\n",
       "      <td>60</td>\n",
       "      <td>Standard Sale</td>\n",
       "      <td>Cal Vet</td>\n",
       "    </tr>\n",
       "    <tr>\n",
       "      <th>6</th>\n",
       "      <td>Immaculate starter home in Wiseburn School Are...</td>\n",
       "      <td>111</td>\n",
       "      <td>469000.0</td>\n",
       "      <td>474000.0</td>\n",
       "      <td>5000.0</td>\n",
       "      <td>2015-04-09</td>\n",
       "      <td>2015-05-27</td>\n",
       "      <td>48</td>\n",
       "      <td>Standard Sale</td>\n",
       "      <td>FHA Loan</td>\n",
       "    </tr>\n",
       "    <tr>\n",
       "      <th>7</th>\n",
       "      <td>2 bedroom 2 bath with cherry finish wood floor...</td>\n",
       "      <td>115</td>\n",
       "      <td>474000.0</td>\n",
       "      <td>474000.0</td>\n",
       "      <td>0.0</td>\n",
       "      <td>2015-02-25</td>\n",
       "      <td>2015-03-27</td>\n",
       "      <td>30</td>\n",
       "      <td>Standard Sale</td>\n",
       "      <td>Conventional</td>\n",
       "    </tr>\n",
       "    <tr>\n",
       "      <th>8</th>\n",
       "      <td>WISEBURN SCHOOL DISTRICT!!! Remodeled home sit...</td>\n",
       "      <td>251</td>\n",
       "      <td>489000.0</td>\n",
       "      <td>490000.0</td>\n",
       "      <td>1000.0</td>\n",
       "      <td>2015-04-01</td>\n",
       "      <td>2015-05-21</td>\n",
       "      <td>50</td>\n",
       "      <td>Standard Sale</td>\n",
       "      <td>Conventional</td>\n",
       "    </tr>\n",
       "    <tr>\n",
       "      <th>9</th>\n",
       "      <td>East Del Aire Starter home on quiet non throug...</td>\n",
       "      <td>42</td>\n",
       "      <td>495000.0</td>\n",
       "      <td>495000.0</td>\n",
       "      <td>0.0</td>\n",
       "      <td>2015-02-28</td>\n",
       "      <td>2015-04-08</td>\n",
       "      <td>39</td>\n",
       "      <td>Standard Sale</td>\n",
       "      <td>FHA Loan</td>\n",
       "    </tr>\n",
       "  </tbody>\n",
       "</table>\n",
       "</div>"
      ],
      "text/plain": [
       "                                property_description  cdom  list_price  \\\n",
       "0  This is a 2 bedroom, 1 bathroom property with ...   136    410000.0   \n",
       "1  Wiseburn Fixer. 3 bed/1 bath home has lots of ...     1    410000.0   \n",
       "2  Have you been priced out of the South Bay? Lov...    90    449900.0   \n",
       "3  This 3 bdrm. 1 bath home  Property is a fixer-...     5    410000.0   \n",
       "4  Del Aire major fixer. Probate sale, court conf...    15    429000.0   \n",
       "5  Beautiful house needs some work . Buyer and  b...     7    460000.0   \n",
       "6  Immaculate starter home in Wiseburn School Are...   111    469000.0   \n",
       "7  2 bedroom 2 bath with cherry finish wood floor...   115    474000.0   \n",
       "8  WISEBURN SCHOOL DISTRICT!!! Remodeled home sit...   251    489000.0   \n",
       "9  East Del Aire Starter home on quiet non throug...    42    495000.0   \n",
       "\n",
       "   sold_price  price_margin purchase_contract_date closed_sale_date  \\\n",
       "0    390000.0      -20000.0             2015-04-14       2015-06-25   \n",
       "1    410000.0           0.0             2015-01-28       2015-02-20   \n",
       "2    410000.0      -39900.0             2015-03-26       2015-04-02   \n",
       "3    416000.0        6000.0             2015-04-15       2015-04-30   \n",
       "4    450000.0       21000.0             2015-01-29       2015-02-27   \n",
       "5    460000.0           0.0             2015-03-16       2015-05-15   \n",
       "6    474000.0        5000.0             2015-04-09       2015-05-27   \n",
       "7    474000.0           0.0             2015-02-25       2015-03-27   \n",
       "8    490000.0        1000.0             2015-04-01       2015-05-21   \n",
       "9    495000.0           0.0             2015-02-28       2015-04-08   \n",
       "\n",
       "   escrow_length     sold_terms         financing  \n",
       "0             72  Standard Sale              Cash  \n",
       "1             23  Standard Sale      Conventional  \n",
       "2              7  Standard Sale  Cash to New Loan  \n",
       "3             15  Standard Sale              Cash  \n",
       "4             29  Standard Sale              Cash  \n",
       "5             60  Standard Sale           Cal Vet  \n",
       "6             48  Standard Sale          FHA Loan  \n",
       "7             30  Standard Sale      Conventional  \n",
       "8             50  Standard Sale      Conventional  \n",
       "9             39  Standard Sale          FHA Loan  "
      ]
     },
     "execution_count": 33,
     "metadata": {},
     "output_type": "execute_result"
    }
   ],
   "source": [
    "# Go through each row and calculate the qual_score\n",
    "\n",
    "# Fill in missing values first.\n",
    "dfData['sold_terms'] = ['Standard Sale' if (type(x) == NoneType) else x for x in dfData['sold_terms']]  # 'Standard Sale' is the most common.\n",
    "dfData['financing'] = ['Conventional' if (type(x) == NoneType) else x for x in dfData['financing']]  # 'Conventional' is the most common.\n",
    "dfData.head(10)"
   ]
  },
  {
   "cell_type": "code",
   "execution_count": 34,
   "metadata": {
    "collapsed": false
   },
   "outputs": [
    {
     "data": {
      "text/html": [
       "<div>\n",
       "<table border=\"1\" class=\"dataframe\">\n",
       "  <thead>\n",
       "    <tr style=\"text-align: right;\">\n",
       "      <th></th>\n",
       "      <th>property_description</th>\n",
       "      <th>cdom</th>\n",
       "      <th>list_price</th>\n",
       "      <th>sold_price</th>\n",
       "      <th>price_margin</th>\n",
       "      <th>purchase_contract_date</th>\n",
       "      <th>closed_sale_date</th>\n",
       "      <th>escrow_length</th>\n",
       "      <th>sold_terms</th>\n",
       "      <th>financing</th>\n",
       "      <th>rqual_score5</th>\n",
       "      <th>rqual_score10</th>\n",
       "    </tr>\n",
       "  </thead>\n",
       "  <tbody>\n",
       "    <tr>\n",
       "      <th>0</th>\n",
       "      <td>This is a 2 bedroom, 1 bathroom property with ...</td>\n",
       "      <td>136</td>\n",
       "      <td>410000.0</td>\n",
       "      <td>390000.0</td>\n",
       "      <td>-20000.0</td>\n",
       "      <td>2015-04-14</td>\n",
       "      <td>2015-06-25</td>\n",
       "      <td>72</td>\n",
       "      <td>Standard Sale</td>\n",
       "      <td>Cash</td>\n",
       "      <td>3</td>\n",
       "      <td>5</td>\n",
       "    </tr>\n",
       "    <tr>\n",
       "      <th>1</th>\n",
       "      <td>Wiseburn Fixer. 3 bed/1 bath home has lots of ...</td>\n",
       "      <td>1</td>\n",
       "      <td>410000.0</td>\n",
       "      <td>410000.0</td>\n",
       "      <td>0.0</td>\n",
       "      <td>2015-01-28</td>\n",
       "      <td>2015-02-20</td>\n",
       "      <td>23</td>\n",
       "      <td>Standard Sale</td>\n",
       "      <td>Conventional</td>\n",
       "      <td>4</td>\n",
       "      <td>8</td>\n",
       "    </tr>\n",
       "    <tr>\n",
       "      <th>2</th>\n",
       "      <td>Have you been priced out of the South Bay? Lov...</td>\n",
       "      <td>90</td>\n",
       "      <td>449900.0</td>\n",
       "      <td>410000.0</td>\n",
       "      <td>-39900.0</td>\n",
       "      <td>2015-03-26</td>\n",
       "      <td>2015-04-02</td>\n",
       "      <td>7</td>\n",
       "      <td>Standard Sale</td>\n",
       "      <td>Cash to New Loan</td>\n",
       "      <td>4</td>\n",
       "      <td>7</td>\n",
       "    </tr>\n",
       "    <tr>\n",
       "      <th>3</th>\n",
       "      <td>This 3 bdrm. 1 bath home  Property is a fixer-...</td>\n",
       "      <td>5</td>\n",
       "      <td>410000.0</td>\n",
       "      <td>416000.0</td>\n",
       "      <td>6000.0</td>\n",
       "      <td>2015-04-15</td>\n",
       "      <td>2015-04-30</td>\n",
       "      <td>15</td>\n",
       "      <td>Standard Sale</td>\n",
       "      <td>Cash</td>\n",
       "      <td>5</td>\n",
       "      <td>9</td>\n",
       "    </tr>\n",
       "    <tr>\n",
       "      <th>4</th>\n",
       "      <td>Del Aire major fixer. Probate sale, court conf...</td>\n",
       "      <td>15</td>\n",
       "      <td>429000.0</td>\n",
       "      <td>450000.0</td>\n",
       "      <td>21000.0</td>\n",
       "      <td>2015-01-29</td>\n",
       "      <td>2015-02-27</td>\n",
       "      <td>29</td>\n",
       "      <td>Standard Sale</td>\n",
       "      <td>Cash</td>\n",
       "      <td>4</td>\n",
       "      <td>8</td>\n",
       "    </tr>\n",
       "  </tbody>\n",
       "</table>\n",
       "</div>"
      ],
      "text/plain": [
       "                                property_description  cdom  list_price  \\\n",
       "0  This is a 2 bedroom, 1 bathroom property with ...   136    410000.0   \n",
       "1  Wiseburn Fixer. 3 bed/1 bath home has lots of ...     1    410000.0   \n",
       "2  Have you been priced out of the South Bay? Lov...    90    449900.0   \n",
       "3  This 3 bdrm. 1 bath home  Property is a fixer-...     5    410000.0   \n",
       "4  Del Aire major fixer. Probate sale, court conf...    15    429000.0   \n",
       "\n",
       "   sold_price  price_margin purchase_contract_date closed_sale_date  \\\n",
       "0    390000.0      -20000.0             2015-04-14       2015-06-25   \n",
       "1    410000.0           0.0             2015-01-28       2015-02-20   \n",
       "2    410000.0      -39900.0             2015-03-26       2015-04-02   \n",
       "3    416000.0        6000.0             2015-04-15       2015-04-30   \n",
       "4    450000.0       21000.0             2015-01-29       2015-02-27   \n",
       "\n",
       "   escrow_length     sold_terms         financing  rqual_score5  rqual_score10  \n",
       "0             72  Standard Sale              Cash             3              5  \n",
       "1             23  Standard Sale      Conventional             4              8  \n",
       "2              7  Standard Sale  Cash to New Loan             4              7  \n",
       "3             15  Standard Sale              Cash             5              9  \n",
       "4             29  Standard Sale              Cash             4              8  "
      ]
     },
     "execution_count": 34,
     "metadata": {},
     "output_type": "execute_result"
    }
   ],
   "source": [
    "# Now that the data is prepped, create the qual_score based on the standardized values.\n",
    "qualScores5 = []\n",
    "qualScores10 = []\n",
    "for i in range(0,dfData.shape[0]):\n",
    "    # Score from 1-5\n",
    "    qualScores5.append(calcQualScore(dfData.ix[i,'cdom'],dfData.ix[i,'price_margin'],dfData.ix[i,'escrow_length'], \\\n",
    "                                   dfData.ix[i,'sold_terms'], dfData.ix[i,'financing']))\n",
    "    # Score from 1-10\n",
    "    qualScores10.append(calcQualScore10(dfData.ix[i,'cdom'],dfData.ix[i,'price_margin'],dfData.ix[i,'escrow_length'], \\\n",
    "                                   dfData.ix[i,'sold_terms'], dfData.ix[i,'financing']))\n",
    "dfData['rqual_score5'] = pd.Series(data=qualScores5)\n",
    "dfData['rqual_score10'] = pd.Series(data=qualScores10)\n",
    "dfData.head()"
   ]
  },
  {
   "cell_type": "code",
   "execution_count": 35,
   "metadata": {
    "collapsed": false
   },
   "outputs": [],
   "source": [
    "# Prepare the data for training and testing\n",
    "X = dfData['property_description'].values\n",
    "y5 = dfData['rqual_score5'].values\n",
    "y10 = dfData['rqual_score10'].values\n",
    "\n",
    "# Get Train & Test data\n",
    "X_train, X_test, y5_train, y5_test = train_test_split(X, y5, test_size=0.33, random_state=42)\n",
    "X_train, X_test, y10_train, y10_test = train_test_split(X, y10, test_size=0.33, random_state=42)"
   ]
  },
  {
   "cell_type": "markdown",
   "metadata": {},
   "source": [
    "Let's look at the distribution of quality scores:"
   ]
  },
  {
   "cell_type": "code",
   "execution_count": 36,
   "metadata": {
    "collapsed": false
   },
   "outputs": [
    {
     "data": {
      "text/plain": [
       "4    2656\n",
       "3    2204\n",
       "5     304\n",
       "2     195\n",
       "1       1\n",
       "dtype: int64"
      ]
     },
     "execution_count": 36,
     "metadata": {},
     "output_type": "execute_result"
    }
   ],
   "source": [
    "pd.Series(data=y5_train).value_counts()"
   ]
  },
  {
   "cell_type": "code",
   "execution_count": 37,
   "metadata": {
    "collapsed": false
   },
   "outputs": [
    {
     "data": {
      "text/plain": [
       "<matplotlib.axes._subplots.AxesSubplot at 0x1328a4c90>"
      ]
     },
     "execution_count": 37,
     "metadata": {},
     "output_type": "execute_result"
    },
    {
     "data": {
      "image/png": "[encoded data removed]",
      "text/plain": [
       "<matplotlib.figure.Figure at 0x123673a90>"
      ]
     },
     "metadata": {},
     "output_type": "display_data"
    }
   ],
   "source": [
    "pd.Series(data=y5_train).hist()"
   ]
  },
  {
   "cell_type": "code",
   "execution_count": 38,
   "metadata": {
    "collapsed": false
   },
   "outputs": [
    {
     "data": {
      "text/plain": [
       "6     1539\n",
       "7     1502\n",
       "8     1003\n",
       "5      809\n",
       "9      310\n",
       "4      130\n",
       "3       37\n",
       "10      29\n",
       "2        1\n",
       "dtype: int64"
      ]
     },
     "execution_count": 38,
     "metadata": {},
     "output_type": "execute_result"
    }
   ],
   "source": [
    "pd.Series(data=y10_train).value_counts()"
   ]
  },
  {
   "cell_type": "code",
   "execution_count": 39,
   "metadata": {
    "collapsed": false
   },
   "outputs": [
    {
     "data": {
      "text/plain": [
       "<matplotlib.axes._subplots.AxesSubplot at 0x132877d90>"
      ]
     },
     "execution_count": 39,
     "metadata": {},
     "output_type": "execute_result"
    },
    {
     "data": {
      "image/png": "[encoded data removed]",
      "text/plain": [
       "<matplotlib.figure.Figure at 0x1323c6210>"
      ]
     },
     "metadata": {},
     "output_type": "display_data"
    }
   ],
   "source": [
    "pd.Series(data=y10_train).hist()"
   ]
  },
  {
   "cell_type": "markdown",
   "metadata": {},
   "source": [
    "Train our Naive Bayes models (for the 5 & 10 score), and then review the prediction result metrics:"
   ]
  },
  {
   "cell_type": "code",
   "execution_count": 40,
   "metadata": {
    "collapsed": false
   },
   "outputs": [
    {
     "name": "stdout",
     "output_type": "stream",
     "text": [
      "X_train_counts.shape:(5360, 11164)\n",
      "X_train_tfidf.shape: (5360, 11164)\n"
     ]
    }
   ],
   "source": [
    "count_vect = CountVectorizer()\n",
    "X_train_counts = count_vect.fit_transform(X_train)\n",
    "print 'X_train_counts.shape:' + str(X_train_counts.shape)\n",
    "\n",
    "tfidf_transformer = TfidfTransformer()\n",
    "X_train_tfidf = tfidf_transformer.fit_transform(X_train_counts)\n",
    "print 'X_train_tfidf.shape: ' + str(X_train_tfidf.shape)\n",
    "\n",
    "# Train our Naive Bayes model\n",
    "clf5 = MultinomialNB().fit(X_train_tfidf, y5_train)\n",
    "clf10 = MultinomialNB().fit(X_train_tfidf, y10_train)\n",
    "\n",
    "# Test our NB model\n",
    "X_test_counts = count_vect.transform(X_test)\n",
    "X_test_tfidf = tfidf_transformer.transform(X_test_counts)\n",
    "\n",
    "predicted5 = clf5.predict(X_test_tfidf)\n",
    "predicted10 = clf10.predict(X_test_tfidf)"
   ]
  },
  {
   "cell_type": "code",
   "execution_count": 41,
   "metadata": {
    "collapsed": false
   },
   "outputs": [
    {
     "name": "stdout",
     "output_type": "stream",
     "text": [
      "Confusion Matrix:\n",
      "\n",
      "Predicted  1  2    3     4  5  __all__\n",
      "Actual                                \n",
      "1          0  0    0     1  0        1\n",
      "2          0  0   13    79  0       92\n",
      "3          0  0  105   947  0     1052\n",
      "4          0  0   50  1288  0     1338\n",
      "5          0  0    4   154  0      158\n",
      "__all__    0  0  172  2469  0     2641\n",
      "\n",
      "\n",
      "Overall Statistics:\n",
      "\n",
      "Accuracy: 0.527451722832\n",
      "95% CI: (0.50820035491806381, 0.54664216487046713)\n",
      "No Information Rate: ToDo\n",
      "P-Value [Acc > NIR]: 1.0\n",
      "Kappa: 0.0557088483748\n",
      "Mcnemar's Test P-Value: ToDo\n",
      "\n",
      "\n",
      "Class Statistics:\n",
      "\n",
      "Classes                                          1          2          3  \\\n",
      "Population                                    2641       2641       2641   \n",
      "P: Condition positive                            1         92       1052   \n",
      "N: Condition negative                         2640       2549       1589   \n",
      "Test outcome positive                            0          0        172   \n",
      "Test outcome negative                         2641       2641       2469   \n",
      "TP: True Positive                                0          0        105   \n",
      "TN: True Negative                             2640       2549       1522   \n",
      "FP: False Positive                               0          0         67   \n",
      "FN: False Negative                               1         92        947   \n",
      "TPR: (Sensitivity, hit rate, recall)             0          0  0.0998099   \n",
      "TNR=SPC: (Specificity)                           1          1   0.957835   \n",
      "PPV: Pos Pred Value (Precision)                NaN        NaN   0.610465   \n",
      "NPV: Neg Pred Value                       0.999621   0.965165   0.616444   \n",
      "FPR: False-out                                   0          0  0.0421649   \n",
      "FDR: False Discovery Rate                      NaN        NaN   0.389535   \n",
      "FNR: Miss Rate                                   1          1    0.90019   \n",
      "ACC: Accuracy                             0.999621   0.965165   0.616055   \n",
      "F1 score                                         0          0   0.171569   \n",
      "MCC: Matthews correlation coefficient          NaN        NaN   0.114369   \n",
      "Informedness                                     0          0   0.057645   \n",
      "Markedness                                     NaN        NaN   0.226909   \n",
      "Prevalence                             0.000378644  0.0348353   0.398334   \n",
      "LR+: Positive likelihood ratio                 NaN        NaN    2.36713   \n",
      "LR-: Negative likelihood ratio                   1          1   0.939817   \n",
      "DOR: Diagnostic odds ratio                     NaN        NaN    2.51872   \n",
      "FOR: False omission rate               0.000378644  0.0348353   0.383556   \n",
      "\n",
      "Classes                                        4          5  \n",
      "Population                                  2641       2641  \n",
      "P: Condition positive                       1338        158  \n",
      "N: Condition negative                       1303       2483  \n",
      "Test outcome positive                       2469          0  \n",
      "Test outcome negative                        172       2641  \n",
      "TP: True Positive                           1288          0  \n",
      "TN: True Negative                            122       2483  \n",
      "FP: False Positive                          1181          0  \n",
      "FN: False Negative                            50        158  \n",
      "TPR: (Sensitivity, hit rate, recall)    0.962631          0  \n",
      "TNR=SPC: (Specificity)                 0.0936301          1  \n",
      "PPV: Pos Pred Value (Precision)         0.521669        NaN  \n",
      "NPV: Neg Pred Value                     0.709302   0.940174  \n",
      "FPR: False-out                           0.90637          0  \n",
      "FDR: False Discovery Rate               0.478331        NaN  \n",
      "FNR: Miss Rate                         0.0373692          1  \n",
      "ACC: Accuracy                           0.533889   0.940174  \n",
      "F1 score                                0.676648          0  \n",
      "MCC: Matthews correlation coefficient   0.113994        NaN  \n",
      "Informedness                           0.0562609          0  \n",
      "Markedness                              0.230971        NaN  \n",
      "Prevalence                              0.506626  0.0598258  \n",
      "LR+: Positive likelihood ratio           1.06207        NaN  \n",
      "LR-: Negative likelihood ratio          0.399115          1  \n",
      "DOR: Diagnostic odds ratio               2.66107        NaN  \n",
      "FOR: False omission rate                0.290698  0.0598258  \n"
     ]
    }
   ],
   "source": [
    "# Evaluate the results of the predictions: Range 1-5\n",
    "cm5 = ConfusionMatrix(y5_test, predicted5)\n",
    "cm5.print_stats()"
   ]
  },
  {
   "cell_type": "code",
   "execution_count": 42,
   "metadata": {
    "collapsed": false
   },
   "outputs": [
    {
     "name": "stdout",
     "output_type": "stream",
     "text": [
      "Confusion Matrix:\n",
      "\n",
      "Predicted  2  3  4  5     6     7  8  9  10  __all__\n",
      "Actual                                              \n",
      "2          0  0  0  0     0     1  0  0   0        1\n",
      "3          0  0  0  0    20     7  0  0   0       27\n",
      "4          0  0  0  0    40    21  0  0   0       61\n",
      "5          0  0  0  0   269   133  0  0   0      402\n",
      "6          0  0  0  0   445   262  2  0   0      709\n",
      "7          0  0  0  0   394   354  0  0   0      748\n",
      "8          0  0  0  0   271   243  3  0   0      517\n",
      "9          0  0  0  0    75    88  1  0   0      164\n",
      "10         0  0  0  0     4     8  0  0   0       12\n",
      "__all__    0  0  0  0  1518  1117  6  0   0     2641\n",
      "\n",
      "\n",
      "Overall Statistics:\n",
      "\n",
      "Accuracy: 0.303672851193\n",
      "95% CI: (0.28617135291477369, 0.32161055490754187)\n",
      "No Information Rate: ToDo\n",
      "P-Value [Acc > NIR]: 1.0\n",
      "Kappa: 0.0401584900873\n",
      "Mcnemar's Test P-Value: ToDo\n",
      "\n",
      "\n",
      "Class Statistics:\n",
      "\n",
      "Classes                                         2          3          4   \\\n",
      "Population                                    2641       2641       2641   \n",
      "P: Condition positive                            1         27         61   \n",
      "N: Condition negative                         2640       2614       2580   \n",
      "Test outcome positive                            0          0          0   \n",
      "Test outcome negative                         2641       2641       2641   \n",
      "TP: True Positive                                0          0          0   \n",
      "TN: True Negative                             2640       2614       2580   \n",
      "FP: False Positive                               0          0          0   \n",
      "FN: False Negative                               1         27         61   \n",
      "TPR: (Sensitivity, hit rate, recall)             0          0          0   \n",
      "TNR=SPC: (Specificity)                           1          1          1   \n",
      "PPV: Pos Pred Value (Precision)                NaN        NaN        NaN   \n",
      "NPV: Neg Pred Value                       0.999621   0.989777   0.976903   \n",
      "FPR: False-out                                   0          0          0   \n",
      "FDR: False Discovery Rate                      NaN        NaN        NaN   \n",
      "FNR: Miss Rate                                   1          1          1   \n",
      "ACC: Accuracy                             0.999621   0.989777   0.976903   \n",
      "F1 score                                         0          0          0   \n",
      "MCC: Matthews correlation coefficient          NaN        NaN        NaN   \n",
      "Informedness                                     0          0          0   \n",
      "Markedness                                     NaN        NaN        NaN   \n",
      "Prevalence                             0.000378644  0.0102234  0.0230973   \n",
      "LR+: Positive likelihood ratio                 NaN        NaN        NaN   \n",
      "LR-: Negative likelihood ratio                   1          1          1   \n",
      "DOR: Diagnostic odds ratio                     NaN        NaN        NaN   \n",
      "FOR: False omission rate               0.000378644  0.0102234  0.0230973   \n",
      "\n",
      "Classes                                      5          6          7   \\\n",
      "Population                                 2641       2641       2641   \n",
      "P: Condition positive                       402        709        748   \n",
      "N: Condition negative                      2239       1932       1893   \n",
      "Test outcome positive                         0       1518       1117   \n",
      "Test outcome negative                      2641       1123       1524   \n",
      "TP: True Positive                             0        445        354   \n",
      "TN: True Negative                          2239        859       1130   \n",
      "FP: False Positive                            0       1073        763   \n",
      "FN: False Negative                          402        264        394   \n",
      "TPR: (Sensitivity, hit rate, recall)          0   0.627645   0.473262   \n",
      "TNR=SPC: (Specificity)                        1   0.444617   0.596936   \n",
      "PPV: Pos Pred Value (Precision)             NaN   0.293149    0.31692   \n",
      "NPV: Neg Pred Value                    0.847785   0.764915    0.74147   \n",
      "FPR: False-out                                0   0.555383   0.403064   \n",
      "FDR: False Discovery Rate                   NaN   0.706851    0.68308   \n",
      "FNR: Miss Rate                                1   0.372355   0.526738   \n",
      "ACC: Accuracy                          0.847785   0.493752   0.561908   \n",
      "F1 score                                      0   0.399641   0.379625   \n",
      "MCC: Matthews correlation coefficient       NaN  0.0647751  0.0640225   \n",
      "Informedness                                  0  0.0722615  0.0701981   \n",
      "Markedness                                  NaN  0.0580643  0.0583901   \n",
      "Prevalence                             0.152215   0.268459   0.283226   \n",
      "LR+: Positive likelihood ratio              NaN    1.13011    1.17416   \n",
      "LR-: Negative likelihood ratio                1   0.837475   0.882403   \n",
      "DOR: Diagnostic odds ratio                  NaN    1.34943    1.33064   \n",
      "FOR: False omission rate               0.152215   0.235085    0.25853   \n",
      "\n",
      "Classes                                        8          9           10  \n",
      "Population                                   2641       2641        2641  \n",
      "P: Condition positive                         517        164          12  \n",
      "N: Condition negative                        2124       2477        2629  \n",
      "Test outcome positive                           6          0           0  \n",
      "Test outcome negative                        2635       2641        2641  \n",
      "TP: True Positive                               3          0           0  \n",
      "TN: True Negative                            2121       2477        2629  \n",
      "FP: False Positive                              3          0           0  \n",
      "FN: False Negative                            514        164          12  \n",
      "TPR: (Sensitivity, hit rate, recall)   0.00580271          0           0  \n",
      "TNR=SPC: (Specificity)                   0.998588          1           1  \n",
      "PPV: Pos Pred Value (Precision)               0.5        NaN         NaN  \n",
      "NPV: Neg Pred Value                      0.804934   0.937902    0.995456  \n",
      "FPR: False-out                         0.00141243          0           0  \n",
      "FDR: False Discovery Rate                     0.5        NaN         NaN  \n",
      "FNR: Miss Rate                           0.994197          1           1  \n",
      "ACC: Accuracy                            0.804241   0.937902    0.995456  \n",
      "F1 score                                0.0114723          0           0  \n",
      "MCC: Matthews correlation coefficient   0.0365888        NaN         NaN  \n",
      "Informedness                           0.00439028          0           0  \n",
      "Markedness                               0.304934        NaN         NaN  \n",
      "Prevalence                               0.195759  0.0620977  0.00454373  \n",
      "LR+: Positive likelihood ratio            4.10832        NaN         NaN  \n",
      "LR-: Negative likelihood ratio           0.995604          1           1  \n",
      "DOR: Diagnostic odds ratio                4.12646        NaN         NaN  \n",
      "FOR: False omission rate                 0.195066  0.0620977  0.00454373  \n"
     ]
    }
   ],
   "source": [
    "# Evaluate the results of the predictions: Range 1-5\n",
    "cm10 = ConfusionMatrix(y10_test, predicted10)\n",
    "cm10.print_stats()"
   ]
  },
  {
   "cell_type": "code",
   "execution_count": 43,
   "metadata": {
    "collapsed": false
   },
   "outputs": [
    {
     "name": "stdout",
     "output_type": "stream",
     "text": [
      "X_train_counts.shape:(8001, 13151)\n",
      "X_train_tfidf.shape: (8001, 13151)\n",
      "Scores5: [ 0.50355939  0.51106112  0.50281426]\n",
      "Scores10: [ 0.28988764  0.31221889  0.30078858]\n"
     ]
    }
   ],
   "source": [
    "# Perform some cross validation to verify findings.\n",
    "X_counts = count_vect.fit_transform(X)\n",
    "print 'X_train_counts.shape:' + str(X_counts.shape)\n",
    "\n",
    "tfidf_transformer = TfidfTransformer()\n",
    "X_tfidf = tfidf_transformer.fit_transform(X_counts)\n",
    "print 'X_train_tfidf.shape: ' + str(X_tfidf.shape)\n",
    "\n",
    "scores5 = cross_val_score(clf5, X_tfidf, y5)\n",
    "print 'Scores5: ' + str(scores5)\n",
    "\n",
    "scores10 = cross_val_score(clf10, X_tfidf, y10)\n",
    "print 'Scores10: ' + str(scores10)"
   ]
  },
  {
   "cell_type": "code",
   "execution_count": 44,
   "metadata": {
    "collapsed": false
   },
   "outputs": [
    {
     "data": {
      "text/plain": [
       "4    3994\n",
       "3    3256\n",
       "5     462\n",
       "2     287\n",
       "1       2\n",
       "Name: rqual_score5, dtype: int64"
      ]
     },
     "execution_count": 44,
     "metadata": {},
     "output_type": "execute_result"
    }
   ],
   "source": [
    "dfData['rqual_score5'].value_counts()"
   ]
  },
  {
   "cell_type": "code",
   "execution_count": 45,
   "metadata": {
    "collapsed": false
   },
   "outputs": [
    {
     "data": {
      "text/plain": [
       "<matplotlib.axes._subplots.AxesSubplot at 0x1323c67d0>"
      ]
     },
     "execution_count": 45,
     "metadata": {},
     "output_type": "execute_result"
    },
    {
     "data": {
      "image/png": "[encoded data removed]",
      "text/plain": [
       "<matplotlib.figure.Figure at 0x10171b250>"
      ]
     },
     "metadata": {},
     "output_type": "display_data"
    }
   ],
   "source": [
    "dfData['rqual_score5'].hist()"
   ]
  },
  {
   "cell_type": "code",
   "execution_count": 46,
   "metadata": {
    "collapsed": false
   },
   "outputs": [
    {
     "data": {
      "text/plain": [
       "4    2469\n",
       "3     172\n",
       "dtype: int64"
      ]
     },
     "execution_count": 46,
     "metadata": {},
     "output_type": "execute_result"
    }
   ],
   "source": [
    "pd.Series(data=predicted5).value_counts()"
   ]
  },
  {
   "cell_type": "code",
   "execution_count": 47,
   "metadata": {
    "collapsed": false
   },
   "outputs": [
    {
     "data": {
      "text/plain": [
       "<matplotlib.axes._subplots.AxesSubplot at 0x12fe7fd50>"
      ]
     },
     "execution_count": 47,
     "metadata": {},
     "output_type": "execute_result"
    },
    {
     "data": {
      "image/png": "[encoded data removed]",
      "text/plain": [
       "<matplotlib.figure.Figure at 0x131e32050>"
      ]
     },
     "metadata": {},
     "output_type": "display_data"
    }
   ],
   "source": [
    "pd.Series(data=predicted5).hist()"
   ]
  },
  {
   "cell_type": "code",
   "execution_count": 48,
   "metadata": {
    "collapsed": false
   },
   "outputs": [
    {
     "data": {
      "text/plain": [
       "7     2250\n",
       "6     2248\n",
       "8     1520\n",
       "5     1211\n",
       "9      474\n",
       "4      191\n",
       "3       64\n",
       "10      41\n",
       "2        2\n",
       "Name: rqual_score10, dtype: int64"
      ]
     },
     "execution_count": 48,
     "metadata": {},
     "output_type": "execute_result"
    }
   ],
   "source": [
    "dfData['rqual_score10'].value_counts()"
   ]
  },
  {
   "cell_type": "code",
   "execution_count": 49,
   "metadata": {
    "collapsed": false
   },
   "outputs": [
    {
     "data": {
      "text/plain": [
       "<matplotlib.axes._subplots.AxesSubplot at 0x13187ae50>"
      ]
     },
     "execution_count": 49,
     "metadata": {},
     "output_type": "execute_result"
    },
    {
     "data": {
      "image/png": "[encoded data removed]",
      "text/plain": [
       "<matplotlib.figure.Figure at 0x12ef2e7d0>"
      ]
     },
     "metadata": {},
     "output_type": "display_data"
    }
   ],
   "source": [
    "dfData['rqual_score10'].hist()"
   ]
  },
  {
   "cell_type": "code",
   "execution_count": 50,
   "metadata": {
    "collapsed": false
   },
   "outputs": [
    {
     "data": {
      "text/plain": [
       "6    1518\n",
       "7    1117\n",
       "8       6\n",
       "dtype: int64"
      ]
     },
     "execution_count": 50,
     "metadata": {},
     "output_type": "execute_result"
    }
   ],
   "source": [
    "pd.Series(data=predicted10).value_counts()"
   ]
  },
  {
   "cell_type": "code",
   "execution_count": 51,
   "metadata": {
    "collapsed": false
   },
   "outputs": [
    {
     "data": {
      "text/plain": [
       "<matplotlib.axes._subplots.AxesSubplot at 0x12ef0da90>"
      ]
     },
     "execution_count": 51,
     "metadata": {},
     "output_type": "execute_result"
    },
    {
     "data": {
      "image/png": "[encoded data removed]",
      "text/plain": [
       "<matplotlib.figure.Figure at 0x130c91d90>"
      ]
     },
     "metadata": {},
     "output_type": "display_data"
    }
   ],
   "source": [
    "pd.Series(data=predicted10).hist()"
   ]
  },
  {
   "cell_type": "markdown",
   "metadata": {
    "collapsed": true
   },
   "source": [
    "## Results of Naive Bayes Classification predictor:\n",
    "\n",
    "See a detailed explanation of the results of this model at https://docs.google.com/document/d/1UXa65kZc9XRZos21PUOtSPgLyLtPQkMsB0fXwEcX3p4/edit?usp=sharing"
   ]
  },
  {
   "cell_type": "markdown",
   "metadata": {
    "collapsed": true
   },
   "source": [
    "## Using Gensim's Word2Vec, create a model and perform \"queries\" against it."
   ]
  },
  {
   "cell_type": "code",
   "execution_count": 7,
   "metadata": {
    "collapsed": false
   },
   "outputs": [],
   "source": [
    "# Get the property descriptions to process into sentence tokens.\n",
    "query = 'select geo_listings.geo_code, \\\n",
    "        geo_listings.mls_id, \\\n",
    "        listings.property_description \\\n",
    "        from listings \\\n",
    "        join geo_listings \\\n",
    "        on listings.mls_id = geo_listings.mls_id \\\n",
    "        order by geo_listings.geo_code asc, geo_listings.mls_id;'\n",
    "dfData = pd.read_sql(sql=query,con=conn)"
   ]
  },
  {
   "cell_type": "code",
   "execution_count": 8,
   "metadata": {
    "collapsed": false
   },
   "outputs": [],
   "source": [
    "# Build the sentence lists with each property description, split into sentence tokens.\n",
    "sp = docProcessor(rtnType='sentence',stopwordList=stops)\n",
    "sentenceList = []\n",
    "for row in range(0,dfData.shape[0]):\n",
    "    property_description = dfData.ix[row,'property_description']\n",
    "    sentenceList.append(sp.transform(property_description))\n",
    "\n",
    "# The previous loop created nested lists, 3 levels deep.  We only want it 2 levels deep, so collapse by 1 dimension.\n",
    "flatSentenceList = []\n",
    "for level2List in sentenceList:\n",
    "    for level1List in level2List:\n",
    "        flatSentenceList.append(level1List)"
   ]
  },
  {
   "cell_type": "code",
   "execution_count": 9,
   "metadata": {
    "collapsed": true
   },
   "outputs": [],
   "source": [
    "# Create the Word2Vec model.\n",
    "model_unigram = models.Word2Vec(sentences = flatSentenceList,iter=5)"
   ]
  },
  {
   "cell_type": "code",
   "execution_count": 10,
   "metadata": {
    "collapsed": false
   },
   "outputs": [
    {
     "data": {
      "text/plain": [
       "[('swimming', 0.6435667872428894),\n",
       " ('sparkling', 0.5762478113174438),\n",
       " ('clubhouse', 0.5725579261779785),\n",
       " ('sauna', 0.5663540363311768),\n",
       " ('poolspa', 0.563408613204956)]"
      ]
     },
     "execution_count": 10,
     "metadata": {},
     "output_type": "execute_result"
    }
   ],
   "source": [
    "model_unigram.most_similar(positive=['house','pool'],topn=5)"
   ]
  },
  {
   "cell_type": "markdown",
   "metadata": {},
   "source": [
    "Try training the Word2Vec model with bigrams too."
   ]
  },
  {
   "cell_type": "code",
   "execution_count": 11,
   "metadata": {
    "collapsed": false
   },
   "outputs": [],
   "source": [
    "bigram_transformer = Phrases(sentences=flatSentenceList)\n",
    "model_bigram = models.Word2Vec(bigram_transformer[flatSentenceList], iter=5)"
   ]
  },
  {
   "cell_type": "code",
   "execution_count": 12,
   "metadata": {
    "collapsed": false
   },
   "outputs": [
    {
     "data": {
      "text/plain": [
       "[(u'alarm', 0.9886112809181213),\n",
       " (u'hvac', 0.984927773475647),\n",
       " (u'year_old', 0.984806478023529),\n",
       " (u'solar_panels', 0.9847853779792786),\n",
       " (u'high_efficiency', 0.983464777469635)]"
      ]
     },
     "execution_count": 12,
     "metadata": {},
     "output_type": "execute_result"
    }
   ],
   "source": [
    "model_bigram.most_similar(positive=['foundation','electrical'], topn=5)"
   ]
  },
  {
   "cell_type": "code",
   "execution_count": null,
   "metadata": {
    "collapsed": true
   },
   "outputs": [],
   "source": []
  }
 ],
 "metadata": {
  "kernelspec": {
   "display_name": "Python 2",
   "language": "python",
   "name": "python2"
  },
  "language_info": {
   "codemirror_mode": {
    "name": "ipython",
    "version": 2
   },
   "file_extension": ".py",
   "mimetype": "text/x-python",
   "name": "python",
   "nbconvert_exporter": "python",
   "pygments_lexer": "ipython2",
   "version": "2.7.11"
  }
 },
 "nbformat": 4,
 "nbformat_minor": 0
}
